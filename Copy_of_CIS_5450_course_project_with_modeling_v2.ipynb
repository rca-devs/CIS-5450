{
  "cells": [
    {
      "cell_type": "markdown",
      "metadata": {
        "id": "Q91QJbu9vHeg"
      },
      "source": [
        "![alt text](https://esap.seas.upenn.edu/wp-content/themes/summer_engineering/media/seas_logo.png)"
      ]
    },
    {
      "cell_type": "markdown",
      "metadata": {
        "id": "jShubM_Vhr4t"
      },
      "source": [
        "#Introduction\n",
        "\n",
        "Welcome to our course project for CIS-5450 (Big Data Analytics)!\n",
        "\n",
        "Our team consists of:\n",
        "\n",
        "*   Ryan Abbate (MSE-DS, inaugural cohort)\n",
        "*   Paul Hamel (MCIT, Spring 2022 cohort)\n",
        "*   Milan Mistry (MCIT, Fall 2021 cohort)\n",
        "\n",
        "<br>\n",
        "For this project, we built machine learning models that predict a borrower's propensity to default on a loan. Throughout this notebook, we walk through our end-to-end process, which included:\n",
        "\n",
        "* data ingestion\n",
        "* exploratory data analysis (EDA)\n",
        "* data wrangling\n",
        "* data cleaning\n",
        "* machine learning modeling\n",
        "* data visualization\n"
      ]
    },
    {
      "cell_type": "markdown",
      "metadata": {
        "id": "X_YFZzMcs0Z7"
      },
      "source": [
        "# Motivation\n",
        "\n",
        "Individuals with insufficient or non-existent credit histories often encounter challenges in securing loans.  Those fortunate enough to obtain loans may fall victim to unscrupulous lenders who impose exorbitant interest rates and unfavorable lending terms.\n",
        "\n",
        "Lenders generally aim to optimize profits while minimizing potential risks.  Lenders that use *accurate* predictive models when assessing default risk among certain customer profiles are able to extend credit to borrowers who may not meet traditional lending standards.  This data-driven approach ensures that borrowers who are capable of loan repayment receive the capital that they need, which has a stimulative effect on economic activity.\n"
      ]
    },
    {
      "cell_type": "markdown",
      "metadata": {
        "id": "Rvj4Yh5ezXMu"
      },
      "source": [
        "# Data Source\n",
        "\n",
        "For this project, we used loan repayment data from a Kaggle competition hosted by [Home Credit Group](https://www.homecredit.net/) in 2018.  Details about the competition may be found [here](https://www.kaggle.com/competitions/home-credit-default-risk/overview).  The data consists of nine (9) csv files totaling approximately 3GB in size.  "
      ]
    },
    {
      "cell_type": "markdown",
      "metadata": {
        "id": "cy7njrD2z8W9"
      },
      "source": [
        "# Data Ingestion\n",
        "\n",
        "To retrieve and ingest the data from Kaggle's public API, users must authenticate with an API token.  To create an API token, please follow the instructions outlined [here](https://www.kaggle.com/competitions/home-credit-default-risk/overview).  The API token will be in the form of a JSON file named `kaggle.json`.  "
      ]
    },
    {
      "cell_type": "markdown",
      "metadata": {
        "id": "i_wVS6J41fe0"
      },
      "source": [
        "#Dependencies\n",
        "\n",
        "Let's begin by installing the required dependencies.\n"
      ]
    },
    {
      "cell_type": "code",
      "execution_count": null,
      "metadata": {
        "id": "_rJcEMX7vsJP"
      },
      "outputs": [],
      "source": [
        "# install dependencies with silenced output\n",
        "!pip install kaggle --quiet\n",
        "!pip install tqdm --quiet"
      ]
    },
    {
      "cell_type": "code",
      "execution_count": null,
      "metadata": {
        "id": "MI6LUI6VOgBk"
      },
      "outputs": [],
      "source": []
    },
    {
      "cell_type": "markdown",
      "metadata": {
        "id": "Y5zHQTNX1ra9"
      },
      "source": [
        "Next, we import the Python libraries that we'll use for this project."
      ]
    },
    {
      "cell_type": "code",
      "execution_count": null,
      "metadata": {
        "id": "2JFfwc4NoTRK"
      },
      "outputs": [],
      "source": [
        "# import the required libraries\n",
        "\n",
        "# general\n",
        "from google.colab import drive\n",
        "from tqdm.notebook import tqdm\n",
        "import os\n",
        "\n",
        "\n",
        "# data wrangling, cleaning and sampling\n",
        "from imblearn.over_sampling import RandomOverSampler\n",
        "from imblearn.under_sampling import RandomUnderSampler\n",
        "import numpy as np\n",
        "import pandas as pd\n",
        "\n",
        "# preprocessing\n",
        "from sklearn.pipeline import make_pipeline\n",
        "from sklearn.pipeline import Pipeline\n",
        "from sklearn.preprocessing import StandardScaler\n",
        "from sklearn.preprocessing import scale\n",
        "\n",
        "# model selection\n",
        "from sklearn.model_selection import train_test_split\n",
        "\n",
        "# models\n",
        "from sklearn.decomposition import PCA\n",
        "\n",
        "from sklearn.ensemble import RandomForestClassifier\n",
        "from sklearn.ensemble import GradientBoostingClassifier\n",
        "\n",
        "from sklearn.linear_model import ElasticNet\n",
        "from sklearn.linear_model import Lasso\n",
        "from sklearn.linear_model import LinearRegression\n",
        "from sklearn.linear_model import LogisticRegression\n",
        "from sklearn.linear_model import Ridge\n",
        "\n",
        "from sklearn.neighbors import KNeighborsClassifier\n",
        "\n",
        "from sklearn.svm import SVC\n",
        "\n",
        "from sklearn.tree import DecisionTreeClassifier\n",
        "\n",
        "from xgboost.sklearn import XGBClassifier\n",
        "\n",
        "# model tuning\n",
        "from sklearn.model_selection import GridSearchCV\n",
        "\n",
        "# metrics\n",
        "from sklearn.metrics import accuracy_score\n",
        "from sklearn.metrics import classification_report\n",
        "from sklearn.metrics import confusion_matrix\n",
        "from sklearn.metrics import f1_score\n",
        "from sklearn.metrics import mean_squared_error\n",
        "from sklearn.metrics import precision_score\n",
        "from sklearn.metrics import recall_score\n",
        "from sklearn.metrics import roc_auc_score\n",
        "from sklearn.metrics import roc_curve\n",
        "\n",
        "# visualization\n",
        "from matplotlib import colors\n",
        "from matplotlib import lines\n",
        "import matplotlib as mpl\n",
        "import matplotlib.pyplot as plt\n",
        "import matplotlib.dates as mdates\n",
        "import matplotlib.lines as mlines\n",
        "import matplotlib.ticker as mtick\n",
        "import seaborn as sns\n"
      ]
    },
    {
      "cell_type": "code",
      "execution_count": null,
      "metadata": {
        "id": "XFE8NXK4wXpQ"
      },
      "outputs": [],
      "source": [
        "# Graph Settings\n",
        "\n",
        "mpl.rcParams['figure.figsize'] = [12,6]\n",
        "mpl.rcParams['figure.dpi'] = 80\n",
        "mpl.rcParams['savefig.dpi'] = 100\n",
        "mpl.rcParams['axes.titlesize'] = 18\n",
        "mpl.rcParams['axes.titleweight'] = 'bold'\n",
        "mpl.rcParams['axes.titlepad'] = 25\n",
        "mpl.rcParams['axes.labelsize'] = 12\n",
        "mpl.rcParams['axes.labelweight'] = 'normal'\n",
        "mpl.rcParams['legend.fontsize'] = 12\n",
        "mpl.rcParams['text.usetex'] = False\n",
        "mpl.rcParams['figure.titleweight'] = 'normal'\n",
        "mpl.rcParams['font.family'] = 'Sans'\n",
        "mpl.rcParams['font.weight'] = 'normal'\n",
        "mpl.rcParams['font.size'] = 12\n",
        "mpl.rcParams['axes.spines.top'] = False\n",
        "mpl.rcParams['axes.spines.left'] = True\n",
        "mpl.rcParams['axes.spines.right'] = 0\n",
        "mpl.rcParams['ytick.labelleft'] = True\n",
        "mpl.rcParams['ytick.left'] = True\n",
        "mpl.rcParams['ytick.color'] = 'lightgrey'\n",
        "mpl.rcParams['xtick.color'] = 'lightgrey'\n",
        "mpl.rcParams['text.color'] = 'lightgrey'\n",
        "mpl.rcParams['axes.titlecolor'] = 'lightgrey'\n",
        "mpl.rcParams['axes.labelcolor'] = 'lightgrey'\n",
        "mpl.rcParams['axes.edgecolor'] = 'lightgrey'\n",
        "\n",
        "mpl.rcParams['date.autoformatter.year'] = '%Y'\n",
        "mpl.rcParams['date.autoformatter.month'] = '%b-%Y'\n",
        "#change background color to transparent\n",
        "mpl.rcParams['figure.facecolor'] = '#282c34'\n",
        "#change plot foreground color to grey\n",
        "mpl.rcParams['axes.facecolor'] = '#282c34'\n",
        "\n",
        "#mpl.rcParams['axes.prop_cycle'] = mpl.cycler(color=[\"#00396f\", \"#a12830\", '#00ab39',\"#ffe312\",'#c41e98','#008000','#ff5e00','#00a6d4','#6c1b72'])\n",
        "#change default color cycler to ggplot\n",
        "mpl.rcParams['axes.prop_cycle'] = mpl.cycler(color=['#57D7BA','#f78948','#87CEFA','#B18FCF','#fe5555','#2F3F4D'])\n",
        "mpl.rcParams['lines.linewidth'] = 2\n",
        "colors = ['#57D7BA','#f78948','#87CEFA','#B18FCF','#fe5555','#2F3F4D']\n",
        "#colors = [\"#00396f\", \"#a12830\", '#00ab39',\"#ffe312\",'#c41e98','#008000','#ff5e00','#00a6d4','#6c1b72']"
      ]
    },
    {
      "cell_type": "markdown",
      "metadata": {
        "id": "XSm1NiIW16_W"
      },
      "source": [
        "Run the cell below, then click \"Choose Files\".  Browse to the `kaggle.json` file, then select this file for upload."
      ]
    },
    {
      "cell_type": "code",
      "execution_count": null,
      "metadata": {
        "id": "g8jC4W4wymkO"
      },
      "outputs": [],
      "source": [
        "# # upload your Kaggle API key to download the data\n",
        "# from google.colab import files\n",
        "# files.upload()\n"
      ]
    },
    {
      "cell_type": "markdown",
      "metadata": {
        "id": "da6AnFAH3Cih"
      },
      "source": [
        "Next, we'll create a Kaggle directory and copy the file containing our API token into the newly created directory."
      ]
    },
    {
      "cell_type": "code",
      "execution_count": null,
      "metadata": {
        "id": "k-hsoE5dymyg"
      },
      "outputs": [],
      "source": [
        "# # create the Kaggle directory\n",
        "# !mkdir ~/.kaggle\n",
        "\n",
        "# # copy the file containing API key to newly created directory and change file permissions\n",
        "# !cp /content/kaggle.json ~/.kaggle/\n",
        "# !chmod 600 /root/.kaggle/kaggle.json"
      ]
    },
    {
      "cell_type": "markdown",
      "metadata": {
        "id": "LhXLNUsW3YP3"
      },
      "source": [
        "We'll now download the dataset in the form of a zip file."
      ]
    },
    {
      "cell_type": "code",
      "execution_count": null,
      "metadata": {
        "id": "0Vd_PrKmy_8-"
      },
      "outputs": [],
      "source": [
        "# # download the dataset\n",
        "# !!kaggle competitions download -c home-credit-default-risk"
      ]
    },
    {
      "cell_type": "markdown",
      "metadata": {
        "id": "5kUvB2Ww3hnT"
      },
      "source": [
        "After downloading the dataset, we'll unzip the file into our `Content` directory."
      ]
    },
    {
      "cell_type": "code",
      "execution_count": null,
      "metadata": {
        "id": "Lj6q2-rhzAAV"
      },
      "outputs": [],
      "source": [
        "# # unzip the zip file into the Content directory\n",
        "# !unzip /content/home-credit-default-risk.zip"
      ]
    },
    {
      "cell_type": "markdown",
      "metadata": {
        "id": "Ejk_pwFn4S1C"
      },
      "source": [
        "Now, we'll identify the files that we'll use during our analysis and exclude those that are irrelevant."
      ]
    },
    {
      "cell_type": "code",
      "execution_count": null,
      "metadata": {
        "colab": {
          "base_uri": "https://localhost:8080/"
        },
        "id": "_qTuPTdMTopY",
        "outputId": "29625992-22dc-48a7-ca87-cae88aa0450c"
      },
      "outputs": [],
      "source": [
        "# the list of files to exclude from relevant data files\n",
        "excluded_files = ['kaggle.json', 'home-credit-default-risk.zip', '.config', 'sample_data', 'sample_submission.csv', 'HomeCredit_columns_description.csv']\n",
        "\n",
        "# create a list of relevant data files\n",
        "data_files = [data_file for data_file in os.listdir('/content') if data_file not in excluded_files]\n",
        "data_files\n"
      ]
    },
    {
      "cell_type": "markdown",
      "metadata": {
        "id": "vskt8CZD4j2s"
      },
      "source": [
        "After identifying the relevant eight (8) data files, we'll create a Pandas dataframe for each.  Notice that we create an empty dictionary `d`, then iterate through the list of relevant file and append `_df` to the file name when assigning the name of the dataframe.  We use the popular `tqdm` library to monitor progress as the dataframes are being created."
      ]
    },
    {
      "cell_type": "code",
      "execution_count": null,
      "metadata": {
        "colab": {
          "base_uri": "https://localhost:8080/",
          "height": 188,
          "referenced_widgets": [
            "b7e8d6d31a2c4a26b39a852db3ea6ac9",
            "f41c6bc0979f4cb7b0b9a5e20d5c7052",
            "17c4fca577f6470e82c5155446251960",
            "141d772f68454cd992e19bbb2d5dbdff",
            "2e0d5fdfa25e4ab6982ea502f59bbaff",
            "e75106e035764330adfef2360a5517c9",
            "2f8cc31d20da478cb6df1d07331c4b36",
            "323cadcdc7ed4954b9aaaafb571bee1c",
            "1760dcf5edf64c9dbaf68a3e703e3f3d",
            "fdb968d243044321ac5d2cd99bd74786",
            "197ddbd588b744b5b6e2268187397601"
          ]
        },
        "id": "_vQl41TgiRxq",
        "outputId": "4df71888-3ac6-40d2-e291-6bd923145997"
      },
      "outputs": [],
      "source": [
        "# iterate over list of relevant data files and create a Pandas dataframe for each\n",
        "\n",
        "d = {}\n",
        "\n",
        "for data_file in tqdm(data_files):\n",
        "  # if 'bureau' in data_file:\n",
        "  #   continue\n",
        "  print('Creating:', data_file.removesuffix('.csv') + '_df')\n",
        "  d[(data_file.removesuffix('.csv') + '_df').lower()] = pd.read_csv(data_file)\n"
      ]
    },
    {
      "cell_type": "code",
      "execution_count": null,
      "metadata": {
        "id": "93p1rbHswXpV"
      },
      "outputs": [],
      "source": [
        "# # #For Paul when running locally -- ignore this\n",
        "d = {}\n",
        "d['application_test_df'] = pd.read_csv('./data/application_test.csv', encoding='latin-1')\n",
        "d['application_train_df'] = pd.read_csv('./data/application_train.csv', encoding='latin-1')\n",
        "# d['bureau_df'] = pd.read_csv('./data/bureau.csv', encoding='latin-1')\n",
        "# d['bureau_balance_df'] = pd.read_csv('./data/bureau_balance.csv', encoding='latin-1')\n",
        "d['credit_card_balance_df'] = pd.read_csv('./data/credit_card_balance.csv', encoding='latin-1')\n",
        "d['installments_payments_df'] = pd.read_csv('./data/installments_payments.csv', encoding='latin-1')\n",
        "d['pos_cash_balance_df'] = pd.read_csv('./data/POS_CASH_balance.csv', encoding='latin-1')\n",
        "d['previous_application_df'] = pd.read_csv('./data/previous_application.csv', encoding='latin-1')"
      ]
    },
    {
      "cell_type": "markdown",
      "metadata": {
        "id": "cP1CmX7i5QiS"
      },
      "source": [
        "Since we stored the dataframes in a dictionary `d`, we access a given dataframe by its key.  Let's inspect the data."
      ]
    },
    {
      "cell_type": "code",
      "execution_count": null,
      "metadata": {
        "colab": {
          "base_uri": "https://localhost:8080/",
          "height": 193
        },
        "id": "01wa9k-CcXE-",
        "outputId": "22fa1014-1d09-4144-92d9-58edbf940aac"
      },
      "outputs": [],
      "source": [
        "# access dataframes via a dictionary such as d['application_train_df']\n",
        "d['application_train_df'].head(3)"
      ]
    },
    {
      "cell_type": "code",
      "execution_count": null,
      "metadata": {
        "colab": {
          "base_uri": "https://localhost:8080/"
        },
        "id": "hOKvuFNuduS8",
        "outputId": "afcb1ad9-b224-4e1e-b924-de8c40bbf2c6"
      },
      "outputs": [],
      "source": [
        "# inspect all dataframes\n",
        "for key, df in d.items():\n",
        "  print(key)\n",
        "  print('\\n')\n",
        "  print(df.head())\n",
        "  print('\\n')\n"
      ]
    },
    {
      "cell_type": "code",
      "execution_count": null,
      "metadata": {
        "id": "VorzW3yQfpxa"
      },
      "outputs": [],
      "source": [
        "# cast all column headers to lowercase\n",
        "for key, df in d.items():\n",
        "  df.columns = df.columns.str.lower()\n"
      ]
    },
    {
      "cell_type": "markdown",
      "metadata": {
        "id": "XOofxi5EK-kK"
      },
      "source": [
        "#Exploratory Data Analysis (EDA)\n",
        "\n",
        "We start by exploring the basic characteristics of the various datasets.  For each dataframe, we call the `info()` method to display the data type and non-null counts.  We also call the `describe()` method to display the summary statistics."
      ]
    },
    {
      "cell_type": "code",
      "execution_count": null,
      "metadata": {
        "colab": {
          "base_uri": "https://localhost:8080/"
        },
        "id": "VLb8WBFRYrol",
        "outputId": "03f7e4c9-f378-48d8-ceca-f8638743552b"
      },
      "outputs": [],
      "source": [
        "for key, df in d.items():\n",
        "  print(key)\n",
        "  df.info(verbose = True, show_counts = True)\n",
        "  print('-' * 72)"
      ]
    },
    {
      "cell_type": "markdown",
      "metadata": {
        "id": "WkF_MFYyxXwp"
      },
      "source": [
        "For each dataframe, let's check the percent of missing values for each attribute."
      ]
    },
    {
      "cell_type": "code",
      "execution_count": null,
      "metadata": {
        "colab": {
          "base_uri": "https://localhost:8080/"
        },
        "id": "P5gYM4N-xktk",
        "outputId": "66e4013a-72c9-40fd-db1b-9ace2104cd68"
      },
      "outputs": [],
      "source": [
        "for key, df in d.items():\n",
        "  print(key)\n",
        "  percent_missing = df.isnull().sum() * 100 / len(df)\n",
        "  missing_values_df = pd.DataFrame({'column_name': df.columns,\n",
        "                                    'percent_missing': percent_missing}) \\\n",
        "                                .sort_values(by = ['percent_missing'], ascending = False).round(2)\n",
        "  print(missing_values_df)\n",
        "  print('-' * 72)\n",
        "\n",
        "\n"
      ]
    },
    {
      "cell_type": "markdown",
      "metadata": {
        "id": "j3u5Cpq12uqp"
      },
      "source": [
        "We immediately notice that there is a **large** amount of missing data."
      ]
    },
    {
      "cell_type": "markdown",
      "metadata": {
        "id": "3xzL2AyD4DXm"
      },
      "source": [
        "We notice the prevalance of the `sk_id_curr` attribute, which is the primary key of the `application_{test | train}_df` relations.  The following relations have `sk_id_curr` as a foreign key:\n",
        "\n",
        "*   `bureau_df`\n",
        "*   `pos_cash_balance_df`\n",
        "*   `previous_application_df`\n",
        "*   `installments_payments_df`\n",
        "*   `credit_card_balance_df`\n",
        "\n",
        "We will join the `application_{test | train}_df` relations to each of the five (5) above-mentioned relations.\n",
        "\n",
        "We also notice the prevalance of the `sk_id_prev` attribute, which is the primary key of the `previous_application_df` relation.  The following relations have `sk_id_prev` as a foreign key:\n",
        "\n",
        "*   `pos_cash_balance_df`\n",
        "*   `installments_payments_df`\n",
        "*   `credit_card_balance_df`\n",
        "\n",
        "Lastly, we notice that the `sk_id_bureau` attribute is the primary key of the `bureau_df` relation.  The `bureau_balance_df` relation has `sk_id_bureau` as a foreign key.  We will therefore join these two relations together.\n",
        "\n",
        "\n",
        "First, we explore what % of the unique `sk_id_prev` IDs are within each dataset. We see that most of the datasets have a high representation of the IDs present. The two datasets with low representation are the `bureau_balance_df` and the `credit_card_balance_df` dataframes. We will later explore whether adding features from these two datasets are better when having a dummy variable for whether each feature is valid, or whether multiple models depending on the availability of data is more suitable for this dataset."
      ]
    },
    {
      "cell_type": "code",
      "execution_count": null,
      "metadata": {
        "colab": {
          "base_uri": "https://localhost:8080/"
        },
        "id": "_x9XRBlJwXpZ",
        "outputId": "e187b3b6-1d58-4ed7-8ea0-732fb8009d72"
      },
      "outputs": [],
      "source": [
        "train_ids = d['application_train_df']['sk_id_curr'].unique()\n",
        "\n",
        "# Bureau\n",
        "# bureau_pct = len(np.intersect1d(d['bureau_df']['sk_id_curr'].unique(), train_ids)) / len(train_ids)\n",
        "# print('Bureau: {:.2%}'.format(bureau_pct))\n",
        "\n",
        "# # Bureau Balance\n",
        "# valid_bureau_ids = np.intersect1d(d['bureau_balance_df']['sk_id_bureau'].unique(), d['bureau_df']['sk_id_bureau'].unique())\n",
        "# buearu_balance_pct = len(np.intersect1d(d['bureau_df'].loc[d['bureau_df']['sk_id_bureau'].isin(valid_bureau_ids),'sk_id_curr'].unique(),train_ids)) / len(train_ids)\n",
        "# print('Bureau Balance: {:.2%}'.format(buearu_balance_pct))\n",
        "\n",
        "# Credit Card Balance\n",
        "cc_pct = len(np.intersect1d(d['credit_card_balance_df']['sk_id_curr'].unique(), train_ids)) / len(train_ids)\n",
        "print('Credit Card Balance: {:.2%}'.format(cc_pct))\n",
        "\n",
        "# Previous Application\n",
        "prev_app_pct = len(np.intersect1d(d['previous_application_df']['sk_id_curr'].unique(),train_ids)) / len(train_ids)\n",
        "print('Previous Application: {:.2%}'.format(prev_app_pct))\n",
        "\n",
        "# POS Cash Balance\n",
        "pos_cash_pct = len(np.intersect1d(d['pos_cash_balance_df']['sk_id_curr'].unique(),train_ids)) / len(train_ids)\n",
        "print('POS Cash Balance: {:.2%}'.format(pos_cash_pct))\n",
        "\n",
        "# Installments Payments\n",
        "installments_pct = len(np.intersect1d(d['installments_payments_df']['sk_id_curr'].unique(),train_ids)) / len(train_ids)\n",
        "print('Installments Payments: {:.2%}'.format(installments_pct))\n"
      ]
    },
    {
      "cell_type": "markdown",
      "metadata": {
        "id": "T1JvvPG0gtLI"
      },
      "source": [
        "Let's check for duplication."
      ]
    },
    {
      "cell_type": "code",
      "execution_count": null,
      "metadata": {
        "colab": {
          "base_uri": "https://localhost:8080/"
        },
        "id": "YWP1MYe0gtcg",
        "outputId": "2f6d99ef-b1d4-4be9-8f6b-e054bf2fded9"
      },
      "outputs": [],
      "source": [
        "for key, df in d.items():\n",
        "  print('Dataframe:', key)\n",
        "  print(df.nunique())\n",
        "  print('-' * 72)"
      ]
    },
    {
      "cell_type": "code",
      "execution_count": null,
      "metadata": {
        "colab": {
          "base_uri": "https://localhost:8080/"
        },
        "id": "xIxeCyEXYuhi",
        "outputId": "5e16bf42-9e7c-4684-fbf1-82eee86554ad"
      },
      "outputs": [],
      "source": [
        "# get summary statistics of each dataset\n",
        "\n",
        "for key, df in d.items():\n",
        "  print(key)\n",
        "  print(df.describe(include = np.number).T)\n",
        "  print('-' * 72)"
      ]
    },
    {
      "cell_type": "code",
      "execution_count": 235,
      "metadata": {},
      "outputs": [],
      "source": [
        "#freeing memory\n",
        "df.drop(df.index,inplace=True)"
      ]
    },
    {
      "cell_type": "code",
      "execution_count": null,
      "metadata": {},
      "outputs": [],
      "source": []
    },
    {
      "cell_type": "markdown",
      "metadata": {
        "id": "6088sfVdwXpe"
      },
      "source": [
        "## Distrubtion of Response Variable\n",
        "\n",
        "- The training data consists primarily of loans that have not defaulted.  Therefore, in a later step, we must oversample or undersample to compensate for this unbalanced data."
      ]
    },
    {
      "cell_type": "code",
      "execution_count": null,
      "metadata": {
        "colab": {
          "base_uri": "https://localhost:8080/"
        },
        "id": "JJr4ljYLwXpe",
        "outputId": "859027c1-6479-471e-abf8-6a48c718fc99"
      },
      "outputs": [],
      "source": [
        "# plot the distribution of the Response Variable in the training dataset\n",
        "# will need to do some form of undersampling or oversampling to deal with the class imbalance\n",
        "\n",
        "ax = (d['application_train_df']['target'].value_counts() * 100/len(d['application_train_df'])).plot(kind = 'bar')\n",
        "\n",
        "plt.title('Distribution of Target Variable in Training Dataset')\n",
        "plt.xlabel('Default Indicator')\n",
        "plt.ylabel('Percent of Total')\n",
        "plt.xticks(rotation = 'horizontal')\n",
        "\n",
        "ax.bar_label(ax.containers[0], label_type = 'edge', fmt = '%.1f%%')\n",
        "ax.margins(y = 0.1)\n",
        "\n",
        "#make y axis percentages\n",
        "ax.yaxis.set_major_formatter(mtick.PercentFormatter())\n",
        "\n",
        "plt.show()"
      ]
    },
    {
      "cell_type": "markdown",
      "metadata": {
        "id": "NlAXht3Y3XF5"
      },
      "source": [
        "The training dataset has highly unbalanced classes, which could affect our modeling."
      ]
    },
    {
      "cell_type": "markdown",
      "metadata": {
        "id": "mkbYKqbo5urB"
      },
      "source": [
        "#Correlation Analysis\n",
        "Now, we'll generate a correlation matrix on the training dataset to check for correlation among the features."
      ]
    },
    {
      "cell_type": "code",
      "execution_count": null,
      "metadata": {
        "colab": {
          "base_uri": "https://localhost:8080/",
          "height": 1000
        },
        "id": "Ygw4maYB53Yh",
        "outputId": "8d6148d0-ad29-49f1-8fc1-2d36b15c2dc4"
      },
      "outputs": [],
      "source": [
        "pd.options.display.max_columns = 200\n",
        "pd.options.display.max_rows = 200\n",
        "\n",
        "corr = d['application_train_df'].corr(numeric_only = True)\n",
        "corr.style.background_gradient(cmap = 'coolwarm').format(precision = 2)\n"
      ]
    },
    {
      "cell_type": "markdown",
      "metadata": {
        "id": "elPIYDINF4Gk"
      },
      "source": [
        "Given the size of this correlation matrix, let's set a threshold and view only the features that have correlation greater than a certain threshold."
      ]
    },
    {
      "cell_type": "code",
      "execution_count": null,
      "metadata": {
        "colab": {
          "base_uri": "https://localhost:8080/"
        },
        "id": "iI5VivwfGFaf",
        "outputId": "e92f33f5-b4ec-4cd3-e2fb-e896afe6f30c"
      },
      "outputs": [],
      "source": [
        "# define a threshold\n",
        "correlation_threshold = 0.7\n",
        "\n",
        "# get a list of pair-wise features that exceed this threshold\n",
        "high_correlation_pairs = []\n",
        "for i in range(len(corr.columns)):\n",
        "    for j in range(i + 1, len(corr.columns)):\n",
        "        if abs(corr.iloc[i, j]) > correlation_threshold:\n",
        "            high_correlation_pairs.append((corr.columns[i], corr.columns[j]))\n",
        "\n",
        "\n",
        "high_correlation_pairs\n"
      ]
    },
    {
      "cell_type": "code",
      "execution_count": null,
      "metadata": {
        "colab": {
          "base_uri": "https://localhost:8080/"
        },
        "id": "F5Yjuxn5GkgM",
        "outputId": "f1f63c15-5cd6-43d7-be47-c278bf96a01f"
      },
      "outputs": [],
      "source": [
        "print(f'There are {len(high_correlation_pairs)} that exhibit correlation greater than {correlation_threshold}.')"
      ]
    },
    {
      "cell_type": "code",
      "execution_count": null,
      "metadata": {
        "colab": {
          "base_uri": "https://localhost:8080/",
          "height": 1000
        },
        "id": "Gy-xLbHrcZVc",
        "outputId": "a65a51e1-8e4b-4e88-e877-6903878aea69"
      },
      "outputs": [],
      "source": [
        "# create a heatmap of only the high correlation pairs\n",
        "\n",
        "high_correlation_features = set()\n",
        "\n",
        "for pair in high_correlation_pairs:\n",
        "  high_correlation_features.update(pair)\n",
        "\n",
        "high_correlation_matrix = corr.loc[high_correlation_features, high_correlation_features]\n",
        "high_correlation_matrix\n",
        "\n",
        "high_correlation_matrix.style.background_gradient(cmap = 'coolwarm').format(precision = 2)\n",
        "\n"
      ]
    },
    {
      "cell_type": "code",
      "execution_count": null,
      "metadata": {
        "id": "iS9FCYQLwXpg"
      },
      "outputs": [],
      "source": [
        "#pd.options.display.max_rows = 100"
      ]
    },
    {
      "cell_type": "code",
      "execution_count": null,
      "metadata": {
        "id": "QPTkuDCowXpg"
      },
      "outputs": [],
      "source": []
    },
    {
      "cell_type": "markdown",
      "metadata": {
        "id": "iHMG4xIrwXph"
      },
      "source": [
        "## Housing Variables\n",
        "\n",
        "Many of the highly correlated features are housing variables that have characteristics of their current living situation (characteristics regarding their home or apartment). We will reduce the dimensionality of these features by creating PCA variables on these `housing variables` so that we may use them in our modeling. We will then fit a simple logistic regression to see if there is any predictability of using these outright to see if these variables have any predictability on their own.\n",
        "\n",
        "Due to the high prevalence of null values in these, we fit the PCA and explore the model with the rows that have no nulls in any of them (~25%), and then fill all missing values with the mean of that respective column before transforming the variables of the main dataframes (train/test)."
      ]
    },
    {
      "cell_type": "code",
      "execution_count": null,
      "metadata": {
        "id": "w7kV6PD0wXph"
      },
      "outputs": [],
      "source": [
        "housing_variables = [ 'apartments_avg',\n",
        "                      'basementarea_avg',\n",
        "                      'years_beginexpluatation_avg',\n",
        "                      'years_build_avg',\n",
        "                      'commonarea_avg',\n",
        "                      'elevators_avg',\n",
        "                      'entrances_avg',\n",
        "                      'floorsmax_avg',\n",
        "                      'floorsmin_avg',\n",
        "                      'landarea_avg',\n",
        "                      'livingapartments_avg',\n",
        "                      'livingarea_avg',\n",
        "                      'nonlivingapartments_avg',\n",
        "                      'nonlivingarea_avg',\n",
        "                      'apartments_mode',\n",
        "                      'basementarea_mode',\n",
        "                      'years_beginexpluatation_mode',\n",
        "                      'years_build_mode',\n",
        "                      'commonarea_mode',\n",
        "                      'elevators_mode',\n",
        "                      'entrances_mode',\n",
        "                      'floorsmax_mode',\n",
        "                      'floorsmin_mode',\n",
        "                      'landarea_mode',\n",
        "                      'livingapartments_mode',\n",
        "                      'livingarea_mode',\n",
        "                      'nonlivingapartments_mode',\n",
        "                      'nonlivingarea_mode',\n",
        "                      'apartments_medi',\n",
        "                      'basementarea_medi',\n",
        "                      'years_beginexpluatation_medi',\n",
        "                      'years_build_medi',\n",
        "                      'commonarea_medi',\n",
        "                      'elevators_medi',\n",
        "                      'entrances_medi',\n",
        "                      'floorsmax_medi',\n",
        "                      'floorsmin_medi',\n",
        "                      'landarea_medi',\n",
        "                      'livingapartments_medi',\n",
        "                      'livingarea_medi',\n",
        "                      'nonlivingapartments_medi',\n",
        "                      'nonlivingarea_medi',\n",
        "                      'housetype_mode',\n",
        "                      'totalarea_mode',\n",
        "                      'wallsmaterial_mode',\n",
        "                      'emergencystate_mode'\n",
        "                    ]"
      ]
    },
    {
      "cell_type": "code",
      "execution_count": null,
      "metadata": {
        "colab": {
          "base_uri": "https://localhost:8080/"
        },
        "id": "sqUGifT0wXph",
        "outputId": "a653fef1-695e-41cb-b556-2ca8f220da97"
      },
      "outputs": [],
      "source": [
        "print(\"Percent of rows with valid data for all housing variables: {:.2%}\".format((d['application_train_df'][housing_variables].isna().sum(axis = 1) == 0).astype(int).sum() / len(d['application_train_df'])))\n"
      ]
    },
    {
      "cell_type": "code",
      "execution_count": null,
      "metadata": {
        "id": "ToFMgS0eZzcn"
      },
      "outputs": [],
      "source": []
    },
    {
      "cell_type": "markdown",
      "metadata": {
        "id": "6B24mt5gZzco"
      },
      "source": [
        "Due to the lack of variability for the `emergencystate_mode` and `housetype_mode` features, we will drop them from the dataset."
      ]
    },
    {
      "cell_type": "code",
      "execution_count": null,
      "metadata": {
        "colab": {
          "base_uri": "https://localhost:8080/"
        },
        "id": "H0ODXkknZzco",
        "outputId": "08eac15a-c38c-4488-a80e-53f7d11790b0"
      },
      "outputs": [],
      "source": [
        "d['application_train_df']['housetype_mode'].value_counts()"
      ]
    },
    {
      "cell_type": "code",
      "execution_count": null,
      "metadata": {
        "colab": {
          "base_uri": "https://localhost:8080/"
        },
        "id": "XReq4J_wZzco",
        "outputId": "c3f5af03-2270-442d-8539-da17b8d3081a"
      },
      "outputs": [],
      "source": [
        "d['application_train_df']['emergencystate_mode'].value_counts()"
      ]
    },
    {
      "cell_type": "code",
      "execution_count": null,
      "metadata": {
        "id": "5d7-bV9vwXpj"
      },
      "outputs": [],
      "source": [
        "\n",
        "housing_variables.remove('housetype_mode')\n",
        "housing_variables.remove('emergencystate_mode')\n",
        "\n",
        "d['application_train_df'].drop(columns = ['housetype_mode','emergencystate_mode'],inplace=True)\n",
        "d['application_test_df'].drop(columns = ['housetype_mode','emergencystate_mode'],inplace=True)"
      ]
    },
    {
      "cell_type": "markdown",
      "metadata": {
        "id": "QWRrOTXHwXpk"
      },
      "source": [
        "There are only 2 prevalent `wallsmaterial_mode` values, but they have some differentiation in default rates, so we will retain this feature. We will one-hot encode this feature and consider converting all values that are not \"Panel\" or \"Stone, brick\" as \"Others\". All null values for this attribute will be populated as \"Others\""
      ]
    },
    {
      "cell_type": "code",
      "execution_count": null,
      "metadata": {
        "colab": {
          "base_uri": "https://localhost:8080/",
          "height": 269
        },
        "id": "5PAr8PqdZzcp",
        "outputId": "4b1b6dfb-0b97-4fc8-b261-49f7b4633129"
      },
      "outputs": [],
      "source": [
        "d['application_train_df'].groupby('wallsmaterial_mode').agg({'target':'mean','sk_id_curr':'count'}).sort_values(by='target').reset_index()\n"
      ]
    },
    {
      "cell_type": "code",
      "execution_count": null,
      "metadata": {
        "colab": {
          "base_uri": "https://localhost:8080/"
        },
        "id": "y_FRxGMRwXpk",
        "outputId": "c5a46e83-3ae1-42ce-d22e-4732ad3e00ef"
      },
      "outputs": [],
      "source": [
        "#There are only 27 rows that have valid data for all housing variables (except wallsmaterial_mode),\n",
        "#so fitting the PCA while one-hot encoding the `wallsmaterial_mode` variable will not be feasible.\n",
        "\n",
        "d['application_train_df'].dropna(subset = [x for x in housing_variables if x != 'wallsmaterial_mode'])['wallsmaterial_mode'].isna().sum()\n"
      ]
    },
    {
      "cell_type": "code",
      "execution_count": null,
      "metadata": {
        "id": "DPC5HNydwXpk"
      },
      "outputs": [],
      "source": [
        "d['application_train_df'].loc[~d['application_train_df']['wallsmaterial_mode'].isin(['Panel','Stone, brick']),'wallsmaterial_mode'] = 'Other'\n",
        "d['application_test_df'].loc[~d['application_test_df']['wallsmaterial_mode'].isin(['Panel','Stone, brick']),'wallsmaterial_mode'] = 'Other'\n"
      ]
    },
    {
      "cell_type": "code",
      "execution_count": null,
      "metadata": {
        "colab": {
          "base_uri": "https://localhost:8080/",
          "height": 175
        },
        "id": "rwyRROcDwXpk",
        "outputId": "40818b0b-7d43-400f-ede7-57811af77713"
      },
      "outputs": [],
      "source": [
        "d['application_train_df'].groupby('wallsmaterial_mode').agg({'target':'mean','sk_id_curr':'count'}).sort_values(by='target')\n"
      ]
    },
    {
      "cell_type": "code",
      "execution_count": null,
      "metadata": {
        "id": "7j2K6JtkwXpl"
      },
      "outputs": [],
      "source": [
        "d['application_train_df'] = pd.get_dummies(d['application_train_df'], columns = ['wallsmaterial_mode'])\n",
        "d['application_test_df'] = pd.get_dummies(d['application_test_df'], columns = ['wallsmaterial_mode'])\n",
        "\n",
        "wall_material_cols = [x for x in d['application_train_df'].columns if 'wallsmaterial_mode_' in x]\n",
        "\n",
        "d['application_train_df'][wall_material_cols] = d['application_train_df'][wall_material_cols].astype(int)\n",
        "d['application_test_df'][wall_material_cols] = d['application_test_df'][wall_material_cols].astype(int)\n",
        "\n",
        "#remove trhe wallsmaterial_mode column from the housing variables list and append the new one-hot `encodedwallsmaterial_mode` columns\n",
        "housing_variables.remove('wallsmaterial_mode')\n",
        "housing_variables.extend(wall_material_cols)\n"
      ]
    },
    {
      "cell_type": "code",
      "execution_count": null,
      "metadata": {
        "id": "XTI19N97wXpl"
      },
      "outputs": [],
      "source": [
        "#getting a subset with only the rows that have valid data for all housing variables\n",
        "app_train_housing = d['application_train_df'].dropna(subset=housing_variables).copy()\n"
      ]
    },
    {
      "cell_type": "code",
      "execution_count": null,
      "metadata": {
        "id": "JUdJCwibwXpl"
      },
      "outputs": [],
      "source": [
        "app_train_housing[housing_variables] = StandardScaler().fit_transform(app_train_housing[housing_variables])\n",
        "pca = PCA(n_components = len(housing_variables))\n",
        "pca.fit(app_train_housing[housing_variables])\n",
        "explained_variance_ratios = pca.explained_variance_ratio_\n",
        "cum_evr = explained_variance_ratios.cumsum()"
      ]
    },
    {
      "cell_type": "code",
      "execution_count": null,
      "metadata": {
        "colab": {
          "base_uri": "https://localhost:8080/",
          "height": 606
        },
        "id": "rEIL5STAwXpl",
        "outputId": "186a36ba-81b3-42f2-e00a-83017e467049"
      },
      "outputs": [],
      "source": [
        "fig = plt.figure(figsize = (14,8))\n",
        "ax = fig.add_subplot(111)\n",
        "\n",
        "ax.plot(cum_evr)\n",
        "ax.set_xticks(np.arange(0, len(housing_variables), 5))\n",
        "ax.set_xticklabels(np.arange(0, len(housing_variables), 5) + 1, rotation = 0)\n",
        "\n",
        "ax.set_xlabel('Number of Principal Components')\n",
        "ax.set_ylabel('Cumulative Explained Ratio')\n",
        "ax.set_title('Cumulative Explained Ratio by Number of Principal Components')\n",
        "\n",
        "#Vertical Line here at 11 really means 12 components\n",
        "ax.axvline(11, linestyle = '--', color='green')\n",
        "\n",
        "plt.show()"
      ]
    },
    {
      "cell_type": "code",
      "execution_count": null,
      "metadata": {
        "colab": {
          "base_uri": "https://localhost:8080/",
          "height": 35
        },
        "id": "p6Oh6kKDwXpl",
        "outputId": "604e7702-7562-412c-8529-3567099fd714"
      },
      "outputs": [],
      "source": [
        "\"{:.2%}\".format(cum_evr[11]) #note that 11 is the 12th component"
      ]
    },
    {
      "cell_type": "markdown",
      "metadata": {
        "id": "AP4j5uzywXpm"
      },
      "source": [
        "A PCA with **12 principal components** allows us to capture 95% of the variability within the housing variables."
      ]
    },
    {
      "cell_type": "code",
      "execution_count": null,
      "metadata": {
        "colab": {
          "base_uri": "https://localhost:8080/",
          "height": 75
        },
        "id": "NPA6hEFtwXpm",
        "outputId": "28c25aac-c861-4e6a-d915-09f784ba140d"
      },
      "outputs": [],
      "source": [
        "pca = PCA(n_components = 12)\n",
        "pca.fit(app_train_housing[housing_variables])"
      ]
    },
    {
      "cell_type": "code",
      "execution_count": null,
      "metadata": {
        "id": "mjHtdbP2wXpm"
      },
      "outputs": [],
      "source": [
        "app_train_housing = pd.concat([app_train_housing,pd.DataFrame(pca.transform(app_train_housing[housing_variables]), columns = ['housing_pca_' + str(x) for x in range(1,13)],index = app_train_housing.index)],axis = 1)\n"
      ]
    },
    {
      "cell_type": "code",
      "execution_count": null,
      "metadata": {
        "id": "BfcZDe9TwXpm"
      },
      "outputs": [],
      "source": [
        "seed = 42\n",
        "X_train, X_test, y_train, y_test = train_test_split(app_train_housing[['housing_pca_' + str(x) for x in range(1,13)]],app_train_housing['target'], test_size = 0.3, random_state = seed)\n"
      ]
    },
    {
      "cell_type": "code",
      "execution_count": null,
      "metadata": {
        "colab": {
          "base_uri": "https://localhost:8080/"
        },
        "id": "HqmksTY0wXpm",
        "outputId": "34fba24c-b523-440a-f8fe-9c16027704cc"
      },
      "outputs": [],
      "source": [
        "#Note that we must oversample or undersample to account for the imbalance in the target variable. We will use oversampling here.\n",
        "d['application_train_df'].target.value_counts()\n"
      ]
    },
    {
      "cell_type": "code",
      "execution_count": null,
      "metadata": {
        "id": "2dNOMCsowXpn"
      },
      "outputs": [],
      "source": [
        "X_train_resampled, y_train_resampled = RandomOverSampler(random_state=seed).fit_resample(X_train, y_train)\n",
        "X_test_resampled, y_test_resampled = RandomOverSampler(random_state=seed).fit_resample(X_test, y_test)\n"
      ]
    },
    {
      "cell_type": "code",
      "execution_count": null,
      "metadata": {
        "colab": {
          "base_uri": "https://localhost:8080/"
        },
        "id": "S_BWn_sDwXpn",
        "outputId": "a52e7318-e23b-4a3e-c55a-fe1e4ee11333"
      },
      "outputs": [],
      "source": [
        "clf = LogisticRegression(random_state=42,max_iter = 100).fit(X_train_resampled, y_train_resampled)\n",
        "\n",
        "\n",
        "# Use the model to predict on the test set and save these predictions as `y_pred`\n",
        "y_pred = clf.predict(X_test_resampled)\n",
        "\n",
        "#Find the accuracy and store the value in `log_acc`\n",
        "log_acc = (y_pred == y_test_resampled).sum() / len(y_test_resampled)\n",
        "print(\"{:.2%}\".format(log_acc))"
      ]
    },
    {
      "cell_type": "markdown",
      "metadata": {
        "id": "iSGQ9PaXwXpn"
      },
      "source": [
        "While not a huge boost to predictability, with solely the housing PCA components, we see a 53.6% accuracy score, thus we will keep these features and our model may or may not select them in the future. We will fill in the missing values and perform the modeling again to ensure we get consistent results after filling in nulls values. Many rows have some of the housing variables, with some (or many) being null"
      ]
    },
    {
      "cell_type": "code",
      "execution_count": null,
      "metadata": {
        "id": "8w-xy6h2wXpn"
      },
      "outputs": [],
      "source": [
        "for col in housing_variables:\n",
        "    d['application_train_df'][col].fillna(d['application_train_df'][col].mean(),inplace=True)\n",
        "    d['application_test_df'][col].fillna(d['application_test_df'][col].mean(),inplace=True)\n"
      ]
    },
    {
      "cell_type": "code",
      "execution_count": null,
      "metadata": {
        "id": "gDJsZC25wXpn"
      },
      "outputs": [],
      "source": [
        "#PCA on train and test after filling nulls. Using the PCA fit on the subset that had no null values\n",
        "d['application_train_df'] = pd.concat([d['application_train_df'],pd.DataFrame(pca.transform(d['application_train_df'][housing_variables]), columns = ['housing_pca_' + str(x) for x in range(1,13)],index = d['application_train_df'].index)],axis = 1)\n",
        "d['application_test_df'] = pd.concat([d['application_test_df'],pd.DataFrame(pca.transform(d['application_test_df'][housing_variables]), columns = ['housing_pca_' + str(x) for x in range(1,13)],index = d['application_test_df'].index)],axis = 1)\n"
      ]
    },
    {
      "cell_type": "code",
      "execution_count": null,
      "metadata": {
        "id": "ZJyW2FDSwXpo"
      },
      "outputs": [],
      "source": [
        "X_train, X_test, y_train, y_test = train_test_split(d['application_train_df'][['housing_pca_' + str(x) for x in range(1,13)]],d['application_train_df']['target'], test_size = 0.3, random_state = seed)\n",
        "X_train_resampled, y_train_resampled = RandomOverSampler(random_state=seed).fit_resample(X_train, y_train)\n",
        "X_test_resampled, y_test_resampled = RandomOverSampler(random_state=seed).fit_resample(X_test, y_test)\n"
      ]
    },
    {
      "cell_type": "code",
      "execution_count": null,
      "metadata": {
        "colab": {
          "base_uri": "https://localhost:8080/"
        },
        "id": "G3tKXT1ewXpo",
        "outputId": "c24a056f-dab5-4370-95bb-17db7513a794"
      },
      "outputs": [],
      "source": [
        "clf = LogisticRegression(random_state=42,max_iter = 100).fit(X_train_resampled, y_train_resampled)\n",
        "\n",
        "\n",
        "# Use the model to predict on the test set and save these predictions as `y_pred`\n",
        "y_pred = clf.predict(X_test_resampled)\n",
        "\n",
        "#Find the accuracy and store the value in `log_acc`\n",
        "log_acc = (y_pred == y_test_resampled).sum() / len(y_test_resampled)\n",
        "print(\"{:.2%}\".format(log_acc))\n"
      ]
    },
    {
      "cell_type": "markdown",
      "metadata": {
        "id": "6nCtOcEcwXpo"
      },
      "source": [
        "The predictability remained consistent after populating the `null` values with the mean."
      ]
    },
    {
      "cell_type": "code",
      "execution_count": null,
      "metadata": {
        "id": "x2VbwRBswXpo"
      },
      "outputs": [],
      "source": [
        "#Drop the housing variables that are not the PCA components\n",
        "d['application_train_df'].drop(columns = housing_variables,inplace=True)\n",
        "d['application_test_df'].drop(columns = housing_variables,inplace=True)\n"
      ]
    },
    {
      "cell_type": "code",
      "execution_count": null,
      "metadata": {
        "id": "GpaD4Tt8wXpo"
      },
      "outputs": [],
      "source": []
    },
    {
      "cell_type": "markdown",
      "metadata": {
        "id": "a8pOH3qviQln"
      },
      "source": [
        "Let's look at a pairplot."
      ]
    },
    {
      "cell_type": "code",
      "execution_count": null,
      "metadata": {
        "id": "P-tJTB3LiQwg"
      },
      "outputs": [],
      "source": [
        "#\n",
        "#df = d['application_train_df']\n",
        "#df = df[list(high_correlation_features)]\n",
        "#df.head()"
      ]
    },
    {
      "cell_type": "code",
      "execution_count": null,
      "metadata": {
        "id": "kBFTAlfdjZo_"
      },
      "outputs": [],
      "source": [
        "#sns.pairplot(data = df)"
      ]
    },
    {
      "cell_type": "markdown",
      "metadata": {
        "id": "7soJihQ2YmxZ"
      },
      "source": [
        "Now, let's plot the distribution of the categorical variables using `sns.countplot()`."
      ]
    },
    {
      "cell_type": "code",
      "execution_count": null,
      "metadata": {
        "colab": {
          "base_uri": "https://localhost:8080/"
        },
        "id": "rhLcLKTVJoVC",
        "outputId": "65241a7d-5a13-4ebc-f87b-17c1586488c8"
      },
      "outputs": [],
      "source": [
        "# gets the columns that have categorical variables\n",
        "\n",
        "object_columns = d['application_train_df'].select_dtypes(include=['object']).columns.tolist()\n",
        "object_columns\n"
      ]
    },
    {
      "cell_type": "code",
      "execution_count": null,
      "metadata": {
        "colab": {
          "base_uri": "https://localhost:8080/",
          "height": 1000
        },
        "id": "aK3boaacL8IM",
        "outputId": "8168c2d6-ac16-4efa-c6cf-4ae18767c229"
      },
      "outputs": [],
      "source": [
        "# plot the categorical variables\n",
        "\n",
        "# define height ratios for the subplots\n",
        "height_ratios = [50] * 7 + [50]\n",
        "\n",
        "# create an 8x2 subplot grid\n",
        "fig, axes = plt.subplots(8, 2, figsize=(16, 40), gridspec_kw={'height_ratios': height_ratios})\n",
        "\n",
        "plt.subplots_adjust(hspace = 1.5)\n",
        "\n",
        "# flatten the axes array for easy iteration\n",
        "axes = axes.flatten()\n",
        "\n",
        "for i, column in enumerate(object_columns):\n",
        "    sns.countplot(x = column, data = d['application_train_df'], ax = axes[i])\n",
        "    axes[i].set_title(column)\n",
        "    axes[i].tick_params(axis='x', rotation=45)\n",
        "\n",
        "#plt.tight_layout(h_pad = 2.5)\n",
        "plt.show()"
      ]
    },
    {
      "cell_type": "code",
      "execution_count": null,
      "metadata": {
        "id": "ZvZr70caNI1R"
      },
      "outputs": [],
      "source": [
        "# initial impressions\n",
        "# predominent:  married females with a secondary education who own a home (but don't own a car) applying for cash loans"
      ]
    },
    {
      "cell_type": "code",
      "execution_count": null,
      "metadata": {
        "colab": {
          "base_uri": "https://localhost:8080/",
          "height": 454
        },
        "id": "CWJjCYb7eg-d",
        "outputId": "c428fe1b-1e76-498f-8b02-53f62988a55d"
      },
      "outputs": [],
      "source": [
        "# Does a large amount of credit result in a default condition?  No!\n",
        "\n",
        "sns.boxplot(data = d['application_train_df'], x = 'target', y = 'amt_credit')\n",
        "plt.grid()\n",
        "plt.show()"
      ]
    },
    {
      "cell_type": "code",
      "execution_count": null,
      "metadata": {
        "colab": {
          "base_uri": "https://localhost:8080/"
        },
        "id": "nr6ZPa1wnh39",
        "outputId": "4a0c3f24-6158-423f-e82b-e27475dbd541"
      },
      "outputs": [],
      "source": [
        "# Is there a greater incidence of default among male borrowers?  Yes! (about 300 basis points greater than for female borrowers)\n",
        "\n",
        "gender_target_counts = d['application_train_df'].groupby(['code_gender', 'target']).size()\n",
        "\n",
        "gender_target_counts_unstacked = gender_target_counts.unstack('target')\n",
        "\n",
        "percentage_defaults_by_gender = gender_target_counts_unstacked.div(gender_target_counts_unstacked.sum(axis = 1), axis = 0) * 100\n",
        "\n",
        "print(percentage_defaults_by_gender)\n",
        "\n",
        "#Changing gender to a binary variable with 1 = Female, 0 Otherwise\n",
        "d['application_train_df']['code_gender']  = np.where(d['application_train_df']['code_gender'] == 'F',1,0)\n",
        "d['application_test_df']['code_gender']  = np.where(d['application_test_df']['code_gender'] == 'F',1,0)"
      ]
    },
    {
      "cell_type": "code",
      "execution_count": null,
      "metadata": {
        "colab": {
          "base_uri": "https://localhost:8080/"
        },
        "id": "HqaCpFUvqyZ6",
        "outputId": "b0e9e0f2-73fa-477d-97a3-bfa0ffcca3a8"
      },
      "outputs": [],
      "source": [
        "# Do borrowers who own a realty default more than borrowers who do not?  Approximately equal, but home owners are slightly less likely to default.\n",
        "\n",
        "own_realty_target_counts = d['application_train_df'].groupby(['flag_own_realty', 'target']).size()\n",
        "\n",
        "own_realty_target_counts_unstacked = own_realty_target_counts.unstack('target')\n",
        "\n",
        "percentage_defaults_by_gender = own_realty_target_counts_unstacked.div(own_realty_target_counts_unstacked.sum(axis = 1), axis = 0) * 100\n",
        "\n",
        "print(percentage_defaults_by_gender)\n",
        "\n",
        "d['application_train_df']['flag_own_realty']  = np.where(d['application_train_df']['flag_own_realty'] == 'Y',1,0)\n",
        "d['application_test_df']['flag_own_realty']  = np.where(d['application_test_df']['flag_own_realty'] == 'Y',1,0)"
      ]
    },
    {
      "cell_type": "code",
      "execution_count": null,
      "metadata": {
        "colab": {
          "base_uri": "https://localhost:8080/"
        },
        "id": "gAX-JA3trN0Q",
        "outputId": "64ff56e0-bfae-4548-85bf-3228f05274bc"
      },
      "outputs": [],
      "source": [
        "# Does the number of children impact default rates?  Approximately equal between 1-2 children, then seemingly impacted between 3-6 children. No children has the lowest default rate.\n",
        "\n",
        "cnt_children_target_counts = d['application_train_df'].groupby(['cnt_children', 'target']).size()\n",
        "\n",
        "cnt_children_target_counts_unstacked = cnt_children_target_counts.unstack('target')\n",
        "\n",
        "percentage_defaults_by_gender = cnt_children_target_counts_unstacked.div(cnt_children_target_counts_unstacked.sum(axis = 1), axis = 0) * 100\n",
        "\n",
        "print(percentage_defaults_by_gender)\n",
        "\n",
        "#convert into 2 binary variables, one for having one child, one for having multiple children. People with multiple children will have a 1 in both columns\n",
        "d['application_train_df']['has_child']  = np.where(d['application_train_df']['cnt_children'] > 0,1,0)\n",
        "d['application_test_df']['has_child']  = np.where(d['application_test_df']['cnt_children'] > 0,1,0)\n",
        "\n",
        "d['application_train_df']['has_multiple_children']  = np.where(d['application_train_df']['cnt_children'] > 1,1,0)\n",
        "d['application_test_df']['has_multiple_children']  = np.where(d['application_test_df']['cnt_children'] > 1,1,0)\n",
        "\n",
        "d['application_train_df'].drop('cnt_children',axis=1,inplace=True)\n",
        "d['application_test_df'].drop('cnt_children',axis=1,inplace=True)"
      ]
    },
    {
      "cell_type": "code",
      "execution_count": null,
      "metadata": {
        "colab": {
          "base_uri": "https://localhost:8080/"
        },
        "id": "4VbapcA9wXpr",
        "outputId": "d99d3f82-a8b1-476b-fc0a-3168816e5c16"
      },
      "outputs": [],
      "source": [
        "# Do borrowers who own a car default more than those who do not?  Car owners are less likely to default\n",
        "\n",
        "own_car_target_counts = d['application_train_df'].groupby(['flag_own_car', 'target']).size()\n",
        "\n",
        "own_car_target_counts_unstacked = own_car_target_counts.unstack('target')\n",
        "\n",
        "percentage_defaults_by_gender = own_car_target_counts_unstacked.div(own_car_target_counts_unstacked.sum(axis = 1), axis = 0) * 100\n",
        "\n",
        "print(percentage_defaults_by_gender)"
      ]
    },
    {
      "cell_type": "code",
      "execution_count": null,
      "metadata": {
        "colab": {
          "base_uri": "https://localhost:8080/",
          "height": 445
        },
        "id": "VLuO4TljwXps",
        "outputId": "209fdd4d-693b-4c12-d5f8-11f17190bd29"
      },
      "outputs": [],
      "source": [
        "# Age of Car -- is correlated with default, but with the range of values so it may be better to take the log of this value\n",
        "fig = plt.figure(figsize=(12, 6))\n",
        "ax = fig.add_subplot(111)\n",
        "temp = d['application_train_df'].groupby('own_car_age').agg({'target':['mean','count']})\n",
        "temp = temp.loc[temp['target']['count'] > 100, 'target']['mean']\n",
        "ax.scatter(temp.index, temp.values)\n",
        "\n",
        "ax.set_ylim(0,0.25)\n",
        "ax.set_xlim(0,40)\n",
        "\n",
        "# TO DO:  add axes titles and plot title"
      ]
    },
    {
      "cell_type": "code",
      "execution_count": null,
      "metadata": {
        "colab": {
          "base_uri": "https://localhost:8080/"
        },
        "id": "MMG4wki1wXps",
        "outputId": "6ff22d24-3317-49eb-ec61-56f5d74b289b"
      },
      "outputs": [],
      "source": [
        "# Car age is correlated, so let's just take the log of it, adding 1 to avoid an -inf error\n",
        "\n",
        "d['application_train_df']['own_car_age'] = np.log(d['application_train_df']['own_car_age'] + 1)\n",
        "d['application_test_df']['own_car_age'] = np.log(d['application_test_df']['own_car_age'] + 1)\n",
        "fig = plt.figure(figsize=(12, 6))\n",
        "ax = fig.add_subplot(111)\n",
        "temp = d['application_train_df'].groupby('own_car_age').agg({'target':['mean','count']})\n",
        "temp = temp.loc[temp['target']['count'] > 100, 'target']['mean']\n",
        "ax.scatter(temp.index, temp.values)\n",
        "\n",
        "ax.set_ylim(0,0.25)\n",
        "ax.set_xlim(0,5)\n",
        "\n",
        "# TO DO:  add axes titles and plot title"
      ]
    },
    {
      "cell_type": "markdown",
      "metadata": {
        "id": "E-3-nHdnOgB3"
      },
      "source": [
        "Virtually all values with a NULL `own_car_age` has a \"N\" for `flag_own_car`, thus we do not need another binary variable reprenting that `own_car_age` is NULL. We fill the null `own_car_age` with the mean"
      ]
    },
    {
      "cell_type": "code",
      "execution_count": null,
      "metadata": {
        "colab": {
          "base_uri": "https://localhost:8080/"
        },
        "id": "cAsnjr7LwXps",
        "outputId": "97ab7c1d-4e78-45ed-ef44-cecc2d56fef3"
      },
      "outputs": [],
      "source": [
        "d['application_train_df']['own_car_age'].mean()\n"
      ]
    },
    {
      "cell_type": "code",
      "execution_count": null,
      "metadata": {
        "colab": {
          "base_uri": "https://localhost:8080/"
        },
        "id": "8c5X4uruwXps",
        "outputId": "215ca28b-791c-4dc2-d878-33dc38698ae6"
      },
      "outputs": [],
      "source": [
        "d['application_train_df'].loc[d['application_train_df']['own_car_age'].isna(),'target'].mean()\n"
      ]
    },
    {
      "cell_type": "code",
      "execution_count": null,
      "metadata": {
        "colab": {
          "base_uri": "https://localhost:8080/"
        },
        "id": "pmupCAa2wXps",
        "outputId": "934c69c3-bb54-4d81-eef2-f2baae801b71"
      },
      "outputs": [],
      "source": [
        "d['application_train_df']['flag_own_car'].isna().sum()\n"
      ]
    },
    {
      "cell_type": "code",
      "execution_count": null,
      "metadata": {
        "colab": {
          "base_uri": "https://localhost:8080/"
        },
        "id": "KFdY9DQhwXpt",
        "outputId": "8c1ee77a-3b63-45ab-bf6e-813dd8f80c29"
      },
      "outputs": [],
      "source": [
        "d['application_train_df'].loc[d['application_train_df']['own_car_age'].isna(),'flag_own_car'].value_counts()\n"
      ]
    },
    {
      "cell_type": "code",
      "execution_count": null,
      "metadata": {
        "id": "2xtVbdAcwXpt"
      },
      "outputs": [],
      "source": [
        "d['application_train_df']['own_car_age'].fillna(d['application_train_df']['own_car_age'].mean(),inplace=True)\n",
        "d['application_test_df']['own_car_age'].fillna(d['application_test_df']['own_car_age'].mean(),inplace=True)\n"
      ]
    },
    {
      "cell_type": "code",
      "execution_count": null,
      "metadata": {
        "id": "Maj-ne9HwXpu"
      },
      "outputs": [],
      "source": []
    },
    {
      "cell_type": "markdown",
      "metadata": {
        "id": "rTZhEzsUOgB3"
      },
      "source": [
        "There does seem to be some correlation with hour of application, although this may be a fluke.\n",
        "People who apply in the early-morning have the highest default rate, morning (pre-noon) ,followed by night and then day"
      ]
    },
    {
      "cell_type": "code",
      "execution_count": null,
      "metadata": {
        "id": "oLZkKFq8OgB3"
      },
      "outputs": [],
      "source": [
        "\n",
        "def hour_of_application(hour):\n",
        "    if hour > 17 or hour < 4:\n",
        "        return 'night'\n",
        "    elif hour < 9:\n",
        "        return 'early-morning'\n",
        "    elif hour <= 12:\n",
        "        return 'morning'\n",
        "    else:\n",
        "        return 'afternoon'"
      ]
    },
    {
      "cell_type": "code",
      "execution_count": null,
      "metadata": {
        "colab": {
          "base_uri": "https://localhost:8080/"
        },
        "id": "6qFCRAmmwXpu",
        "outputId": "c04e8123-bb81-450d-827c-345b69c18854"
      },
      "outputs": [],
      "source": [
        "d['application_train_df']['hour_appr_process_start'].apply(hour_of_application).value_counts()\n"
      ]
    },
    {
      "cell_type": "code",
      "execution_count": null,
      "metadata": {
        "id": "gP28hKqEwXpu"
      },
      "outputs": [],
      "source": [
        "d['application_train_df']['hour_appr_process_start'] = d['application_train_df']['hour_appr_process_start'].apply(hour_of_application)\n",
        "d['application_test_df']['hour_appr_process_start'] = d['application_test_df']['hour_appr_process_start'].apply(hour_of_application)\n"
      ]
    },
    {
      "cell_type": "code",
      "execution_count": null,
      "metadata": {
        "colab": {
          "base_uri": "https://localhost:8080/",
          "height": 445
        },
        "id": "rSqG611YwXpv",
        "outputId": "2dfacd18-1279-4a55-99ff-53b732b801df"
      },
      "outputs": [],
      "source": [
        "#There may be a correlation with when people start their application\n",
        "col = 'hour_appr_process_start'\n",
        "fig = plt.figure(figsize = (12,6))\n",
        "ax = fig.add_subplot(111)\n",
        "ax.bar(x = d['application_train_df'].groupby(col).agg({'target':'mean','sk_id_curr':'count'})['target'].index, height = d['application_train_df'].groupby(col).agg({'target':'mean','sk_id_curr':'count'})['target'].values)\n",
        "\n",
        "ax.set_ylim(0,0.1)\n",
        "\n",
        "# # TO DO:  add axes titles and plot title"
      ]
    },
    {
      "cell_type": "code",
      "execution_count": null,
      "metadata": {
        "colab": {
          "base_uri": "https://localhost:8080/"
        },
        "id": "qOJPttCWwXpv",
        "outputId": "3e2c932b-a41a-437a-af8f-880039268eff"
      },
      "outputs": [],
      "source": [
        "# Values other than 'Working','Commercial associate','Pensioner','State servant' are extremely rare for the columns 'name_income_type' and will be grouped into an 'Other' category\n",
        "\n",
        "print(d['application_train_df']['name_income_type'].value_counts())\n",
        "\n",
        "d['application_train_df'].loc[~d['application_train_df']['name_income_type'].isin(['Working','Commercial associate','Pensioner','State servant']),'name_income_type'] = 'Other'\n",
        "d['application_test_df'].loc[~d['application_test_df']['name_income_type'].isin(['Working','Commercial associate','Pensioner','State servant']),'name_income_type'] = 'Other'"
      ]
    },
    {
      "cell_type": "code",
      "execution_count": null,
      "metadata": {},
      "outputs": [],
      "source": []
    },
    {
      "cell_type": "code",
      "execution_count": null,
      "metadata": {
        "colab": {
          "base_uri": "https://localhost:8080/"
        },
        "id": "-g5mu6hPwXpv",
        "outputId": "87428044-bbef-4e7e-8499-8420d84f1eff"
      },
      "outputs": [],
      "source": [
        "# majority of people are solo. Other then Family / spouse or partner, it's pretty sparse, so not worth one-hot encoding. Instead, we have a binary variable for \"lives_alone\"\n",
        "\n",
        "print(d['application_train_df']['name_type_suite'].value_counts())\n",
        "\n",
        "d['application_train_df']['lives_alone']  = np.where(d['application_train_df']['name_type_suite'] == 'Unaccompanied',1,0)\n",
        "d['application_train_df'].drop('name_type_suite',axis=1,inplace=True)\n",
        "\n",
        "d['application_test_df']['lives_alone']  = np.where(d['application_test_df']['name_type_suite'] == 'Unaccompanied',1,0)\n",
        "d['application_test_df'].drop('name_type_suite',axis=1,inplace=True)"
      ]
    },
    {
      "cell_type": "code",
      "execution_count": null,
      "metadata": {
        "colab": {
          "base_uri": "https://localhost:8080/"
        },
        "id": "FzliGPIKwXpv",
        "outputId": "9f81739a-76be-47dc-e77b-701827c3ba9e"
      },
      "outputs": [],
      "source": [
        "print(d['application_train_df']['name_education_type'].value_counts())\n",
        "\n",
        "#grouping in Academic Degree with Higher Education as it is a form of Higher Education and there are only 164 rows with Academic Degree\n",
        "d['application_train_df'].loc[d['application_train_df']['name_education_type'] == 'Academic degree','name_education_type'] = 'Higher education'\n",
        "d['application_test_df'].loc[d['application_test_df']['name_education_type'] == 'Academic degree','name_education_type'] = 'Higher education'"
      ]
    },
    {
      "cell_type": "code",
      "execution_count": null,
      "metadata": {
        "colab": {
          "base_uri": "https://localhost:8080/"
        },
        "id": "9Ds6VpT4wXpw",
        "outputId": "d5bb2942-7292-4c61-bce7-a5ec2c6632ec"
      },
      "outputs": [],
      "source": [
        "#unknown is 2 samples. saving a column by just making it Single / not married\n",
        "\n",
        "print(d['application_train_df']['name_family_status'].value_counts())\n",
        "d['application_train_df'].loc[d['application_train_df']['name_family_status'] == 'Unknown','name_family_status'] = 'Single / not married'\n",
        "d['application_test_df'].loc[d['application_test_df']['name_family_status'] == 'Unknown','name_family_status'] = 'Single / not married'"
      ]
    },
    {
      "cell_type": "code",
      "execution_count": null,
      "metadata": {
        "colab": {
          "base_uri": "https://localhost:8080/"
        },
        "id": "fEdIDE7BwXpw",
        "outputId": "a350c3ba-7ef4-439e-d886-d4d77640b16a"
      },
      "outputs": [],
      "source": [
        "#Why are House / apartment not seperated? -- Makes this feature essentially useless. Will keep this as is and will one-hot encode it\n",
        "\n",
        "d['application_train_df']['name_housing_type'].value_counts()"
      ]
    },
    {
      "cell_type": "code",
      "execution_count": null,
      "metadata": {
        "colab": {
          "base_uri": "https://localhost:8080/"
        },
        "id": "QqJsmKuJwXpw",
        "outputId": "081a281d-0c12-4d11-a9ba-c5c160e16d41"
      },
      "outputs": [],
      "source": [
        "d['application_train_df'].groupby('name_housing_type').agg({'target':'mean','sk_id_curr':'count'}).sort_values(by='target').reset_index()\n"
      ]
    },
    {
      "cell_type": "code",
      "execution_count": null,
      "metadata": {
        "colab": {
          "base_uri": "https://localhost:8080/"
        },
        "id": "_UM1YZjiwXpw",
        "outputId": "133a0653-4cdd-499f-e08b-844a81ccc618"
      },
      "outputs": [],
      "source": [
        "d['application_test_df']['name_housing_type'].value_counts()\n"
      ]
    },
    {
      "cell_type": "code",
      "execution_count": null,
      "metadata": {
        "colab": {
          "base_uri": "https://localhost:8080/"
        },
        "id": "Wcj1oDGfwXpw",
        "outputId": "4d244c4c-bd98-43b4-c90d-d56a67d254b8"
      },
      "outputs": [],
      "source": [
        "d['application_train_df'][[x for x in d['application_train_df'].columns if 'amt_req_credit' in x]].isna().sum()\n"
      ]
    },
    {
      "cell_type": "code",
      "execution_count": null,
      "metadata": {
        "id": "BQ67ziH5wXpx"
      },
      "outputs": [],
      "source": []
    },
    {
      "cell_type": "markdown",
      "metadata": {
        "id": "T9_j6ITxwXpx"
      },
      "source": [
        "For the `amt_req_credit` columns, these represent how many credit pulls they've had during certain time periods. The null values have a higher default rate, so we will fill the nulls with a mean and have a dummy variable for `unknown_credit`"
      ]
    },
    {
      "cell_type": "code",
      "execution_count": null,
      "metadata": {
        "colab": {
          "base_uri": "https://localhost:8080/"
        },
        "id": "AR9MF6NcwXpx",
        "outputId": "b2d6a348-8858-46d5-a42d-d9e5d06389a6"
      },
      "outputs": [],
      "source": [
        "for col in [x for x in d['application_train_df'].columns if 'amt_req_credit' in x]:\n",
        "    print(col)\n",
        "    print(d['application_train_df'][col].value_counts())"
      ]
    },
    {
      "cell_type": "code",
      "execution_count": null,
      "metadata": {
        "colab": {
          "base_uri": "https://localhost:8080/"
        },
        "id": "Jp4Ha_lFwXpx",
        "outputId": "cdb82cb0-ac5c-4435-b5b4-f4727d958895"
      },
      "outputs": [],
      "source": [
        "d['application_train_df'].groupby('amt_req_credit_bureau_year')['target'].mean()\n"
      ]
    },
    {
      "cell_type": "code",
      "execution_count": null,
      "metadata": {
        "colab": {
          "base_uri": "https://localhost:8080/"
        },
        "id": "ONk6SNOKwXpx",
        "outputId": "ea9caeb1-bf43-4e69-b0df-07c869744109"
      },
      "outputs": [],
      "source": [
        "d['application_train_df'].loc[d['application_train_df']['amt_req_credit_bureau_year'].isna(),'target'].mean()\n"
      ]
    },
    {
      "cell_type": "code",
      "execution_count": null,
      "metadata": {
        "colab": {
          "base_uri": "https://localhost:8080/"
        },
        "id": "-uAJkakBwXpx",
        "outputId": "d1b647f8-2347-4b17-e728-c1cdaee75dc8"
      },
      "outputs": [],
      "source": [
        "d['application_train_df']['amt_req_credit_bureau_year'].mean()\n"
      ]
    },
    {
      "cell_type": "code",
      "execution_count": null,
      "metadata": {
        "id": "xv3NQeJRwXpy"
      },
      "outputs": [],
      "source": [
        "#dummy variable for the people with missing credit\n",
        "\n",
        "d['application_train_df']['unknown_credit'] = np.where(d['application_train_df']['amt_req_credit_bureau_year'].isna(),1,0)\n",
        "d['application_test_df']['unknown_credit'] = np.where(d['application_test_df']['amt_req_credit_bureau_year'].isna(),1,0)\n"
      ]
    },
    {
      "cell_type": "code",
      "execution_count": null,
      "metadata": {
        "id": "oxBhgKGfwXpy"
      },
      "outputs": [],
      "source": [
        "for col in [x for x in d['application_train_df'].columns if 'amt_req_credit' in x]:\n",
        "    d['application_train_df'][col].fillna(d['application_train_df'][col].mean(),inplace=True)\n",
        "    d['application_test_df'][col].fillna(d['application_test_df'][col].mean(),inplace=True)\n"
      ]
    },
    {
      "cell_type": "markdown",
      "metadata": {
        "id": "37X1KiJMwXpz"
      },
      "source": [
        "To fill the nulls in `amt_annuity`, we will use the ratio of `amt_annuity` and `amt_credit` due to the high correlation. Could additionally be modeled, but not worth the time investment due to the small amount of rows"
      ]
    },
    {
      "cell_type": "code",
      "execution_count": null,
      "metadata": {
        "colab": {
          "base_uri": "https://localhost:8080/"
        },
        "id": "TUxD-qdbwXp0",
        "outputId": "3612e2d1-c9ed-49ec-c750-5c9e9de56328"
      },
      "outputs": [],
      "source": [
        "d['application_train_df']['amt_annuity'].isna().sum()"
      ]
    },
    {
      "cell_type": "code",
      "execution_count": null,
      "metadata": {
        "colab": {
          "base_uri": "https://localhost:8080/"
        },
        "id": "4XDlCMF-wXp0",
        "outputId": "ee4b6aca-5b26-4042-d247-bdb0a5a37f34"
      },
      "outputs": [],
      "source": [
        "d['application_test_df']['amt_annuity'].isna().sum()"
      ]
    },
    {
      "cell_type": "code",
      "execution_count": null,
      "metadata": {
        "colab": {
          "base_uri": "https://localhost:8080/",
          "height": 112
        },
        "id": "ju4pLGNRwXp0",
        "outputId": "5699388e-b642-4a20-c8ba-91fcda506e6b"
      },
      "outputs": [],
      "source": [
        "d['application_train_df'][['amt_annuity','amt_credit']].corr()\n"
      ]
    },
    {
      "cell_type": "code",
      "execution_count": null,
      "metadata": {
        "id": "szTHb5wiwXp0"
      },
      "outputs": [],
      "source": [
        "annuity_to_credit_ratio = (d['application_train_df']['amt_annuity'] / d['application_train_df']['amt_credit']).mean()\n"
      ]
    },
    {
      "cell_type": "code",
      "execution_count": null,
      "metadata": {
        "id": "WncOGGALwXp0"
      },
      "outputs": [],
      "source": [
        "d['application_train_df'].loc[d['application_train_df']['amt_annuity'].isna(),'amt_annuity'] = d['application_train_df'].loc[d['application_train_df']['amt_annuity'].isna(),'amt_credit'] * annuity_to_credit_ratio\n"
      ]
    },
    {
      "cell_type": "code",
      "execution_count": null,
      "metadata": {
        "id": "lI4_Xui9wXp1"
      },
      "outputs": [],
      "source": [
        "d['application_test_df'].loc[d['application_test_df']['amt_annuity'].isna(),'amt_annuity'] = d['application_test_df'].loc[d['application_test_df']['amt_annuity'].isna(),'amt_credit'] * annuity_to_credit_ratio\n"
      ]
    },
    {
      "cell_type": "code",
      "execution_count": null,
      "metadata": {
        "id": "J1vfix9WwXp1"
      },
      "outputs": [],
      "source": []
    },
    {
      "cell_type": "code",
      "execution_count": null,
      "metadata": {
        "id": "UN-KNxGywXp1"
      },
      "outputs": [],
      "source": []
    },
    {
      "cell_type": "markdown",
      "metadata": {
        "id": "ObzXckUcwXp1"
      },
      "source": [
        "The instances where `amt_goods_price` is null are all revolving loans, making up 1% of the revolving loans. We will set them to the amt_credit in this case due to the correlation"
      ]
    },
    {
      "cell_type": "code",
      "execution_count": null,
      "metadata": {
        "colab": {
          "base_uri": "https://localhost:8080/"
        },
        "id": "LPg0T_pVwXp1",
        "outputId": "e3f0e93d-f3ec-4ab3-b34f-5aabf7a42c2f"
      },
      "outputs": [],
      "source": [
        "d['application_train_df'].loc[d['application_train_df']['amt_goods_price'].isna(),'name_contract_type'].value_counts()\n"
      ]
    },
    {
      "cell_type": "code",
      "execution_count": null,
      "metadata": {
        "colab": {
          "base_uri": "https://localhost:8080/",
          "height": 112
        },
        "id": "UY6Ap-zawXp1",
        "outputId": "4c43eb5d-c333-420b-c494-281064085a6b"
      },
      "outputs": [],
      "source": [
        "d['application_train_df'].loc[d['application_train_df']['name_contract_type'] == 'Revolving loans',['amt_credit','amt_goods_price']].corr()\n"
      ]
    },
    {
      "cell_type": "code",
      "execution_count": null,
      "metadata": {
        "colab": {
          "base_uri": "https://localhost:8080/",
          "height": 112
        },
        "id": "3tknnv7pwXp2",
        "outputId": "f01a864b-e494-4f45-f5b8-c2d8020d9511"
      },
      "outputs": [],
      "source": [
        "d['application_train_df'].loc[d['application_train_df']['name_contract_type'] != 'Revolving loans',['amt_credit','amt_goods_price']].corr()\n"
      ]
    },
    {
      "cell_type": "code",
      "execution_count": null,
      "metadata": {
        "id": "2BXF4xV6wXp2"
      },
      "outputs": [],
      "source": [
        "d['application_train_df']['amt_goods_price'].fillna(d['application_train_df']['amt_credit'],inplace=True)\n",
        "d['application_test_df']['amt_goods_price'].fillna(d['application_test_df']['amt_credit'],inplace=True)\n"
      ]
    },
    {
      "cell_type": "code",
      "execution_count": null,
      "metadata": {
        "id": "Ec-AcAE0wXp3"
      },
      "outputs": [],
      "source": []
    },
    {
      "cell_type": "markdown",
      "metadata": {
        "id": "5ihCIQOMwXp3"
      },
      "source": [
        "There is only one null value for this `days_last_phone_change`, so we will just fill it with the mean\n",
        "It is interesting that 12% of the values have `0` as the value for this. This means that 12% of people applying for loans changed their number that day. While it may make sense to make these values null, there is a possibility that recently changing your phone number and applying for credit is correlated. A lot of people applying for emergency funding loans / personal credit loans may be going through something that requires them to also get a new phone number. Due to the possibility of this being rational, we will not void the values of `0`. These observations have higher probability to default, so we will create an additional dummy variable to catch any non-linearity of this relationship."
      ]
    },
    {
      "cell_type": "code",
      "execution_count": null,
      "metadata": {
        "colab": {
          "base_uri": "https://localhost:8080/"
        },
        "id": "_cQcHYTEwXp3",
        "outputId": "c915a9a2-5913-4b90-cab9-140a4d521a7e"
      },
      "outputs": [],
      "source": [
        "d['application_train_df']['days_last_phone_change'].isna().sum()\n"
      ]
    },
    {
      "cell_type": "code",
      "execution_count": null,
      "metadata": {
        "colab": {
          "base_uri": "https://localhost:8080/"
        },
        "id": "JC7l0cahwXp3",
        "outputId": "d01cd365-0ba3-437c-ea79-d8418fc06660"
      },
      "outputs": [],
      "source": [
        "d['application_train_df']['days_last_phone_change'].value_counts()\n"
      ]
    },
    {
      "cell_type": "code",
      "execution_count": null,
      "metadata": {
        "id": "IxTCMGWpwXp3"
      },
      "outputs": [],
      "source": [
        "d['application_train_df']['days_last_phone_change'].fillna(d['application_train_df']['days_last_phone_change'].mean(),inplace=True)\n",
        "d['application_test_df']['days_last_phone_change'].fillna(d['application_test_df']['days_last_phone_change'].mean(),inplace=True)"
      ]
    },
    {
      "cell_type": "code",
      "execution_count": null,
      "metadata": {
        "colab": {
          "base_uri": "https://localhost:8080/"
        },
        "id": "HK3NWIyuOgB8",
        "outputId": "84d80cca-d33d-4aeb-d311-f7762151479d"
      },
      "outputs": [],
      "source": [
        "d['application_train_df'].loc[d['application_train_df']['days_last_phone_change'] == 0,'target'].mean()"
      ]
    },
    {
      "cell_type": "code",
      "execution_count": null,
      "metadata": {
        "colab": {
          "base_uri": "https://localhost:8080/"
        },
        "id": "CDJtLY6iOgB8",
        "outputId": "8c1051e9-29ff-4212-b164-da69d731d600"
      },
      "outputs": [],
      "source": [
        "d['application_train_df'].loc[d['application_train_df']['days_last_phone_change'] != 0,'target'].mean()"
      ]
    },
    {
      "cell_type": "code",
      "execution_count": null,
      "metadata": {
        "id": "dm-yq4rwOgB9"
      },
      "outputs": [],
      "source": [
        "d['application_train_df']['changed_phone_day_of'] = np.where(d['application_train_df']['days_last_phone_change'] == 0,1,0)\n",
        "d['application_test_df']['changed_phone_day_of'] = np.where(d['application_test_df']['days_last_phone_change'] == 0,1,0)"
      ]
    },
    {
      "cell_type": "markdown",
      "metadata": {
        "id": "znwb5ObMwXp4"
      },
      "source": [
        "Only two null values in `cnt_fam_members`, but seemingly no correlation to default rate. Will fill with mean"
      ]
    },
    {
      "cell_type": "code",
      "execution_count": null,
      "metadata": {
        "colab": {
          "base_uri": "https://localhost:8080/"
        },
        "id": "yoXtxpHxwXp4",
        "outputId": "8a909a45-4bc0-4131-b56f-b3fb532e7d43"
      },
      "outputs": [],
      "source": [
        "d['application_train_df']['cnt_fam_members'].isna().sum()\n"
      ]
    },
    {
      "cell_type": "code",
      "execution_count": null,
      "metadata": {
        "colab": {
          "base_uri": "https://localhost:8080/"
        },
        "id": "kSZ1uj9WwXp4",
        "outputId": "f3fbb7b0-cadc-42b8-c3db-a721da4e6116"
      },
      "outputs": [],
      "source": [
        "d['application_train_df']['cnt_fam_members'].value_counts()\n"
      ]
    },
    {
      "cell_type": "code",
      "execution_count": null,
      "metadata": {
        "id": "f9CFsD1twXp4"
      },
      "outputs": [],
      "source": [
        "d['application_train_df']['cnt_fam_members'].fillna(d['application_train_df']['cnt_fam_members'].mean(),inplace=True)\n",
        "d['application_test_df']['cnt_fam_members'].fillna(d['application_test_df']['cnt_fam_members'].mean(),inplace=True)\n"
      ]
    },
    {
      "cell_type": "code",
      "execution_count": null,
      "metadata": {
        "colab": {
          "base_uri": "https://localhost:8080/",
          "height": 589
        },
        "id": "JeCOVvwawXp4",
        "outputId": "1449d974-c519-479c-e791-bd802087d2f1"
      },
      "outputs": [],
      "source": [
        "col = 'cnt_fam_members'\n",
        "fig = plt.figure(figsize = (14,8))\n",
        "ax = fig.add_subplot(111)\n",
        "\n",
        "temp = d['application_train_df'].groupby(col).agg({'target':'mean','sk_id_curr':'count'})\n",
        "ax.bar(temp.index, temp['target'])\n",
        "\n",
        "\n",
        "ax.set_xlim(0,5.5) #cut this off at 5 b/c there is very few samples of 6+\n",
        "ax.set_ylim(0,0.2)\n",
        "ax.set_title('Default Rate by Number of Family Members')\n",
        "\n",
        "plt.show()\n",
        "\n",
        "# TO DO:  add axes titles"
      ]
    },
    {
      "cell_type": "code",
      "execution_count": null,
      "metadata": {
        "id": "3m3PsLdlwXp5"
      },
      "outputs": [],
      "source": []
    },
    {
      "cell_type": "markdown",
      "metadata": {
        "id": "Tuczwps6wXp5"
      },
      "source": [
        "## External Sources (3 columns labeled with suffix _1, _2, and _3)\n",
        "- NOTE: Rerun these. I ran these again after dealing with external source 1. Then delete this comment"
      ]
    },
    {
      "cell_type": "code",
      "execution_count": null,
      "metadata": {
        "colab": {
          "base_uri": "https://localhost:8080/"
        },
        "id": "XXuSCC1bwXp5",
        "outputId": "41e08689-1b0e-45b4-a80c-8b695e5bacc3"
      },
      "outputs": [],
      "source": [
        "for i in range(1,4,1):\n",
        "    pct_null = d['application_train_df'][f'ext_source_{i}'].isna().sum() / len(d['application_train_df'])\n",
        "    print(f'Percent of null values in training dataset for ext_source_{i}: {pct_null:.3%}')"
      ]
    },
    {
      "cell_type": "code",
      "execution_count": null,
      "metadata": {
        "colab": {
          "base_uri": "https://localhost:8080/"
        },
        "id": "B-I5xJi7ZzdA",
        "outputId": "b80997be-f9a8-4bee-c2d8-7c1654089074"
      },
      "outputs": [],
      "source": [
        "for i in range(1,4,1):\n",
        "    pct_null = d['application_test_df'][f'ext_source_{i}'].isna().sum() / len(d['application_train_df'])\n",
        "    print(f'Percent of null values in the test dataset for ext_source_{i}: {pct_null:.3%}')"
      ]
    },
    {
      "cell_type": "code",
      "execution_count": null,
      "metadata": {
        "id": "VHrHWNibwXp5"
      },
      "outputs": [],
      "source": [
        "temp = d['application_train_df'][['target','ext_source_1','ext_source_2','ext_source_3']].copy()"
      ]
    },
    {
      "cell_type": "code",
      "execution_count": null,
      "metadata": {
        "id": "EH7LBK1iwXp6"
      },
      "outputs": [],
      "source": [
        "temp['ext_source_1_bin'] = pd.qcut(temp['ext_source_1'], q = 10, duplicates = 'drop', labels = np.arange(1,11,1))\n",
        "temp['ext_source_2_bin'] = pd.qcut(temp['ext_source_2'], q = 10, duplicates = 'drop', labels = np.arange(1,11,1))\n",
        "temp['ext_source_3_bin'] = pd.qcut(temp['ext_source_3'], q = 10, duplicates = 'drop', labels = np.arange(1,11,1))"
      ]
    },
    {
      "cell_type": "code",
      "execution_count": null,
      "metadata": {
        "id": "TBNJnlvhwXp6"
      },
      "outputs": [],
      "source": [
        "temp1 = temp.groupby('ext_source_1_bin').agg({'target':'mean'})\n",
        "temp2 = temp.groupby('ext_source_2_bin').agg({'target':'mean'})\n",
        "temp3 = temp.groupby('ext_source_3_bin').agg({'target':'mean'})"
      ]
    },
    {
      "cell_type": "code",
      "execution_count": null,
      "metadata": {
        "colab": {
          "base_uri": "https://localhost:8080/",
          "height": 606
        },
        "id": "KiUixcY_wXp6",
        "outputId": "4700f6e9-ea05-40db-e545-c24f23b238ab"
      },
      "outputs": [],
      "source": [
        "fig = plt.figure(figsize = (14,8))\n",
        "ax = fig.add_subplot(111)\n",
        "\n",
        "#have a bar for each of temp1,temp2,temp3 where each xtick has 3 bars\n",
        "ax.bar(x = np.arange(1,11,1) - 0.2, height = temp1['target'].values, width = 0.2, label = 'ext_source_1')\n",
        "ax.bar(x = np.arange(1,11,1), height = temp2['target'].values, width = 0.2, label = 'ext_source_2')\n",
        "ax.bar(x = np.arange(1,11,1) + 0.2, height = temp3['target'].values, width = 0.2, label = 'ext_source_3')\n",
        "\n",
        "# ax.set_xticks([0,1])\n",
        "ax.set_ylabel('Default Rate')\n",
        "ax.set_xlabel('External Source Decile')\n",
        "ax.set_title('Default Rate by External Source Decile')\n",
        "\n",
        "ax.legend()\n",
        "\n",
        "plt.show()"
      ]
    },
    {
      "cell_type": "code",
      "execution_count": null,
      "metadata": {
        "colab": {
          "base_uri": "https://localhost:8080/",
          "height": 210
        },
        "id": "ZFjO5l3rwXp6",
        "outputId": "510d2836-0591-49f2-9d84-280f5c06b101"
      },
      "outputs": [],
      "source": [
        "temp.corr()\n"
      ]
    },
    {
      "cell_type": "markdown",
      "metadata": {
        "id": "AE2BR8DhwXp6"
      },
      "source": [
        "We can see above that the 3 External sources are very predictive in sloping default rates, and the correlation between the values is reasonable (~20%) with one another. It is worth attempting to model the nulls for `ext_source_1`, if possible."
      ]
    },
    {
      "cell_type": "code",
      "execution_count": null,
      "metadata": {
        "id": "-4TLKNSJwXp7"
      },
      "outputs": [],
      "source": [
        "ext_source_1_corr = d['application_train_df'].corr(numeric_only=True)['ext_source_1']\n"
      ]
    },
    {
      "cell_type": "code",
      "execution_count": null,
      "metadata": {
        "colab": {
          "base_uri": "https://localhost:8080/"
        },
        "id": "rq_MlOwUwXp7",
        "outputId": "ce2c8abb-2375-4fe6-fc59-9ba71bb32ec1"
      },
      "outputs": [],
      "source": [
        "ext_source_1_corr[ext_source_1_corr.abs() > 0.05]\n"
      ]
    },
    {
      "cell_type": "code",
      "execution_count": null,
      "metadata": {
        "id": "tblPCkM-wXp7"
      },
      "outputs": [],
      "source": [
        "# remove all the other external source columns and the target column\n",
        "features_to_model_ext_source_1 = [x for x in d['application_train_df'].isna().sum()[ext_source_1_corr[ext_source_1_corr.abs() > 0.05].index].index if x not in ['target','ext_source_1','ext_source_2','ext_source_3']]\n"
      ]
    },
    {
      "cell_type": "code",
      "execution_count": null,
      "metadata": {
        "colab": {
          "base_uri": "https://localhost:8080/"
        },
        "id": "uhKPO3lkwXp7",
        "outputId": "6eec8aee-c7be-41cc-f17e-0a12f81001a8"
      },
      "outputs": [],
      "source": [
        "d['application_train_df'].isna().sum()[features_to_model_ext_source_1]\n"
      ]
    },
    {
      "cell_type": "code",
      "execution_count": null,
      "metadata": {
        "id": "xgHTjJkxwXp7"
      },
      "outputs": [],
      "source": []
    },
    {
      "cell_type": "markdown",
      "metadata": {
        "id": "-q-lzdunwXp8"
      },
      "source": [
        "### TODO: Improve Modeling technique to predict External Source 1. Maybe some feature selection? This is a placeholder\n",
        "\n",
        "Due to the importance of `ext_source_1`, we model out the missing values using other dataset features and have a dummy variable that indicates if it was previously null and now modeled to capture the delta"
      ]
    },
    {
      "cell_type": "code",
      "execution_count": null,
      "metadata": {
        "id": "UEsk3Io4wXp8"
      },
      "outputs": [],
      "source": [
        "#Build a Lasso regression to predict ext_source_1\n",
        "\n",
        "X_train, X_test, y_train, y_test = train_test_split(d['application_train_df'].loc[d['application_train_df']['ext_source_1'].notna(),features_to_model_ext_source_1],d['application_train_df'].loc[d['application_train_df']['ext_source_1'].notna(),'ext_source_1'], test_size = 0.3, random_state = seed)\n",
        "\n",
        "ridge_reg = Ridge(random_state=seed,alpha = 1).fit(X_train, y_train)\n"
      ]
    },
    {
      "cell_type": "code",
      "execution_count": null,
      "metadata": {
        "colab": {
          "base_uri": "https://localhost:8080/"
        },
        "id": "EG0IKKdTwXp8",
        "outputId": "27d66e13-6249-4950-f9a4-f237ca18038d"
      },
      "outputs": [],
      "source": [
        "ridge_reg.score(X_test,y_test)\n"
      ]
    },
    {
      "cell_type": "code",
      "execution_count": null,
      "metadata": {
        "id": "8N2Tdd9FwXp8"
      },
      "outputs": [],
      "source": [
        "d['application_train_df']['modeled_ext_source_1'] = ridge_reg.predict(d['application_train_df'][features_to_model_ext_source_1])\n",
        "d['application_test_df']['modeled_ext_source_1'] = ridge_reg.predict(d['application_test_df'][features_to_model_ext_source_1])\n"
      ]
    },
    {
      "cell_type": "code",
      "execution_count": null,
      "metadata": {
        "id": "n4cek6O9wXp9"
      },
      "outputs": [],
      "source": [
        "d['application_train_df']['null_ext_source_1'] = np.where(d['application_train_df']['ext_source_1'].isna(),1,0)\n",
        "d['application_test_df']['null_ext_source_1'] = np.where(d['application_test_df']['ext_source_1'].isna(),1,0)\n"
      ]
    },
    {
      "cell_type": "code",
      "execution_count": null,
      "metadata": {
        "colab": {
          "base_uri": "https://localhost:8080/"
        },
        "id": "tAKHslSCwXp9",
        "outputId": "9ca48f73-8860-4631-9ecb-2206b29567be"
      },
      "outputs": [],
      "source": [
        "temp = d['application_train_df'][['target','ext_source_1','modeled_ext_source_1']].copy()\n",
        "temp['ext_source_1_bin'] = pd.qcut(temp['ext_source_1'], q = 10, duplicates = 'drop', labels = np.arange(1,11,1))\n",
        "temp['ext_source_1_modeled_bin'] = pd.qcut(temp['modeled_ext_source_1'], q = 10, duplicates = 'drop', labels = np.arange(1,11,1))\n",
        "\n",
        "\n",
        "temp1 = temp.groupby('ext_source_1_bin').agg({'target':'mean'})\n",
        "temp2 = temp.groupby('ext_source_1_modeled_bin').agg({'target':'mean'})\n",
        "\n",
        "fig = plt.figure(figsize = (14,8))\n",
        "ax = fig.add_subplot(111)\n",
        "\n",
        "#have a bar for each of temp1,temp2,temp3 where each xtick has 3 bars\n",
        "ax.bar(x = np.arange(1,11,1) - 0.2, height = temp1['target'].values, width = 0.2, label = 'ext_source_1')\n",
        "ax.bar(x = np.arange(1,11,1), height = temp2['target'].values, width = 0.2, label = 'ext_source_1_modeled_bin')\n",
        "\n",
        "# ax.set_xticks([0,1])\n",
        "ax.set_ylabel('Default Rate')\n",
        "ax.set_xlabel('External Source Decile')\n",
        "ax.set_title('Default Rate by External Source 1 vs the Modeled (for missing values) Decile')\n",
        "\n",
        "ax.legend()\n",
        "\n",
        "plt.show()"
      ]
    },
    {
      "cell_type": "code",
      "execution_count": null,
      "metadata": {
        "colab": {
          "base_uri": "https://localhost:8080/",
          "height": 589
        },
        "id": "Zg5Wx2pPwXp9",
        "outputId": "9df70ff5-50d2-4143-8846-05a62275304b"
      },
      "outputs": [],
      "source": [
        "col = 'null_ext_source_1'\n",
        "fig = plt.figure(figsize = (14,8))\n",
        "ax = fig.add_subplot(111)\n",
        "\n",
        "temp = d['application_train_df'].groupby(col).agg({'target':'mean','sk_id_curr':'count'})\n",
        "ax.bar(temp.index, temp['target'])\n",
        "\n",
        "ax.set_title('Default Rate by Null Value Indicator for External Source 1')\n",
        "\n",
        "ax.set_xticks([0,1])\n",
        "ax.set_xticklabels(['Not Null','Null'])\n",
        "\n",
        "plt.show()"
      ]
    },
    {
      "cell_type": "code",
      "execution_count": null,
      "metadata": {
        "id": "KeyemBfmwXp9"
      },
      "outputs": [],
      "source": [
        "# Fill nulls with the modeled values. Drop Modeled values\n",
        "\n",
        "d['application_train_df']['ext_source_1'].fillna(d['application_train_df']['modeled_ext_source_1'],inplace=True)\n",
        "d['application_test_df']['ext_source_1'].fillna(d['application_test_df']['modeled_ext_source_1'],inplace=True)\n",
        "\n",
        "d['application_train_df'].drop(columns = ['modeled_ext_source_1'],inplace=True)\n",
        "d['application_test_df'].drop(columns = ['modeled_ext_source_1'],inplace=True)"
      ]
    },
    {
      "cell_type": "code",
      "execution_count": null,
      "metadata": {
        "id": "Db9CyMBzZzdE"
      },
      "outputs": [],
      "source": []
    },
    {
      "cell_type": "code",
      "execution_count": null,
      "metadata": {
        "id": "ZGfV2N83ZzdE"
      },
      "outputs": [],
      "source": []
    },
    {
      "cell_type": "markdown",
      "metadata": {
        "id": "aEMX3_LBZzdE"
      },
      "source": [
        "We will repeat this process for `ext_source_2` as 20% of the training data is null. Only 3% of the test data is null for this column."
      ]
    },
    {
      "cell_type": "code",
      "execution_count": null,
      "metadata": {
        "id": "vNtIewdCZzdE"
      },
      "outputs": [],
      "source": [
        "ext_source_2_corr = d['application_train_df'].corr(numeric_only=True)['ext_source_2']"
      ]
    },
    {
      "cell_type": "code",
      "execution_count": null,
      "metadata": {
        "colab": {
          "base_uri": "https://localhost:8080/"
        },
        "id": "0vvl76BGZzdE",
        "outputId": "c9a88522-33c5-4850-8d3e-55e72d1fbf38"
      },
      "outputs": [],
      "source": [
        "ext_source_2_corr[ext_source_2_corr.abs() > 0.05]"
      ]
    },
    {
      "cell_type": "code",
      "execution_count": null,
      "metadata": {
        "id": "WRSHFcH2ZzdE"
      },
      "outputs": [],
      "source": []
    },
    {
      "cell_type": "markdown",
      "metadata": {
        "id": "0lxotwPWZzdF"
      },
      "source": [
        "`ext_source_2` is also very predictive, but only 0.21% of the values are null, so we will drop these rows and fill in the missing values in the test dataset with the mean\n",
        "<br> (only 0.003% of test values are null)"
      ]
    },
    {
      "cell_type": "code",
      "execution_count": null,
      "metadata": {
        "id": "zrs-KH2BZzdF"
      },
      "outputs": [],
      "source": [
        "\n",
        "d['application_train_df'].dropna(subset = ['ext_source_2'],inplace=True)\n",
        "d['application_test_df']['ext_source_2'].fillna(d['application_test_df']['ext_source_2'].mean(),inplace=True)\n"
      ]
    },
    {
      "cell_type": "markdown",
      "metadata": {
        "id": "uJXU_N8TZzdF"
      },
      "source": [
        "## TODO: talk with team to see if we should use other external source columns to model external_source_3. That or we need to improve this modeling technique"
      ]
    },
    {
      "cell_type": "code",
      "execution_count": null,
      "metadata": {
        "id": "_5JNOXd5ZzdF"
      },
      "outputs": [],
      "source": [
        "ext_source_3_corr = d['application_train_df'].corr(numeric_only=True)['ext_source_3']"
      ]
    },
    {
      "cell_type": "code",
      "execution_count": null,
      "metadata": {
        "id": "jITqU1rcZzdF"
      },
      "outputs": [],
      "source": [
        "# remove all the other external source columns and the target column\n",
        "\n",
        "features_to_model_ext_source_3 = [x for x in d['application_train_df'].isna().sum()[ext_source_3_corr[ext_source_3_corr.abs() > 0.05].index].index if x not in ['target','ext_source_1','ext_source_2','ext_source_3']]"
      ]
    },
    {
      "cell_type": "code",
      "execution_count": null,
      "metadata": {
        "colab": {
          "base_uri": "https://localhost:8080/"
        },
        "id": "YxNGd16xZzdG",
        "outputId": "32434853-fa5d-4fea-a21d-83cf2d5e4e7f"
      },
      "outputs": [],
      "source": [
        "# 77% overlap between the variables in the two models\n",
        "\n",
        "len([x for x in features_to_model_ext_source_3 if x in features_to_model_ext_source_1]) / len(features_to_model_ext_source_3)"
      ]
    },
    {
      "cell_type": "code",
      "execution_count": null,
      "metadata": {
        "id": "U8ID4I1rZzdG"
      },
      "outputs": [],
      "source": [
        "#Build a Lasso regression to predict ext_source_1\n",
        "\n",
        "X_train, X_test, y_train, y_test = train_test_split(d['application_train_df'].loc[d['application_train_df']['ext_source_3'].notna(),\n",
        "                                                                                  features_to_model_ext_source_3],\n",
        "                                                                                  d['application_train_df'].loc[d['application_train_df']['ext_source_3'].notna(),'ext_source_3'],\n",
        "                                                                                  test_size = 0.3, random_state = seed + 1) #seed + 1 to avoid the same split as the previous model for ext_source_1\n",
        "\n",
        "ridge_reg = Ridge(random_state=seed,alpha = 1).fit(X_train, y_train)\n"
      ]
    },
    {
      "cell_type": "code",
      "execution_count": null,
      "metadata": {
        "colab": {
          "base_uri": "https://localhost:8080/"
        },
        "id": "tdk48pcnZzdG",
        "outputId": "b1b3d0a9-689b-49e4-f57c-90f4145adc61"
      },
      "outputs": [],
      "source": [
        "ridge_reg.score(X_test,y_test)"
      ]
    },
    {
      "cell_type": "code",
      "execution_count": null,
      "metadata": {
        "id": "f0JO2G6hZzdG"
      },
      "outputs": [],
      "source": [
        "d['application_train_df']['modeled_ext_source_3'] = ridge_reg.predict(d['application_train_df'][features_to_model_ext_source_3])\n",
        "d['application_test_df']['modeled_ext_source_3'] = ridge_reg.predict(d['application_test_df'][features_to_model_ext_source_3])\n"
      ]
    },
    {
      "cell_type": "code",
      "execution_count": null,
      "metadata": {
        "id": "Y7UfbNGTZzdH"
      },
      "outputs": [],
      "source": [
        "d['application_train_df']['null_ext_source_3'] = np.where(d['application_train_df']['ext_source_3'].isna(),1,0)\n",
        "d['application_test_df']['null_ext_source_3'] = np.where(d['application_test_df']['ext_source_3'].isna(),1,0)\n"
      ]
    },
    {
      "cell_type": "code",
      "execution_count": null,
      "metadata": {
        "colab": {
          "base_uri": "https://localhost:8080/",
          "height": 606
        },
        "id": "pYs-8TJGZzdH",
        "outputId": "0e57725c-4ba0-4cf1-fea0-c218325e1d4d"
      },
      "outputs": [],
      "source": [
        "temp = d['application_train_df'][['target','ext_source_3','modeled_ext_source_3']].copy()\n",
        "temp['ext_source_3_bin'] = pd.qcut(temp['ext_source_3'], q = 10, duplicates = 'drop', labels = np.arange(1,11,1))\n",
        "temp['ext_source_3_modeled_bin'] = pd.qcut(temp['modeled_ext_source_3'], q = 10, duplicates = 'drop', labels = np.arange(1,11,1))\n",
        "\n",
        "\n",
        "temp1 = temp.groupby('ext_source_3_bin').agg({'target':'mean'})\n",
        "temp2 = temp.groupby('ext_source_3_modeled_bin').agg({'target':'mean'})\n",
        "\n",
        "fig = plt.figure(figsize = (14,8))\n",
        "ax = fig.add_subplot(111)\n",
        "\n",
        "\n",
        "ax.bar(x = np.arange(1,11,1) - 0.2, height = temp1['target'].values, width = 0.2, label = 'ext_source_3')\n",
        "ax.bar(x = np.arange(1,11,1), height = temp2['target'].values, width = 0.2, label = 'ext_source_3_modeled_bin')\n",
        "\n",
        "# ax.set_xticks([0,1])\n",
        "ax.set_ylabel('Default Rate')\n",
        "ax.set_xlabel('External Source Decile')\n",
        "ax.set_title('Default Rate by External Source 3 vs the Modeled (for missing values) Decile')\n",
        "\n",
        "ax.legend()\n",
        "\n",
        "plt.show()"
      ]
    },
    {
      "cell_type": "code",
      "execution_count": null,
      "metadata": {
        "colab": {
          "base_uri": "https://localhost:8080/",
          "height": 589
        },
        "id": "qeDIxHTSZzdI",
        "outputId": "8b8fa54e-536a-463b-cff2-fd8d84e5bf1a"
      },
      "outputs": [],
      "source": [
        "\n",
        "col = 'null_ext_source_3'\n",
        "fig = plt.figure(figsize = (14,8))\n",
        "ax = fig.add_subplot(111)\n",
        "\n",
        "temp = d['application_train_df'].groupby(col).agg({'target':'mean','sk_id_curr':'count'})\n",
        "ax.bar(temp.index, temp['target'])\n",
        "\n",
        "ax.set_title('Default Rate by Null Value Indicator for External Source 3')\n",
        "\n",
        "ax.set_xticks([0,1])\n",
        "ax.set_xticklabels(['Not Null','Null'])\n",
        "\n",
        "plt.show()\n",
        "\n",
        "# TO DO:  add axes titles"
      ]
    },
    {
      "cell_type": "code",
      "execution_count": null,
      "metadata": {
        "id": "inuJn7j0ZzdI"
      },
      "outputs": [],
      "source": [
        "# Fill nulls with the modeled values. Drop Modeled values\n",
        "\n",
        "d['application_train_df']['ext_source_3'].fillna(d['application_train_df']['modeled_ext_source_3'],inplace=True)\n",
        "d['application_test_df']['ext_source_3'].fillna(d['application_test_df']['modeled_ext_source_3'],inplace=True)\n",
        "\n",
        "d['application_train_df'].drop(columns = ['modeled_ext_source_3'],inplace=True)\n",
        "d['application_test_df'].drop(columns = ['modeled_ext_source_3'],inplace=True)"
      ]
    },
    {
      "cell_type": "code",
      "execution_count": null,
      "metadata": {
        "id": "jJBsz_ztwXp-"
      },
      "outputs": [],
      "source": []
    },
    {
      "cell_type": "markdown",
      "metadata": {
        "id": "P2KQDzYNwXp-"
      },
      "source": [
        "Not sure what the column `fondkapremont_mode` means, but the categorical variable seems to slope to default somewhat, especially with Missing values having the highest default rate. The variable name and the column description is not informative"
      ]
    },
    {
      "cell_type": "code",
      "execution_count": null,
      "metadata": {
        "colab": {
          "base_uri": "https://localhost:8080/"
        },
        "id": "n8-jnDFDwXp-",
        "outputId": "91a048f4-0e32-423a-c208-f597cd6e61d1"
      },
      "outputs": [],
      "source": [
        "d['application_train_df']['fondkapremont_mode'].value_counts()"
      ]
    },
    {
      "cell_type": "code",
      "execution_count": null,
      "metadata": {
        "id": "a2SEP7nxwXp-"
      },
      "outputs": [],
      "source": [
        "\n",
        "d['application_train_df']['fondkapremont_mode'].fillna('missing',inplace=True)\n",
        "d['application_test_df']['fondkapremont_mode'].fillna('missing',inplace=True)\n"
      ]
    },
    {
      "cell_type": "code",
      "execution_count": null,
      "metadata": {
        "colab": {
          "base_uri": "https://localhost:8080/",
          "height": 607
        },
        "id": "XVc3WprowXp_",
        "outputId": "b56698bd-9eba-49cc-c7c5-f08b9d7f26d6"
      },
      "outputs": [],
      "source": [
        "col = 'fondkapremont_mode'\n",
        "fig = plt.figure(figsize = (14,8))\n",
        "ax = fig.add_subplot(111)\n",
        "\n",
        "temp = d['application_train_df'].groupby(col).agg({'target':'mean','sk_id_curr':'count'})\n",
        "ax.bar(temp.index, temp['target'])\n",
        "\n",
        "ax.set_title('Default Rate by fondkapremont_mode')\n",
        "\n",
        "plt.show()\n",
        "\n",
        "\n",
        "ax.set_xlabel('Fondkapremont Mode')\n",
        "ax.set_ylabel('Default Rate')\n",
        "\n",
        ";"
      ]
    },
    {
      "cell_type": "code",
      "execution_count": null,
      "metadata": {
        "id": "O66YMXv8wXp_"
      },
      "outputs": [],
      "source": []
    },
    {
      "cell_type": "markdown",
      "metadata": {
        "id": "_SbI8468wXp_"
      },
      "source": [
        "For `occupation_type`, nulls are theoretically have value because no known occupation hypothetically may be indicative of default risk. Off of a simple aggregation, it is not, but there may be hidden relationships with other variables"
      ]
    },
    {
      "cell_type": "code",
      "execution_count": null,
      "metadata": {
        "id": "f2tc4haqwXp_"
      },
      "outputs": [],
      "source": [
        "d['application_train_df']['occupation_type'].fillna('Unknown',inplace=True)\n",
        "d['application_test_df']['occupation_type'].fillna('Unknown',inplace=True)\n"
      ]
    },
    {
      "cell_type": "code",
      "execution_count": null,
      "metadata": {
        "colab": {
          "base_uri": "https://localhost:8080/"
        },
        "id": "9e7mwjuhwXqA",
        "outputId": "026ad4bc-9589-44ad-f8fa-dd444948a24b"
      },
      "outputs": [],
      "source": [
        "d['application_train_df']['occupation_type'].value_counts()\n"
      ]
    },
    {
      "cell_type": "code",
      "execution_count": null,
      "metadata": {
        "colab": {
          "base_uri": "https://localhost:8080/"
        },
        "id": "H0ZhHxj7wXqA",
        "outputId": "d3b83cff-2b20-4d5e-a01c-9e32a0c639e2"
      },
      "outputs": [],
      "source": [
        "col = 'occupation_type'\n",
        "fig = plt.figure(figsize = (14,8))\n",
        "ax = fig.add_subplot(111)\n",
        "\n",
        "temp = d['application_train_df'].groupby(col).agg({'target':'mean','sk_id_curr':'count'})\n",
        "ax.bar(temp.index, temp['target'])\n",
        "\n",
        "ax.set_title('Default Rate by Occupation Type')\n",
        "\n",
        "plt.xticks(rotation = 45)\n",
        "\n",
        "plt.show()"
      ]
    },
    {
      "cell_type": "code",
      "execution_count": null,
      "metadata": {
        "id": "CClEm6GfwXqA"
      },
      "outputs": [],
      "source": []
    },
    {
      "cell_type": "markdown",
      "metadata": {
        "id": "TiFADzMiwXqA"
      },
      "source": [
        "There are only a small amount of `null` values for social circle variables (~0.27%), so we will just drop these in the training dataset, and fill the test dataset with the mean."
      ]
    },
    {
      "cell_type": "code",
      "execution_count": null,
      "metadata": {
        "colab": {
          "base_uri": "https://localhost:8080/"
        },
        "id": "42s57yIfwXqB",
        "outputId": "5b873d36-4471-4844-f7ea-7bf9d5386a43"
      },
      "outputs": [],
      "source": [
        "d['application_train_df'].isna().sum()[[x for x in d['application_train_df'].columns if 'social_circle' in x]]\n"
      ]
    },
    {
      "cell_type": "code",
      "execution_count": null,
      "metadata": {
        "colab": {
          "base_uri": "https://localhost:8080/"
        },
        "id": "uw-wO0rLZzdN",
        "outputId": "4ae45d1f-7061-4ef5-e6f0-5db11a5453d3"
      },
      "outputs": [],
      "source": [
        "d['application_test_df'].isna().sum()[[x for x in d['application_train_df'].columns if 'social_circle' in x]]\n"
      ]
    },
    {
      "cell_type": "code",
      "execution_count": null,
      "metadata": {
        "id": "fNM4m8IZZzdN"
      },
      "outputs": [],
      "source": [
        "d['application_train_df'].dropna(subset = ['obs_30_cnt_social_circle','def_30_cnt_social_circle','obs_60_cnt_social_circle','def_60_cnt_social_circle'],inplace=True)\n"
      ]
    },
    {
      "cell_type": "code",
      "execution_count": null,
      "metadata": {
        "id": "Cg1kBb1TZzdN"
      },
      "outputs": [],
      "source": [
        "for col in ['obs_30_cnt_social_circle','def_30_cnt_social_circle','obs_60_cnt_social_circle','def_60_cnt_social_circle']:\n",
        "    d['application_test_df'][col].fillna(d['application_test_df'][col].mean(),inplace=True)\n"
      ]
    },
    {
      "cell_type": "code",
      "execution_count": null,
      "metadata": {
        "colab": {
          "base_uri": "https://localhost:8080/"
        },
        "id": "aKnC7mgCwXqB",
        "outputId": "25ebee9d-1618-414f-b686-b3b5dcf6fd7c"
      },
      "outputs": [],
      "source": [
        "d['application_train_df']['obs_60_cnt_social_circle'].value_counts()\n"
      ]
    },
    {
      "cell_type": "code",
      "execution_count": null,
      "metadata": {
        "colab": {
          "base_uri": "https://localhost:8080/"
        },
        "id": "PcseOsQDwXqB",
        "outputId": "3cb4a393-f750-4049-e383-4e1500be2f35"
      },
      "outputs": [],
      "source": [
        "d['application_train_df']['def_60_cnt_social_circle'].value_counts()\n"
      ]
    },
    {
      "cell_type": "code",
      "execution_count": null,
      "metadata": {
        "id": "yABWWVBjwXqB"
      },
      "outputs": [],
      "source": [
        "# We should also try taking the log of each due to the distribution\n",
        "for col in [x for x in d['application_train_df'].columns if 'social_circle' in x]:\n",
        "    d['application_train_df'][col + '_log'] = np.log(d['application_train_df'][col] + 1)\n",
        "    d['application_test_df'][col + '_log'] = np.log(d['application_test_df'][col] + 1)\n"
      ]
    },
    {
      "cell_type": "code",
      "execution_count": null,
      "metadata": {
        "colab": {
          "base_uri": "https://localhost:8080/",
          "height": 583
        },
        "id": "0vOexQdYwXqB",
        "outputId": "e6ad2b69-4ee2-43ba-f0ca-beacc82f6d5e"
      },
      "outputs": [],
      "source": [
        "d['application_train_df']\n"
      ]
    },
    {
      "cell_type": "code",
      "execution_count": null,
      "metadata": {
        "id": "ElzUUvY1wXqC"
      },
      "outputs": [],
      "source": [
        "object_cols = []\n",
        "\n",
        "for col in d['application_train_df'].columns:\n",
        "    if d['application_train_df'][col].dtype == 'object':\n",
        "        object_cols.append(col)\n"
      ]
    },
    {
      "cell_type": "code",
      "execution_count": null,
      "metadata": {
        "id": "gjU4QTUzwXqC"
      },
      "outputs": [],
      "source": []
    },
    {
      "cell_type": "code",
      "execution_count": null,
      "metadata": {
        "id": "RV6jJWGpwXqC"
      },
      "outputs": [],
      "source": [
        "# one-hot encode all the object columns\n",
        "\n",
        "for col in object_cols:\n",
        "    d['application_train_df'] = pd.get_dummies(d['application_train_df'],columns = [col],prefix=col)\n",
        "    d['application_test_df'] = pd.get_dummies(d['application_test_df'],columns = [col],prefix=col)"
      ]
    },
    {
      "cell_type": "code",
      "execution_count": null,
      "metadata": {
        "id": "yV7--AyMwXqC"
      },
      "outputs": [],
      "source": [
        "# convert all the boolean columns to int\n",
        "\n",
        "for col in d['application_train_df'].columns:\n",
        "    if d['application_train_df'][col].dtype == bool:\n",
        "        d['application_train_df'][col] = d['application_train_df'][col].astype(int)\n",
        "        d['application_test_df'][col] = d['application_test_df'][col].astype(int)"
      ]
    },
    {
      "cell_type": "code",
      "execution_count": null,
      "metadata": {
        "id": "CVMi4ePcZzdO"
      },
      "outputs": [],
      "source": [
        "train_cols = d['application_train_df'].columns\n",
        "test_col = d['application_test_df'].columns"
      ]
    },
    {
      "cell_type": "code",
      "execution_count": null,
      "metadata": {
        "colab": {
          "base_uri": "https://localhost:8080/"
        },
        "id": "1Bn3cAl7ZzdP",
        "outputId": "11b5340c-38d5-4874-a1ba-37d2f9fe0f93"
      },
      "outputs": [],
      "source": [
        "[x for x in train_cols if x not in test_col]"
      ]
    },
    {
      "cell_type": "code",
      "execution_count": null,
      "metadata": {
        "colab": {
          "base_uri": "https://localhost:8080/"
        },
        "id": "ON0Al9wdwXqC",
        "outputId": "4368542c-3df6-44b9-aee2-b03036f12992"
      },
      "outputs": [],
      "source": [
        "[x for x in test_col if x not in train_cols]"
      ]
    },
    {
      "cell_type": "code",
      "execution_count": null,
      "metadata": {
        "id": "YYqHm41aZzdP"
      },
      "outputs": [],
      "source": []
    },
    {
      "cell_type": "markdown",
      "metadata": {
        "id": "AGz5d6zWwXqE"
      },
      "source": [
        "## Novel Features"
      ]
    },
    {
      "cell_type": "code",
      "execution_count": null,
      "metadata": {
        "id": "cYhNswdIwXqF"
      },
      "outputs": [],
      "source": [
        "#I accidentally overwrote my dataframe but wanted to include these before I hopped of. i.e. no graphs or analysis, just code. Will delete this comment later\n",
        "d['application_train_df']['payment_to_income_ratio'] = d['application_train_df']['amt_annuity'] / d['application_train_df']['amt_income_total']\n",
        "d['application_train_df']['additional_credit_pct_over_price'] = (d['application_train_df']['amt_credit'] - d['application_train_df']['amt_goods_price']) / d['application_train_df']['amt_goods_price']\n",
        "\n",
        "d['application_test_df']['payment_to_income_ratio'] = d['application_test_df']['amt_annuity'] / d['application_test_df']['amt_income_total']\n",
        "d['application_test_df']['additional_credit_pct_over_price'] = (d['application_test_df']['amt_credit'] - d['application_test_df']['amt_goods_price']) / d['application_test_df']['amt_goods_price']"
      ]
    },
    {
      "cell_type": "markdown",
      "metadata": {
        "id": "OuOU4vc8ZzdP"
      },
      "source": [
        "Higher credit payment (`amt_annuity`) relative to income is correlated with higher default rates"
      ]
    },
    {
      "cell_type": "code",
      "execution_count": null,
      "metadata": {
        "colab": {
          "base_uri": "https://localhost:8080/"
        },
        "id": "fpw9b9hWwXqF",
        "outputId": "a1b1ecf5-00a5-417a-bf1a-771c889c0140"
      },
      "outputs": [],
      "source": [
        "col = 'payment_to_income_ratio'\n",
        "temp = d['application_train_df'][['target','sk_id_curr',col]].copy()\n",
        "bin_col = col + '_bin'\n",
        "temp[bin_col] = pd.qcut(temp[col], q = 10, duplicates = 'drop', labels = np.arange(1,11,1))\n",
        "temp = temp.groupby(bin_col).agg({'target':'mean','sk_id_curr':'count'})\n",
        "fig = plt.figure(figsize = (14,8))\n",
        "ax = fig.add_subplot(111)\n",
        "\n",
        "ax.bar(temp.index, temp['target'])\n",
        "\n",
        "\n",
        "# ax.set_xlim(0,6.5)\n",
        "# ax.set_ylim(0,0.2)\n",
        "ax.set_title('Default Rate by Payment to Income (PTI) Ratio')\n",
        "\n",
        "plt.show()\n",
        "\n",
        "# TO DO:  add axes titles"
      ]
    },
    {
      "cell_type": "markdown",
      "metadata": {
        "id": "EQYRkKXWZzdP"
      },
      "source": [
        "People who get credit for more than the item they are buying that was that catalyst to applying for credit in the first place default more often"
      ]
    },
    {
      "cell_type": "code",
      "execution_count": null,
      "metadata": {
        "colab": {
          "base_uri": "https://localhost:8080/",
          "height": 589
        },
        "id": "j3lHCUwDwXqF",
        "outputId": "1a69b3b5-020e-47dd-cda6-e98bd103a06f"
      },
      "outputs": [],
      "source": [
        "col = 'additional_credit_pct_over_price'\n",
        "temp = d['application_train_df'][['target','sk_id_curr',col]].copy()\n",
        "bin_col = col + '_bin'\n",
        "temp[bin_col] = pd.qcut(temp[col], q = 10, duplicates = 'drop')\n",
        "temp[bin_col] = temp[bin_col].map({x:i for i,x in enumerate(np.sort(temp[bin_col].unique()))})\n",
        "\n",
        "temp = temp.groupby(bin_col).agg({'target':'mean','sk_id_curr':'count'})\n",
        "fig = plt.figure(figsize = (14,8))\n",
        "ax = fig.add_subplot(111)\n",
        "\n",
        "ax.bar(temp.index, temp['target'])\n",
        "\n",
        "\n",
        "# ax.set_xlim(0,6.5)\n",
        "# ax.set_ylim(0,0.2)\n",
        "ax.set_title('Default Rate by Additional Credit over Purchase Price Ratio')\n",
        "\n",
        "plt.show()\n",
        "\n",
        "# TO DO:  add axes titles"
      ]
    },
    {
      "cell_type": "code",
      "execution_count": null,
      "metadata": {
        "id": "7hCKxgaKZzdP"
      },
      "outputs": [],
      "source": []
    },
    {
      "cell_type": "code",
      "execution_count": null,
      "metadata": {
        "id": "Ff0Zkj06ZzdR"
      },
      "outputs": [],
      "source": []
    },
    {
      "cell_type": "markdown",
      "metadata": {
        "id": "e-pw0mGZZzdR"
      },
      "source": [
        "## Credit Card Data"
      ]
    },
    {
      "cell_type": "markdown",
      "metadata": {
        "id": "HaT0fb_WZzdS"
      },
      "source": [
        "Credit card utilization rate is a very strong predictor of subsequent loans. This data is available for about ~30% of the population of the training data"
      ]
    },
    {
      "cell_type": "markdown",
      "metadata": {
        "id": "iOux_dkTZzdS"
      },
      "source": [
        "## TODO: Attempt to get this for other customers via bureau data"
      ]
    },
    {
      "cell_type": "code",
      "execution_count": null,
      "metadata": {
        "id": "RTgjP_rtZzdR"
      },
      "outputs": [],
      "source": [
        "#grouping by each person \"sk_id_curr\"\n",
        "\n",
        "cc_grp = d['credit_card_balance_df'].groupby(['sk_id_curr']).agg({'amt_balance':'sum','amt_credit_limit_actual':'sum'})"
      ]
    },
    {
      "cell_type": "code",
      "execution_count": null,
      "metadata": {
        "id": "PUlS4eeeZzdR"
      },
      "outputs": [],
      "source": [
        "cc_grp['avg_credit_utilization_rate'] = cc_grp['amt_balance'] / cc_grp['amt_credit_limit_actual']\n"
      ]
    },
    {
      "cell_type": "code",
      "execution_count": null,
      "metadata": {
        "id": "hABUymT1ZzdR"
      },
      "outputs": [],
      "source": [
        "cc_grp = pd.merge(cc_grp,d['application_train_df'][['sk_id_curr','target']],how='left',on='sk_id_curr')\n"
      ]
    },
    {
      "cell_type": "code",
      "execution_count": null,
      "metadata": {
        "id": "gKE43DMPZzdR"
      },
      "outputs": [],
      "source": [
        "# eliminate any infinite values\n",
        "cc_grp = cc_grp[~np.isinf(cc_grp['avg_credit_utilization_rate'])].copy()"
      ]
    },
    {
      "cell_type": "code",
      "execution_count": null,
      "metadata": {
        "colab": {
          "base_uri": "https://localhost:8080/",
          "height": 606
        },
        "id": "mU51uXOxZzdS",
        "outputId": "bac0a1c8-f632-41e5-8904-782ce6e202f7"
      },
      "outputs": [],
      "source": [
        "col = 'avg_credit_utilization_rate'\n",
        "temp = cc_grp.copy()\n",
        "bin_col = col + '_bin'\n",
        "temp[bin_col] = pd.qcut(temp[col], q = 10, duplicates = 'drop')\n",
        "temp[bin_col] = temp[bin_col].map({x:i for i,x in enumerate(np.sort(temp.loc[temp[bin_col].notna(),bin_col].unique()))})\n",
        "\n",
        "temp = temp.groupby(bin_col).agg({'target':'mean','sk_id_curr':'count'})\n",
        "fig = plt.figure(figsize = (14,8))\n",
        "ax = fig.add_subplot(111)\n",
        "\n",
        "ax.bar(temp.index, temp['target'])\n",
        "\n",
        "\n",
        "# ax.set_xlim(0,6.5)\n",
        "# ax.set_ylim(0,0.2)\n",
        "ax.set_title('Default Rate by Average Credit Utilization Rate of Credit Cards')\n",
        "ax.set_xlabel('Average Credit Utilization Decile')\n",
        "ax.set_ylabel('Default Rate')\n",
        "\n",
        "plt.show()\n"
      ]
    },
    {
      "cell_type": "code",
      "execution_count": null,
      "metadata": {
        "id": "kL2OIH9UhvX9"
      },
      "outputs": [],
      "source": [
        "#merge findings into train and test datasets\n",
        "d['application_train_df'] = pd.merge(d['application_train_df'],cc_grp[['sk_id_curr','avg_credit_utilization_rate']],how='left',on='sk_id_curr')\n",
        "d['application_train_df']['no_previous_credit_card_history_ind'] = np.where(d['application_train_df']['avg_credit_utilization_rate'].isna(),1,0)\n",
        "d['application_train_df']['avg_credit_utilization_rate'].fillna(d['application_train_df']['avg_credit_utilization_rate'].mean(),inplace=True)"
      ]
    },
    {
      "cell_type": "code",
      "execution_count": null,
      "metadata": {
        "id": "jpUU6vdIhfg7"
      },
      "outputs": [],
      "source": [
        "d['application_test_df'] = pd.merge(d['application_test_df'],cc_grp[['sk_id_curr','avg_credit_utilization_rate']],how='left',on='sk_id_curr')\n",
        "d['application_test_df']['no_previous_credit_card_history_ind'] = np.where(d['application_test_df']['avg_credit_utilization_rate'].isna(),1,0)\n",
        "d['application_test_df']['avg_credit_utilization_rate'].fillna(d['application_test_df']['avg_credit_utilization_rate'].mean(),inplace=True)"
      ]
    },
    {
      "cell_type": "code",
      "execution_count": null,
      "metadata": {
        "id": "fzp-5CDtmRK-"
      },
      "outputs": [],
      "source": []
    },
    {
      "cell_type": "markdown",
      "metadata": {
        "id": "t6ZiGpQimRgq"
      },
      "source": [
        "ATM Withdrawl rate is correlated with default rate"
      ]
    },
    {
      "cell_type": "code",
      "execution_count": null,
      "metadata": {
        "id": "n6fxP_-UZzdS"
      },
      "outputs": [],
      "source": [
        "d['credit_card_balance_df']['atm_withdrawal'] = np.where(d['credit_card_balance_df']['amt_drawings_atm_current'] > 0,1,0)\n",
        "cc_grp = d['credit_card_balance_df'].groupby(['sk_id_curr']).agg({'atm_withdrawal':'sum','cnt_drawings_atm_current':'sum','months_balance':'count'})\n",
        "cc_grp['pct_atm'] = cc_grp['atm_withdrawal'] / cc_grp['months_balance']\n",
        "cc_grp['atm_per_month'] = cc_grp['cnt_drawings_atm_current'] / cc_grp['months_balance']\n",
        "cc_grp = pd.merge(cc_grp,d['application_train_df'][['sk_id_curr','target']],how='left',on='sk_id_curr')\n"
      ]
    },
    {
      "cell_type": "code",
      "execution_count": null,
      "metadata": {
        "colab": {
          "base_uri": "https://localhost:8080/",
          "height": 607
        },
        "id": "8GImbxkXZzdS",
        "outputId": "4d022793-d813-4d36-ab0d-4161362bc4e4"
      },
      "outputs": [],
      "source": [
        "col = 'pct_atm'\n",
        "temp = cc_grp.copy()\n",
        "bin_col = col + '_bin'\n",
        "temp[bin_col] = pd.qcut(temp[col], q = 15, duplicates = 'drop')\n",
        "temp[bin_col] = temp[bin_col].map({x:i for i,x in enumerate(np.sort(temp.loc[temp[bin_col].notna(),bin_col].unique()))})\n",
        "\n",
        "temp = temp.groupby(bin_col).agg({'target':'mean','sk_id_curr':'count'})\n",
        "fig = plt.figure(figsize = (14,8))\n",
        "ax = fig.add_subplot(111)\n",
        "\n",
        "ax.bar(temp.index, temp['target'])\n",
        "\n",
        "\n",
        "# ax.set_xlim(0,6.5)\n",
        "# ax.set_ylim(0,0.2)\n",
        "ax.set_title('Default Rate by Frequency of ATM Withdrawals (# of months with ATM withdrawals / # of months)')\n",
        "\n",
        "plt.show()\n",
        "\n",
        "# TO DO:  add axes titles\n",
        "ax.set_ylabel('Default Rate')\n",
        "ax.set_xlabel('ATM Withdrawal Frequency Decile')\n",
        "\n",
        ";"
      ]
    },
    {
      "cell_type": "code",
      "execution_count": null,
      "metadata": {
        "id": "H4woNWpfZzdS"
      },
      "outputs": [],
      "source": [
        "d['application_train_df'] = pd.merge(d['application_train_df'],cc_grp[['sk_id_curr','atm_per_month']],how='left',on='sk_id_curr')\n"
      ]
    },
    {
      "cell_type": "code",
      "execution_count": null,
      "metadata": {
        "colab": {
          "base_uri": "https://localhost:8080/"
        },
        "id": "LqhoCdEVm9RF",
        "outputId": "b2d94068-ff5a-4aeb-8993-92797b07e45c"
      },
      "outputs": [],
      "source": [
        "#No need for an additional dummy variable for no CC history\n",
        "d['application_train_df'].loc[d['application_train_df']['atm_per_month'].isna(),'no_previous_credit_card_history_ind'].value_counts()"
      ]
    },
    {
      "cell_type": "code",
      "execution_count": null,
      "metadata": {
        "id": "j15DEp0gnMbs"
      },
      "outputs": [],
      "source": [
        "d['application_train_df']['atm_per_month'].fillna(d['application_train_df']['atm_per_month'].mean(),inplace=True)"
      ]
    },
    {
      "cell_type": "code",
      "execution_count": null,
      "metadata": {
        "id": "RZmzIl-rmss2"
      },
      "outputs": [],
      "source": [
        "d['application_test_df'] = pd.merge(d['application_test_df'],cc_grp[['sk_id_curr','atm_per_month']],how='left',on='sk_id_curr')"
      ]
    },
    {
      "cell_type": "code",
      "execution_count": null,
      "metadata": {
        "colab": {
          "base_uri": "https://localhost:8080/"
        },
        "id": "qjwnVak6nVq8",
        "outputId": "ebf4f09a-dc2f-4d66-dc59-831ace90e636"
      },
      "outputs": [],
      "source": [
        "d['application_test_df'].loc[d['application_test_df']['atm_per_month'].isna(),'no_previous_credit_card_history_ind'].value_counts()"
      ]
    },
    {
      "cell_type": "code",
      "execution_count": null,
      "metadata": {
        "id": "KZ-am2zpnb5k"
      },
      "outputs": [],
      "source": [
        "d['application_test_df']['atm_per_month'].fillna(d['application_test_df']['atm_per_month'].mean(),inplace=True)"
      ]
    },
    {
      "cell_type": "markdown",
      "metadata": {
        "id": "Ym4ZJnPmZzdS"
      },
      "source": [
        "Customers who pay off their balance each month have a strong correlation with not defaulting on subsequent loans."
      ]
    },
    {
      "cell_type": "code",
      "execution_count": null,
      "metadata": {
        "id": "MTSlC0rtZzdS"
      },
      "outputs": [],
      "source": [
        "#doing 99% here for some cushion.. arbitrary\n",
        "d['credit_card_balance_df']['had_balance'] = np.where(d['credit_card_balance_df']['amt_balance'] > 0,1,0)\n",
        "d['credit_card_balance_df']['paid_off_balance'] = np.where(d['credit_card_balance_df']['amt_balance'] * 0.99 <  d['credit_card_balance_df']['amt_total_receivable'],1,0)\n",
        "cc_grp = d['credit_card_balance_df'].groupby(['sk_id_curr']).agg({'had_balance':'sum','paid_off_balance':'sum'})\n",
        "cc_grp['pct_full_payment'] = cc_grp['paid_off_balance'] / cc_grp['had_balance']\n",
        "#max of 1 for what we're trying to do here\n",
        "cc_grp.loc[cc_grp['pct_full_payment'] > 1,'pct_full_payment'] = 1\n",
        "cc_grp = pd.merge(cc_grp,d['application_train_df'][['sk_id_curr','target']],how='left',on='sk_id_curr')"
      ]
    },
    {
      "cell_type": "code",
      "execution_count": null,
      "metadata": {
        "colab": {
          "base_uri": "https://localhost:8080/"
        },
        "id": "pC0Bc-M-o6sN",
        "outputId": "66e797cd-d40a-4529-f943-e4a38922a2ac"
      },
      "outputs": [],
      "source": [
        "#People who never actually used their CC have low default rates, as if they paid off their CC 100% of the time. Filling these in as 100% will avoid having another dummy variable for this which would have huge overlap with the previous one\n",
        "cc_grp.loc[cc_grp['pct_full_payment'].isna(),'target'].mean()"
      ]
    },
    {
      "cell_type": "code",
      "execution_count": null,
      "metadata": {
        "id": "r0jtdMhDpYHi"
      },
      "outputs": [],
      "source": [
        "cc_grp['pct_full_payment'].fillna(1,inplace=True)"
      ]
    },
    {
      "cell_type": "code",
      "execution_count": null,
      "metadata": {
        "colab": {
          "base_uri": "https://localhost:8080/",
          "height": 607
        },
        "id": "ma0XvAkOowvc",
        "outputId": "11e495ca-4639-4c53-fdf8-36e2cacc4a9b"
      },
      "outputs": [],
      "source": [
        "col = 'pct_full_payment'\n",
        "temp = cc_grp.copy()\n",
        "bin_col = col + '_bin'\n",
        "temp[bin_col] = pd.qcut(temp[col], q = 15, duplicates = 'drop')\n",
        "temp[bin_col] = temp[bin_col].map({x:i for i,x in enumerate(np.sort(temp.loc[temp[bin_col].notna(),bin_col].unique()))})\n",
        "\n",
        "temp = temp.groupby(bin_col).agg({'target':'mean','sk_id_curr':'count'})\n",
        "fig = plt.figure(figsize = (14,8))\n",
        "ax = fig.add_subplot(111)\n",
        "\n",
        "ax.bar(temp.index, temp['target'])\n",
        "\n",
        "\n",
        "# ax.set_xlim(0,6.5)\n",
        "# ax.set_ylim(0,0.2)\n",
        "ax.set_title('Percent of Months with Full Payment of Credit Card Balance')\n",
        "\n",
        "plt.show()\n",
        "\n",
        "\n",
        "ax.set_ylabel('Default Rate')\n",
        "ax.set_xlabel('Percent of Months with Full Payment of Credit Card Balance Decile')\n",
        ";"
      ]
    },
    {
      "cell_type": "code",
      "execution_count": null,
      "metadata": {
        "id": "dzNT8MAkn3kL"
      },
      "outputs": [],
      "source": [
        "d['application_train_df'] = pd.merge(d['application_train_df'],cc_grp[['sk_id_curr','pct_full_payment']],how='left',on='sk_id_curr')"
      ]
    },
    {
      "cell_type": "code",
      "execution_count": null,
      "metadata": {
        "id": "8eXDqaiFprJr"
      },
      "outputs": [],
      "source": [
        "d['application_test_df'] = pd.merge(d['application_test_df'],cc_grp[['sk_id_curr','pct_full_payment']],how='left',on='sk_id_curr')"
      ]
    },
    {
      "cell_type": "code",
      "execution_count": null,
      "metadata": {
        "colab": {
          "base_uri": "https://localhost:8080/"
        },
        "id": "wxF-X-tdn14c",
        "outputId": "fad46c93-864a-49d8-c81e-793bea6d206a"
      },
      "outputs": [],
      "source": [
        "d['application_train_df'].loc[d['application_train_df']['pct_full_payment'].isna(),'no_previous_credit_card_history_ind'].value_counts()"
      ]
    },
    {
      "cell_type": "code",
      "execution_count": null,
      "metadata": {
        "colab": {
          "base_uri": "https://localhost:8080/"
        },
        "id": "-XIMGdsPpx4B",
        "outputId": "e88568ed-58d8-4870-ce4d-6e0d657144b5"
      },
      "outputs": [],
      "source": [
        "d['application_test_df'].loc[d['application_test_df']['pct_full_payment'].isna(),'no_previous_credit_card_history_ind'].value_counts()"
      ]
    },
    {
      "cell_type": "code",
      "execution_count": null,
      "metadata": {
        "id": "K0D3piu_rgDE"
      },
      "outputs": [],
      "source": [
        "d['application_train_df']['pct_full_payment'].fillna(d['application_train_df']['pct_full_payment'].mean(),inplace=True)\n",
        "d['application_test_df']['pct_full_payment'].fillna(d['application_test_df']['pct_full_payment'].mean(),inplace=True)"
      ]
    },
    {
      "cell_type": "markdown",
      "metadata": {
        "id": "wlLNowhQOgCK"
      },
      "source": [
        "The number of credit cards is not worth considering due to low sample of people with more than 1 credit card"
      ]
    },
    {
      "cell_type": "code",
      "execution_count": null,
      "metadata": {
        "id": "Cwi_PojjZzdS"
      },
      "outputs": [],
      "source": [
        "cc_grp = d['credit_card_balance_df'].groupby('sk_id_curr').agg({'sk_id_prev':'nunique'}).rename(columns = {'sk_id_prev':'n_credit_cards'})"
      ]
    },
    {
      "cell_type": "code",
      "execution_count": null,
      "metadata": {
        "colab": {
          "base_uri": "https://localhost:8080/"
        },
        "id": "OF3cV0jLZzdU",
        "outputId": "0dd1c9b9-bec3-48d4-9ad5-5e89e7984fa7"
      },
      "outputs": [],
      "source": [
        "cc_grp['n_credit_cards'].value_counts()"
      ]
    },
    {
      "cell_type": "markdown",
      "metadata": {
        "id": "F3aZCJ0MOgCK"
      },
      "source": [
        "Percent of time the customer is past due does not have a clear correlation to future default rate and will be excluded"
      ]
    },
    {
      "cell_type": "code",
      "execution_count": null,
      "metadata": {
        "id": "EWZByZ3XZzdU"
      },
      "outputs": [],
      "source": [
        "# percent of time that they are pass due\n",
        "d['credit_card_balance_df']['is_past_due_1'] = np.where(d['credit_card_balance_df']['sk_dpd'] > 0,1,0)\n",
        "# d['credit_card_balance_df']['is_past_due_2'] = np.where(d['credit_card_balance_df']['sk_dpd_def'] > 0,1,0)\n",
        "cc_grp = d['credit_card_balance_df'].groupby('sk_id_curr').agg({'is_past_due_1':'sum','months_balance':'count'})\n",
        "cc_grp['past_due_pct_1'] = cc_grp['is_past_due_1'] / cc_grp['months_balance']\n",
        "# cc_grp['past_due_pct_2'] = cc_grp['is_past_due_2'] / cc_grp['months_balance']\n",
        "cc_grp['past_due_pct_1_bin'] = pd.cut(cc_grp['past_due_pct_1'],bins = [-0.01,0.0001,0.2,0.4,0.6,0.8,1.0],labels = [x for x in range(1,7)])\n",
        "# cc_grp['past_due_pct_2_bin'] = pd.cut(cc_grp['past_due_pct_2'],bins = [-0.01,0.0001,0.2,0.4,0.6,0.8,1.0],labels = [x for x in range(1,7)])\n",
        "cc_grp = pd.merge(cc_grp,d['application_train_df'][['sk_id_curr','target']],how='left',on='sk_id_curr')"
      ]
    },
    {
      "cell_type": "code",
      "execution_count": null,
      "metadata": {
        "colab": {
          "base_uri": "https://localhost:8080/",
          "height": 606
        },
        "id": "78COc2ZzZzdU",
        "outputId": "979ab30e-d169-49a8-f712-776d544fe65c"
      },
      "outputs": [],
      "source": [
        "fig = plt.figure(figsize = (14,8))\n",
        "ax = fig.add_subplot(111)\n",
        "\n",
        "temp = cc_grp.groupby('past_due_pct_1_bin').agg({'target':'mean','months_balance':'count'})\n",
        "ax.bar(temp.index, temp['target'])\n",
        "\n",
        "ax.set_title(\"Percent of of Months Past Due (DPD) for Credit Card Balance\")\n",
        "\n",
        "plt.show()\n",
        "\n",
        "# TO DO:  add axes titles\n",
        "ax.set_ylabel('Default Rate')\n",
        "ax.set_xlabel('Percent of Months Past Due (DPD) for Credit Card Balance Decile')"
      ]
    },
    {
      "cell_type": "code",
      "execution_count": null,
      "metadata": {
        "id": "ys470NfyZzdU"
      },
      "outputs": [],
      "source": [
        "\n"
      ]
    },
    {
      "cell_type": "markdown",
      "metadata": {
        "id": "paoqg6oflH02"
      },
      "source": [
        "# Previous Application Dataset\n",
        "\n",
        "Next, we analyze the `previous_application_df` for features that might be useful in our modeling."
      ]
    },
    {
      "cell_type": "code",
      "execution_count": null,
      "metadata": {
        "colab": {
          "base_uri": "https://localhost:8080/",
          "height": 147
        },
        "id": "AGhE77IJ6LvX",
        "outputId": "2b74b596-aeec-4c92-eb83-e8157e1dc94f"
      },
      "outputs": [],
      "source": [
        "d['application_train_df'][d['application_train_df']['sk_id_curr'] == 100006]"
      ]
    },
    {
      "cell_type": "code",
      "execution_count": null,
      "metadata": {
        "colab": {
          "base_uri": "https://localhost:8080/",
          "height": 508
        },
        "id": "ASyw58mcZzdV",
        "outputId": "1882f5b9-368c-4980-b998-ca3a2a805ec7"
      },
      "outputs": [],
      "source": [
        "d['previous_application_df'][d['previous_application_df']['sk_id_curr'] == 100006]"
      ]
    },
    {
      "cell_type": "markdown",
      "metadata": {
        "id": "HAZ7FP8sdexb"
      },
      "source": [
        "We engineered the following features for possible selection in our model:\n",
        "\n",
        "* previous_rejections\n",
        "* sum_previous_credit_requested\n",
        "* sum_previous_credit_approved\n",
        "* number_of_previous_applications"
      ]
    },
    {
      "cell_type": "code",
      "execution_count": null,
      "metadata": {
        "id": "kDyMYoEvztYe"
      },
      "outputs": [],
      "source": [
        "#d['previous_application_df']['name_cash_loan_purpose'].unique()"
      ]
    },
    {
      "cell_type": "code",
      "execution_count": null,
      "metadata": {
        "colab": {
          "base_uri": "https://localhost:8080/"
        },
        "id": "GXbSh3SP8uBj",
        "outputId": "92e5b70d-1d54-437a-fe0a-48cc3da12298"
      },
      "outputs": [],
      "source": [
        "d['previous_application_df']['name_contract_status'].unique()"
      ]
    },
    {
      "cell_type": "code",
      "execution_count": null,
      "metadata": {
        "colab": {
          "base_uri": "https://localhost:8080/",
          "height": 198
        },
        "id": "IQmqBN_5T9Sh",
        "outputId": "2ee99249-c901-48c6-8066-0bd91228ee4d"
      },
      "outputs": [],
      "source": [
        "# encode the `name_contract_status` attribute\n",
        "\n",
        "d['previous_application_df']['name_contract_status_encode'] = [ 1 if elem == 'Refused' else 0 for elem in d['previous_application_df']['name_contract_status'] ]\n",
        "d['previous_application_df'].head(3)\n"
      ]
    },
    {
      "cell_type": "code",
      "execution_count": null,
      "metadata": {
        "colab": {
          "base_uri": "https://localhost:8080/"
        },
        "id": "R8g0LCNaW6C9",
        "outputId": "c025d78b-94f4-41d9-940c-f5ef064222cb"
      },
      "outputs": [],
      "source": [
        "previous_applications_enriched_df = d['previous_application_df'].groupby(['sk_id_curr']) \\\n",
        "                                                     .agg({\n",
        "                                                           'name_contract_status_encode' : 'sum',\n",
        "                                                            'amt_application' : 'sum',\n",
        "                                                            'amt_credit' : 'sum',\n",
        "                                                            'sk_id_prev' : 'count'\n",
        "                                                      }) \\\n",
        "                                                      .rename(columns={'name_contract_status_encode' : 'previous_rejection',\n",
        "                                                                       'amt_application' : 'sum_previous_credit_requested',\n",
        "                                                                       'amt_credit' : 'sum_previous_credit_approved',\n",
        "                                                                       'sk_id_prev' : 'number_of_previous_applications'\n",
        "                                                      }) \\\n",
        "                                                      .reset_index()\n",
        "\n",
        "\n",
        "\n",
        "# after grouping by sk_id_curr, now create an indicator for any previous rejection\n",
        "previous_applications_enriched_df['previous_rejection'] = [ 1 if elem > 0 else 0 for elem in previous_applications_enriched_df['previous_rejection'] ]\n",
        "previous_applications_enriched_df.head(5)"
      ]
    },
    {
      "cell_type": "markdown",
      "metadata": {
        "id": "d0LBkxdpAhjD"
      },
      "source": [
        "Let's filter for only previous applications that were either `approved` or `refused`."
      ]
    },
    {
      "cell_type": "code",
      "execution_count": null,
      "metadata": {
        "colab": {
          "base_uri": "https://localhost:8080/",
          "height": 296
        },
        "id": "6D6IDgnRAzK1",
        "outputId": "59b2d592-f038-45d1-a31f-68a70dd3760a"
      },
      "outputs": [],
      "source": [
        "app_states = ['Approved', 'Refused']\n",
        "\n",
        "previous_application_subset = d['previous_application_df'][d['previous_application_df']['name_contract_status'].isin(app_states)]\n",
        "previous_application_subset.head()"
      ]
    },
    {
      "cell_type": "code",
      "execution_count": null,
      "metadata": {
        "colab": {
          "base_uri": "https://localhost:8080/"
        },
        "id": "EsUcK6uhOgCL",
        "outputId": "f2b35cb2-7cb1-4c0b-da9e-5b9ebec9f0ea"
      },
      "outputs": [],
      "source": [
        "d['previous_application_df']['name_contract_status'].value_counts()"
      ]
    },
    {
      "cell_type": "code",
      "execution_count": null,
      "metadata": {
        "id": "vb_CYQlXDzIr"
      },
      "outputs": [],
      "source": [
        "# TO DO:  we can join these back to application_train_df to get a better picture (speak to Paul and Milan about this, though)\n",
        "# Paul Note: Unused offer should probably be grouped in with Approved. Refused has a large enough sample size that it might be worth considering as well"
      ]
    },
    {
      "cell_type": "code",
      "execution_count": null,
      "metadata": {
        "colab": {
          "base_uri": "https://localhost:8080/",
          "height": 424
        },
        "id": "_9NBvGwROgCM",
        "outputId": "7e459dc8-23bf-4506-b102-05ef47366a9e"
      },
      "outputs": [],
      "source": [
        "previous_applications_enriched_df.loc[previous_applications_enriched_df['sum_previous_credit_requested'] == 0]"
      ]
    },
    {
      "cell_type": "code",
      "execution_count": null,
      "metadata": {
        "id": "otov0cxPOgCM"
      },
      "outputs": [],
      "source": [
        "#Convert these to a log scale\n",
        "previous_applications_enriched_df['sum_previous_credit_requested'] = np.log(previous_applications_enriched_df['sum_previous_credit_requested'] + 1)\n",
        "previous_applications_enriched_df['sum_previous_credit_approved'] = np.log(previous_applications_enriched_df['sum_previous_credit_approved'] + 1)\n"
      ]
    },
    {
      "cell_type": "markdown",
      "metadata": {
        "id": "Kcayecc8lZO9"
      },
      "source": [
        "\n"
      ]
    },
    {
      "cell_type": "code",
      "execution_count": null,
      "metadata": {
        "id": "tH-mCRFvlWWO"
      },
      "outputs": [],
      "source": [
        "# TESTING (IGNORE)\n",
        "#d['previous_application_df']['down_payment_percentage'] = d['previous_application_df']['amt_down_payment'] / d['previous_application_df']['amt_goods_price']\n",
        "#d['previous_application_df'].head(3)"
      ]
    },
    {
      "cell_type": "code",
      "execution_count": null,
      "metadata": {
        "id": "EKlGzBPElgQx"
      },
      "outputs": [],
      "source": [
        "# TESTING (IGNORE)\n",
        "#d['previous_application_df']['ratio_credit_received'] = d['previous_application_df']['amt_credit'] / d['previous_application_df']['amt_application']\n",
        "#d['previous_application_df'].head(3)\n"
      ]
    },
    {
      "cell_type": "code",
      "execution_count": null,
      "metadata": {
        "id": "qmDpYAVjlgUu"
      },
      "outputs": [],
      "source": [
        "# join the previous application data to the training dataset\n",
        "d['application_train_df'] = pd.merge(d['application_train_df'], previous_applications_enriched_df, on = 'sk_id_curr', how = 'left')\n",
        "d['application_test_df'] = pd.merge(d['application_test_df'], previous_applications_enriched_df, on = 'sk_id_curr', how = 'left')"
      ]
    },
    {
      "cell_type": "code",
      "execution_count": null,
      "metadata": {
        "id": "0EzXapfsOgCN"
      },
      "outputs": [],
      "source": [
        "#using intuion, we will fill nulls with 0 because if they have no previous applications, they should have 0 for all of these\n",
        "\n",
        "d['application_train_df']['previous_rejection'].fillna(0,inplace=True)\n",
        "d['application_train_df']['sum_previous_credit_requested'].fillna(0,inplace=True)\n",
        "d['application_train_df']['sum_previous_credit_approved'].fillna(0,inplace=True)\n",
        "d['application_train_df']['number_of_previous_applications'].fillna(0,inplace=True)\n",
        "\n",
        "d['application_test_df']['previous_rejection'].fillna(0,inplace=True)\n",
        "d['application_test_df']['sum_previous_credit_requested'].fillna(0,inplace=True)\n",
        "d['application_test_df']['sum_previous_credit_approved'].fillna(0,inplace=True)\n",
        "d['application_test_df']['number_of_previous_applications'].fillna(0,inplace=True)"
      ]
    },
    {
      "cell_type": "code",
      "execution_count": null,
      "metadata": {
        "id": "mIRZwflVOgCN"
      },
      "outputs": [],
      "source": [
        "temp = d['application_train_df'][['target','sum_previous_credit_requested','sum_previous_credit_approved']].copy()\n",
        "temp['sum_previous_credit_requested_bin'] = pd.qcut(temp['sum_previous_credit_requested'], q = 10, duplicates = 'drop', labels = np.arange(1,11,1))\n",
        "temp['sum_previous_credit_approved_bin'] = pd.qcut(temp['sum_previous_credit_approved'], q = 10, duplicates = 'drop', labels = np.arange(1,11,1))"
      ]
    },
    {
      "cell_type": "code",
      "execution_count": null,
      "metadata": {
        "colab": {
          "base_uri": "https://localhost:8080/",
          "height": 624
        },
        "id": "YSBkhxPHOgCN",
        "outputId": "50026174-31ae-4a6e-b89e-c13027f44488"
      },
      "outputs": [],
      "source": [
        "# Are applicants who previously requested signficant credit more likely to default?  No!\n",
        "fig = plt.figure(figsize = (14,8))\n",
        "ax = fig.add_subplot(111)\n",
        "\n",
        "temp_grp = temp.groupby('sum_previous_credit_requested_bin').agg({'target':'mean'})\n",
        "\n",
        "ax.bar(temp_grp.index, temp_grp['target'])\n",
        "\n",
        "ax.set_title(\"Default Rate by Previous Credit Requested Decile\")\n",
        "\n",
        "\n",
        "# TO DO:  add axes titles\n",
        "ax.set_ylabel('Default Rate')\n",
        "ax.set_xlabel('Previous Credit Requested Decile')\n",
        "\n",
        ";"
      ]
    },
    {
      "cell_type": "code",
      "execution_count": null,
      "metadata": {
        "colab": {
          "base_uri": "https://localhost:8080/"
        },
        "id": "5fFEWThfOgCN",
        "outputId": "3d4f1698-75af-42c3-cde2-c838382db9a0"
      },
      "outputs": [],
      "source": [
        "# Are applicants who previously were approved for signficant credit more likely to default?  No!\n",
        "fig = plt.figure(figsize = (14,8))\n",
        "ax = fig.add_subplot(111)\n",
        "\n",
        "temp_grp = temp.groupby('sum_previous_credit_approved_bin').agg({'target':'mean'})\n",
        "\n",
        "ax.bar(temp_grp.index, temp_grp['target'])\n",
        "\n",
        "ax.set_title(\"Default Rate by Previous Credit Approved Decile\")\n",
        "\n",
        "\n",
        "ax.set_ylabel('Default Rate')\n",
        "ax.set_xlabel('Previous Credit Approved Decile')"
      ]
    },
    {
      "cell_type": "code",
      "execution_count": null,
      "metadata": {
        "colab": {
          "base_uri": "https://localhost:8080/",
          "height": 445
        },
        "id": "3xTgRUBwffzJ",
        "outputId": "937b23c1-3cc5-4c57-88cd-72b69d32dc26"
      },
      "outputs": [],
      "source": [
        "\n",
        "sns.boxplot(data = d['application_train_df'], x = 'target', y = 'sum_previous_credit_requested')\n",
        "plt.grid()\n",
        "\n",
        "plt.ylim(10,20)\n",
        "\n",
        "\n",
        "plt.show()"
      ]
    },
    {
      "cell_type": "code",
      "execution_count": null,
      "metadata": {
        "colab": {
          "base_uri": "https://localhost:8080/",
          "height": 445
        },
        "id": "gDlQDUhzlE-T",
        "outputId": "8d25a227-6266-4ebd-8de5-18b22d50b92c"
      },
      "outputs": [],
      "source": [
        "# Is the number of previous applications correlated with default?  Possibly...\n",
        "\n",
        "sns.boxplot(data = d['application_train_df'], x = 'target', y = 'number_of_previous_applications')\n",
        "plt.ylim(0,10)\n",
        "plt.grid()\n",
        "\n",
        "plt.show()"
      ]
    },
    {
      "cell_type": "code",
      "execution_count": null,
      "metadata": {
        "id": "9lXAgt2TOgCN"
      },
      "outputs": [],
      "source": [
        "#memory management b/c this was a copy\n",
        "temp.drop(temp.index,inplace=True)\n",
        "del temp"
      ]
    },
    {
      "cell_type": "code",
      "execution_count": null,
      "metadata": {
        "colab": {
          "base_uri": "https://localhost:8080/"
        },
        "id": "o2ULoybHldoH",
        "outputId": "14e03527-4dba-4518-b965-00a1ce054ed9"
      },
      "outputs": [],
      "source": [
        "# Are borrowers who have previously been rejected more likely to default? Yes!\n",
        "\n",
        "previous_rejection_target_counts = d['application_train_df'].groupby(['previous_rejection', 'target']).size()\n",
        "\n",
        "previous_rejection_target_counts_unstacked = previous_rejection_target_counts.unstack('target')\n",
        "\n",
        "percentage_defaults_by_previous_rejection = previous_rejection_target_counts_unstacked.div(previous_rejection_target_counts_unstacked.sum(axis = 1), axis = 0) * 100\n",
        "\n",
        "print(percentage_defaults_by_previous_rejection)"
      ]
    },
    {
      "cell_type": "markdown",
      "metadata": {
        "id": "PkJ-ILBLZzdV"
      },
      "source": [
        "## Results of Exploratory Data Analysis"
      ]
    },
    {
      "cell_type": "markdown",
      "metadata": {
        "id": "yezDGOTNZzdV"
      },
      "source": [
        "Placeholder for results of our EDA...\n",
        "\n",
        "*   List item\n",
        "*   List item\n",
        "\n"
      ]
    },
    {
      "cell_type": "markdown",
      "metadata": {
        "id": "MdxCtquCZzdV"
      },
      "source": [
        "#Feature Engineering"
      ]
    },
    {
      "cell_type": "code",
      "execution_count": null,
      "metadata": {
        "id": "cOn-TR7cwXqF"
      },
      "outputs": [],
      "source": []
    },
    {
      "cell_type": "code",
      "execution_count": null,
      "metadata": {
        "id": "RP4zKZ_6wXqF"
      },
      "outputs": [],
      "source": []
    },
    {
      "cell_type": "code",
      "execution_count": null,
      "metadata": {
        "colab": {
          "base_uri": "https://localhost:8080/"
        },
        "id": "A2smDC8owXqF",
        "outputId": "eeec3605-c8e5-43f6-e912-304b6fdb8118"
      },
      "outputs": [],
      "source": [
        "pd.set_option('display.max_rows', 400)\n",
        "d['application_train_df'].isna().sum()"
      ]
    },
    {
      "cell_type": "code",
      "execution_count": null,
      "metadata": {
        "colab": {
          "base_uri": "https://localhost:8080/"
        },
        "id": "jHmyAsiVZzdW",
        "outputId": "27372681-9685-4331-c458-98835643d9ce"
      },
      "outputs": [],
      "source": [
        "d['application_test_df'].isna().sum()"
      ]
    },
    {
      "cell_type": "code",
      "execution_count": null,
      "metadata": {
        "id": "--e8cL66wXqF"
      },
      "outputs": [],
      "source": [
        "pd.set_option('display.max_rows', 50)"
      ]
    },
    {
      "cell_type": "code",
      "execution_count": null,
      "metadata": {
        "id": "UqD7sxGjZzdW"
      },
      "outputs": [],
      "source": []
    },
    {
      "cell_type": "code",
      "execution_count": null,
      "metadata": {
        "id": "2snFIKR4pqTH"
      },
      "outputs": [],
      "source": []
    },
    {
      "cell_type": "code",
      "execution_count": null,
      "metadata": {
        "colab": {
          "base_uri": "https://localhost:8080/"
        },
        "id": "uTYvhFaVvpdF",
        "outputId": "6e594b8f-4c37-47b6-f1a5-d58372f46685"
      },
      "outputs": [],
      "source": [
        "d['application_train_df'].info(verbose = True, show_counts = True)"
      ]
    },
    {
      "cell_type": "markdown",
      "metadata": {
        "id": "adXeI6uUUsl9"
      },
      "source": [
        "#Machine Learning Modeling\n",
        "\n",
        "In this section, we build and train the following supervised machine learning models:\n",
        "\n",
        "* logistic regression\n",
        "* random forest\n",
        "* gradient boosted trees\n",
        "* neural networks"
      ]
    },
    {
      "cell_type": "code",
      "execution_count": null,
      "metadata": {
        "colab": {
          "base_uri": "https://localhost:8080/",
          "height": 273
        },
        "id": "5KfMRpjQxI-I",
        "outputId": "390c305f-5e67-472c-d79f-8f646aa422cc"
      },
      "outputs": [],
      "source": [
        "# Create our X and y datasets\n",
        "\n",
        "X = d['application_train_df'].drop('target', axis = 1)\n",
        "X.head()"
      ]
    },
    {
      "cell_type": "code",
      "execution_count": null,
      "metadata": {
        "colab": {
          "base_uri": "https://localhost:8080/"
        },
        "id": "fhEIfWk0xTDd",
        "outputId": "ce0d9473-871c-48c5-bc93-2cd4aaa0b4ce"
      },
      "outputs": [],
      "source": [
        "y = d['application_train_df']['target']\n",
        "y.head()"
      ]
    },
    {
      "cell_type": "code",
      "execution_count": null,
      "metadata": {
        "id": "7S-maqgFOgCP"
      },
      "outputs": [],
      "source": []
    },
    {
      "cell_type": "code",
      "execution_count": 120,
      "metadata": {},
      "outputs": [],
      "source": [
        "#clearing memory\n",
        "del d['credit_card_balance_df']\n",
        "del d['installments_payments_df']\n",
        "del d['pos_cash_balance_df']\n",
        "del d['previous_application_df']"
      ]
    },
    {
      "cell_type": "markdown",
      "metadata": {
        "id": "zpvxccu3OgCP"
      },
      "source": [
        "# Modeling TODOs:\n",
        "- Which models should we be using scaled data, and which model should we be using the raw data?"
      ]
    },
    {
      "cell_type": "markdown",
      "metadata": {
        "id": "2faM9tmqOgCP"
      },
      "source": [
        "## Logistic Regression"
      ]
    },
    {
      "cell_type": "code",
      "execution_count": null,
      "metadata": {
        "id": "LNhF17R5VA0D"
      },
      "outputs": [],
      "source": [
        "random_state = 42\n",
        "test_size = 0.2\n",
        "\n",
        "X_train, X_test, y_train, y_test = train_test_split(X, y, test_size = test_size, random_state = random_state)"
      ]
    },
    {
      "cell_type": "code",
      "execution_count": 290,
      "metadata": {
        "id": "oktIyNHT0gcY"
      },
      "outputs": [],
      "source": [
        "scaler = StandardScaler()\n",
        "X_train_scaled = scaler.fit_transform(X_train)\n",
        "X_test_scaled = scaler.fit_transform(X_test)\n",
        "\n",
        "X_train_scaled_resampled, y_train_scaled_resampled = RandomOverSampler(random_state=seed).fit_resample(X_train_scaled, y_train)\n",
        "#don't oversample the test set\n",
        "# X_test_scaled_resampled, y_test_scaled_resampled = RandomOverSampler(random_state=seed).fit_resample(X_test_scaled, y_test)"
      ]
    },
    {
      "cell_type": "code",
      "execution_count": 205,
      "metadata": {
        "id": "JyFTfVvm0vu_"
      },
      "outputs": [
        {
          "data": {
            "text/html": [
              "<style>#sk-container-id-7 {color: black;}#sk-container-id-7 pre{padding: 0;}#sk-container-id-7 div.sk-toggleable {background-color: white;}#sk-container-id-7 label.sk-toggleable__label {cursor: pointer;display: block;width: 100%;margin-bottom: 0;padding: 0.3em;box-sizing: border-box;text-align: center;}#sk-container-id-7 label.sk-toggleable__label-arrow:before {content: \"▸\";float: left;margin-right: 0.25em;color: #696969;}#sk-container-id-7 label.sk-toggleable__label-arrow:hover:before {color: black;}#sk-container-id-7 div.sk-estimator:hover label.sk-toggleable__label-arrow:before {color: black;}#sk-container-id-7 div.sk-toggleable__content {max-height: 0;max-width: 0;overflow: hidden;text-align: left;background-color: #f0f8ff;}#sk-container-id-7 div.sk-toggleable__content pre {margin: 0.2em;color: black;border-radius: 0.25em;background-color: #f0f8ff;}#sk-container-id-7 input.sk-toggleable__control:checked~div.sk-toggleable__content {max-height: 200px;max-width: 100%;overflow: auto;}#sk-container-id-7 input.sk-toggleable__control:checked~label.sk-toggleable__label-arrow:before {content: \"▾\";}#sk-container-id-7 div.sk-estimator input.sk-toggleable__control:checked~label.sk-toggleable__label {background-color: #d4ebff;}#sk-container-id-7 div.sk-label input.sk-toggleable__control:checked~label.sk-toggleable__label {background-color: #d4ebff;}#sk-container-id-7 input.sk-hidden--visually {border: 0;clip: rect(1px 1px 1px 1px);clip: rect(1px, 1px, 1px, 1px);height: 1px;margin: -1px;overflow: hidden;padding: 0;position: absolute;width: 1px;}#sk-container-id-7 div.sk-estimator {font-family: monospace;background-color: #f0f8ff;border: 1px dotted black;border-radius: 0.25em;box-sizing: border-box;margin-bottom: 0.5em;}#sk-container-id-7 div.sk-estimator:hover {background-color: #d4ebff;}#sk-container-id-7 div.sk-parallel-item::after {content: \"\";width: 100%;border-bottom: 1px solid gray;flex-grow: 1;}#sk-container-id-7 div.sk-label:hover label.sk-toggleable__label {background-color: #d4ebff;}#sk-container-id-7 div.sk-serial::before {content: \"\";position: absolute;border-left: 1px solid gray;box-sizing: border-box;top: 0;bottom: 0;left: 50%;z-index: 0;}#sk-container-id-7 div.sk-serial {display: flex;flex-direction: column;align-items: center;background-color: white;padding-right: 0.2em;padding-left: 0.2em;position: relative;}#sk-container-id-7 div.sk-item {position: relative;z-index: 1;}#sk-container-id-7 div.sk-parallel {display: flex;align-items: stretch;justify-content: center;background-color: white;position: relative;}#sk-container-id-7 div.sk-item::before, #sk-container-id-7 div.sk-parallel-item::before {content: \"\";position: absolute;border-left: 1px solid gray;box-sizing: border-box;top: 0;bottom: 0;left: 50%;z-index: -1;}#sk-container-id-7 div.sk-parallel-item {display: flex;flex-direction: column;z-index: 1;position: relative;background-color: white;}#sk-container-id-7 div.sk-parallel-item:first-child::after {align-self: flex-end;width: 50%;}#sk-container-id-7 div.sk-parallel-item:last-child::after {align-self: flex-start;width: 50%;}#sk-container-id-7 div.sk-parallel-item:only-child::after {width: 0;}#sk-container-id-7 div.sk-dashed-wrapped {border: 1px dashed gray;margin: 0 0.4em 0.5em 0.4em;box-sizing: border-box;padding-bottom: 0.4em;background-color: white;}#sk-container-id-7 div.sk-label label {font-family: monospace;font-weight: bold;display: inline-block;line-height: 1.2em;}#sk-container-id-7 div.sk-label-container {text-align: center;}#sk-container-id-7 div.sk-container {/* jupyter's `normalize.less` sets `[hidden] { display: none; }` but bootstrap.min.css set `[hidden] { display: none !important; }` so we also need the `!important` here to be able to override the default hidden behavior on the sphinx rendered scikit-learn.org. See: https://github.com/scikit-learn/scikit-learn/issues/21755 */display: inline-block !important;position: relative;}#sk-container-id-7 div.sk-text-repr-fallback {display: none;}</style><div id=\"sk-container-id-7\" class=\"sk-top-container\"><div class=\"sk-text-repr-fallback\"><pre>LogisticRegression(C=10, max_iter=10000)</pre><b>In a Jupyter environment, please rerun this cell to show the HTML representation or trust the notebook. <br />On GitHub, the HTML representation is unable to render, please try loading this page with nbviewer.org.</b></div><div class=\"sk-container\" hidden><div class=\"sk-item\"><div class=\"sk-estimator sk-toggleable\"><input class=\"sk-toggleable__control sk-hidden--visually\" id=\"sk-estimator-id-10\" type=\"checkbox\" checked><label for=\"sk-estimator-id-10\" class=\"sk-toggleable__label sk-toggleable__label-arrow\">LogisticRegression</label><div class=\"sk-toggleable__content\"><pre>LogisticRegression(C=10, max_iter=10000)</pre></div></div></div></div></div>"
            ],
            "text/plain": [
              "LogisticRegression(C=10, max_iter=10000)"
            ]
          },
          "execution_count": 205,
          "metadata": {},
          "output_type": "execute_result"
        }
      ],
      "source": [
        "# get these optimized parameters from Grid Search (see below)\n",
        "optimized_C = 10\n",
        "optimized_penalty = 'l2'\n",
        "\n",
        "logistic_regression_model = LogisticRegression(max_iter = 10_000, C = optimized_C, penalty = optimized_penalty)\n",
        "logistic_regression_model.fit(X_train_scaled_resampled, y_train_scaled_resampled)\n",
        "#if not lr_model.converged_:\n",
        "#  print('The model did not converge.')\n"
      ]
    },
    {
      "cell_type": "code",
      "execution_count": 206,
      "metadata": {
        "id": "xxnTMS394IdC"
      },
      "outputs": [],
      "source": [
        "# make predictions from the test data\n",
        "y_pred = logistic_regression_model.predict(X_test_scaled)\n"
      ]
    },
    {
      "cell_type": "code",
      "execution_count": 207,
      "metadata": {
        "id": "MVUqk5V84aRC"
      },
      "outputs": [
        {
          "name": "stdout",
          "output_type": "stream",
          "text": [
            "The accuracy is: 69.13%\n"
          ]
        }
      ],
      "source": [
        "accuracy = logistic_regression_model.score(X_test_scaled, y_test)\n",
        "print(f'The accuracy is: {accuracy:.2%}')\n"
      ]
    },
    {
      "cell_type": "code",
      "execution_count": 208,
      "metadata": {
        "id": "qEHRh-Y05_k3"
      },
      "outputs": [
        {
          "data": {
            "text/plain": [
              "array([[38884, 17319],\n",
              "       [ 1562,  3402]], dtype=int64)"
            ]
          },
          "execution_count": 208,
          "metadata": {},
          "output_type": "execute_result"
        }
      ],
      "source": [
        "# get the confusion matrix\n",
        "\n",
        "confusion_matrix(y_test, y_pred)\n"
      ]
    },
    {
      "cell_type": "code",
      "execution_count": 209,
      "metadata": {
        "id": "lw9SGtk-6imn"
      },
      "outputs": [
        {
          "name": "stdout",
          "output_type": "stream",
          "text": [
            "Accuracy: 69.13%\n",
            "Precision: 16.42%\n",
            "Recall: 68.53%\n",
            "F1: 26.49%\n"
          ]
        }
      ],
      "source": [
        "# get the accuracy, precision, recall and F1 scores\n",
        "\n",
        "accuracy = accuracy_score(y_test, y_pred)\n",
        "precision = precision_score(y_test, y_pred)\n",
        "recall = recall_score(y_test, y_pred)\n",
        "f1 = f1_score(y_test, y_pred)\n",
        "\n",
        "print(f'Accuracy: {accuracy:.2%}')\n",
        "print(f'Precision: {precision:.2%}')\n",
        "print(f'Recall: {recall:.2%}')\n",
        "print(f'F1: {f1:.2%}')\n"
      ]
    },
    {
      "cell_type": "code",
      "execution_count": 213,
      "metadata": {
        "id": "vMZPiBWC96RM"
      },
      "outputs": [
        {
          "name": "stdout",
          "output_type": "stream",
          "text": [
            "0.7513173653930885\n"
          ]
        }
      ],
      "source": [
        "# plot the ROC curve\n",
        "\n",
        "y_proba = logistic_regression_model.predict_proba(X_test_scaled)[:, 1]\n",
        "\n",
        "fpr, tpr, thresholds = roc_curve(y_test, y_proba)\n",
        "auc = roc_auc_score(y_test, y_proba)\n",
        "print(auc)"
      ]
    },
    {
      "cell_type": "code",
      "execution_count": 214,
      "metadata": {
        "id": "AA1lyIAOBsIV"
      },
      "outputs": [
        {
          "data": {
            "image/png": "[encoded data removed]",
            "text/plain": [
              "<Figure size 960x480 with 1 Axes>"
            ]
          },
          "metadata": {},
          "output_type": "display_data"
        }
      ],
      "source": [
        "plt.plot(fpr, tpr, label = f'AUC: {auc:.2f}')\n",
        "plt.plot([0, 1], [0, 1], linestyle = '--', color = 'gray', label = 'Random Guess')\n",
        "plt.title('Receiver Operating Characteristic (ROC) Curve')\n",
        "plt.xlabel('False Positive Rate')\n",
        "plt.ylabel('True Positive Rate')\n",
        "plt.legend(loc = 'lower right')\n",
        "plt.show()"
      ]
    },
    {
      "cell_type": "code",
      "execution_count": null,
      "metadata": {
        "id": "7kVLlTTBFjm-"
      },
      "outputs": [],
      "source": []
    },
    {
      "cell_type": "code",
      "execution_count": null,
      "metadata": {
        "id": "h8NvMymlOgCQ"
      },
      "outputs": [],
      "source": []
    },
    {
      "cell_type": "markdown",
      "metadata": {
        "id": "af1JlXh2OgCQ"
      },
      "source": [
        "## Logistic Regression with PCA"
      ]
    },
    {
      "cell_type": "code",
      "execution_count": 215,
      "metadata": {
        "id": "ZZl5h87tOgCQ"
      },
      "outputs": [],
      "source": [
        "pca = PCA(n_components = X_train_scaled[0].size)\n",
        "pca.fit(X_train_scaled)\n",
        "explained_variance_ratios = pca.explained_variance_ratio_\n",
        "cum_evr = explained_variance_ratios.cumsum()"
      ]
    },
    {
      "cell_type": "code",
      "execution_count": 216,
      "metadata": {
        "id": "L-jO1JPrOgCQ"
      },
      "outputs": [
        {
          "data": {
            "image/png": "[encoded data removed]",
            "text/plain": [
              "<Figure size 1120x640 with 1 Axes>"
            ]
          },
          "metadata": {},
          "output_type": "display_data"
        }
      ],
      "source": [
        "fig = plt.figure(figsize = (14,8))\n",
        "ax = fig.add_subplot(111)\n",
        "\n",
        "ax.plot(cum_evr)\n",
        "ax.set_xticks(np.arange(0, X_train_scaled[0].size, 5))\n",
        "ax.set_xticklabels(np.arange(0, X_train_scaled[0].size, 5) + 1, rotation = 90)\n",
        "\n",
        "ax.set_xlabel('Number of Principal Components')\n",
        "ax.set_ylabel('Cumulative Explained Ratio')\n",
        "ax.set_title('Cumulative Explained Ratio by Number of Principal Components')\n",
        "\n",
        "#Vertical Line here at 11 really means 12 components\n",
        "ax.axvline(168, linestyle = '--', color='green')\n",
        "\n",
        "plt.show()"
      ]
    },
    {
      "cell_type": "code",
      "execution_count": 217,
      "metadata": {
        "id": "pokY-gFCOgCQ"
      },
      "outputs": [
        {
          "data": {
            "text/plain": [
              "'99.24%'"
            ]
          },
          "execution_count": 217,
          "metadata": {},
          "output_type": "execute_result"
        }
      ],
      "source": [
        "\"{:.2%}\".format(cum_evr[168]) #note that 168 is the 169th component"
      ]
    },
    {
      "cell_type": "code",
      "execution_count": 218,
      "metadata": {
        "id": "XhiFsbg6OgCQ"
      },
      "outputs": [
        {
          "data": {
            "text/html": [
              "<style>#sk-container-id-8 {color: black;}#sk-container-id-8 pre{padding: 0;}#sk-container-id-8 div.sk-toggleable {background-color: white;}#sk-container-id-8 label.sk-toggleable__label {cursor: pointer;display: block;width: 100%;margin-bottom: 0;padding: 0.3em;box-sizing: border-box;text-align: center;}#sk-container-id-8 label.sk-toggleable__label-arrow:before {content: \"▸\";float: left;margin-right: 0.25em;color: #696969;}#sk-container-id-8 label.sk-toggleable__label-arrow:hover:before {color: black;}#sk-container-id-8 div.sk-estimator:hover label.sk-toggleable__label-arrow:before {color: black;}#sk-container-id-8 div.sk-toggleable__content {max-height: 0;max-width: 0;overflow: hidden;text-align: left;background-color: #f0f8ff;}#sk-container-id-8 div.sk-toggleable__content pre {margin: 0.2em;color: black;border-radius: 0.25em;background-color: #f0f8ff;}#sk-container-id-8 input.sk-toggleable__control:checked~div.sk-toggleable__content {max-height: 200px;max-width: 100%;overflow: auto;}#sk-container-id-8 input.sk-toggleable__control:checked~label.sk-toggleable__label-arrow:before {content: \"▾\";}#sk-container-id-8 div.sk-estimator input.sk-toggleable__control:checked~label.sk-toggleable__label {background-color: #d4ebff;}#sk-container-id-8 div.sk-label input.sk-toggleable__control:checked~label.sk-toggleable__label {background-color: #d4ebff;}#sk-container-id-8 input.sk-hidden--visually {border: 0;clip: rect(1px 1px 1px 1px);clip: rect(1px, 1px, 1px, 1px);height: 1px;margin: -1px;overflow: hidden;padding: 0;position: absolute;width: 1px;}#sk-container-id-8 div.sk-estimator {font-family: monospace;background-color: #f0f8ff;border: 1px dotted black;border-radius: 0.25em;box-sizing: border-box;margin-bottom: 0.5em;}#sk-container-id-8 div.sk-estimator:hover {background-color: #d4ebff;}#sk-container-id-8 div.sk-parallel-item::after {content: \"\";width: 100%;border-bottom: 1px solid gray;flex-grow: 1;}#sk-container-id-8 div.sk-label:hover label.sk-toggleable__label {background-color: #d4ebff;}#sk-container-id-8 div.sk-serial::before {content: \"\";position: absolute;border-left: 1px solid gray;box-sizing: border-box;top: 0;bottom: 0;left: 50%;z-index: 0;}#sk-container-id-8 div.sk-serial {display: flex;flex-direction: column;align-items: center;background-color: white;padding-right: 0.2em;padding-left: 0.2em;position: relative;}#sk-container-id-8 div.sk-item {position: relative;z-index: 1;}#sk-container-id-8 div.sk-parallel {display: flex;align-items: stretch;justify-content: center;background-color: white;position: relative;}#sk-container-id-8 div.sk-item::before, #sk-container-id-8 div.sk-parallel-item::before {content: \"\";position: absolute;border-left: 1px solid gray;box-sizing: border-box;top: 0;bottom: 0;left: 50%;z-index: -1;}#sk-container-id-8 div.sk-parallel-item {display: flex;flex-direction: column;z-index: 1;position: relative;background-color: white;}#sk-container-id-8 div.sk-parallel-item:first-child::after {align-self: flex-end;width: 50%;}#sk-container-id-8 div.sk-parallel-item:last-child::after {align-self: flex-start;width: 50%;}#sk-container-id-8 div.sk-parallel-item:only-child::after {width: 0;}#sk-container-id-8 div.sk-dashed-wrapped {border: 1px dashed gray;margin: 0 0.4em 0.5em 0.4em;box-sizing: border-box;padding-bottom: 0.4em;background-color: white;}#sk-container-id-8 div.sk-label label {font-family: monospace;font-weight: bold;display: inline-block;line-height: 1.2em;}#sk-container-id-8 div.sk-label-container {text-align: center;}#sk-container-id-8 div.sk-container {/* jupyter's `normalize.less` sets `[hidden] { display: none; }` but bootstrap.min.css set `[hidden] { display: none !important; }` so we also need the `!important` here to be able to override the default hidden behavior on the sphinx rendered scikit-learn.org. See: https://github.com/scikit-learn/scikit-learn/issues/21755 */display: inline-block !important;position: relative;}#sk-container-id-8 div.sk-text-repr-fallback {display: none;}</style><div id=\"sk-container-id-8\" class=\"sk-top-container\"><div class=\"sk-text-repr-fallback\"><pre>PCA(n_components=169)</pre><b>In a Jupyter environment, please rerun this cell to show the HTML representation or trust the notebook. <br />On GitHub, the HTML representation is unable to render, please try loading this page with nbviewer.org.</b></div><div class=\"sk-container\" hidden><div class=\"sk-item\"><div class=\"sk-estimator sk-toggleable\"><input class=\"sk-toggleable__control sk-hidden--visually\" id=\"sk-estimator-id-11\" type=\"checkbox\" checked><label for=\"sk-estimator-id-11\" class=\"sk-toggleable__label sk-toggleable__label-arrow\">PCA</label><div class=\"sk-toggleable__content\"><pre>PCA(n_components=169)</pre></div></div></div></div></div>"
            ],
            "text/plain": [
              "PCA(n_components=169)"
            ]
          },
          "execution_count": 218,
          "metadata": {},
          "output_type": "execute_result"
        }
      ],
      "source": [
        "pca = PCA(n_components = 169)\n",
        "pca.fit(X_train_scaled)"
      ]
    },
    {
      "cell_type": "code",
      "execution_count": 219,
      "metadata": {
        "id": "ofYWvWU-OgCQ"
      },
      "outputs": [],
      "source": [
        "X_train_PCA = pca.transform(X_train_scaled)\n",
        "X_test_PCA = pca.transform(X_test_scaled)"
      ]
    },
    {
      "cell_type": "code",
      "execution_count": 220,
      "metadata": {
        "id": "8kqZ2Da-OgCQ"
      },
      "outputs": [],
      "source": [
        "#really no need to reassign y_train and y_test here b/c the seed is the same\n",
        "X_train_PCA_resampled, y_train_PCA_resampled = RandomOverSampler(random_state=seed).fit_resample(X_train_PCA, y_train)"
      ]
    },
    {
      "cell_type": "code",
      "execution_count": 221,
      "metadata": {
        "id": "2pweGri1OgCR"
      },
      "outputs": [
        {
          "data": {
            "text/html": [
              "<style>#sk-container-id-9 {color: black;}#sk-container-id-9 pre{padding: 0;}#sk-container-id-9 div.sk-toggleable {background-color: white;}#sk-container-id-9 label.sk-toggleable__label {cursor: pointer;display: block;width: 100%;margin-bottom: 0;padding: 0.3em;box-sizing: border-box;text-align: center;}#sk-container-id-9 label.sk-toggleable__label-arrow:before {content: \"▸\";float: left;margin-right: 0.25em;color: #696969;}#sk-container-id-9 label.sk-toggleable__label-arrow:hover:before {color: black;}#sk-container-id-9 div.sk-estimator:hover label.sk-toggleable__label-arrow:before {color: black;}#sk-container-id-9 div.sk-toggleable__content {max-height: 0;max-width: 0;overflow: hidden;text-align: left;background-color: #f0f8ff;}#sk-container-id-9 div.sk-toggleable__content pre {margin: 0.2em;color: black;border-radius: 0.25em;background-color: #f0f8ff;}#sk-container-id-9 input.sk-toggleable__control:checked~div.sk-toggleable__content {max-height: 200px;max-width: 100%;overflow: auto;}#sk-container-id-9 input.sk-toggleable__control:checked~label.sk-toggleable__label-arrow:before {content: \"▾\";}#sk-container-id-9 div.sk-estimator input.sk-toggleable__control:checked~label.sk-toggleable__label {background-color: #d4ebff;}#sk-container-id-9 div.sk-label input.sk-toggleable__control:checked~label.sk-toggleable__label {background-color: #d4ebff;}#sk-container-id-9 input.sk-hidden--visually {border: 0;clip: rect(1px 1px 1px 1px);clip: rect(1px, 1px, 1px, 1px);height: 1px;margin: -1px;overflow: hidden;padding: 0;position: absolute;width: 1px;}#sk-container-id-9 div.sk-estimator {font-family: monospace;background-color: #f0f8ff;border: 1px dotted black;border-radius: 0.25em;box-sizing: border-box;margin-bottom: 0.5em;}#sk-container-id-9 div.sk-estimator:hover {background-color: #d4ebff;}#sk-container-id-9 div.sk-parallel-item::after {content: \"\";width: 100%;border-bottom: 1px solid gray;flex-grow: 1;}#sk-container-id-9 div.sk-label:hover label.sk-toggleable__label {background-color: #d4ebff;}#sk-container-id-9 div.sk-serial::before {content: \"\";position: absolute;border-left: 1px solid gray;box-sizing: border-box;top: 0;bottom: 0;left: 50%;z-index: 0;}#sk-container-id-9 div.sk-serial {display: flex;flex-direction: column;align-items: center;background-color: white;padding-right: 0.2em;padding-left: 0.2em;position: relative;}#sk-container-id-9 div.sk-item {position: relative;z-index: 1;}#sk-container-id-9 div.sk-parallel {display: flex;align-items: stretch;justify-content: center;background-color: white;position: relative;}#sk-container-id-9 div.sk-item::before, #sk-container-id-9 div.sk-parallel-item::before {content: \"\";position: absolute;border-left: 1px solid gray;box-sizing: border-box;top: 0;bottom: 0;left: 50%;z-index: -1;}#sk-container-id-9 div.sk-parallel-item {display: flex;flex-direction: column;z-index: 1;position: relative;background-color: white;}#sk-container-id-9 div.sk-parallel-item:first-child::after {align-self: flex-end;width: 50%;}#sk-container-id-9 div.sk-parallel-item:last-child::after {align-self: flex-start;width: 50%;}#sk-container-id-9 div.sk-parallel-item:only-child::after {width: 0;}#sk-container-id-9 div.sk-dashed-wrapped {border: 1px dashed gray;margin: 0 0.4em 0.5em 0.4em;box-sizing: border-box;padding-bottom: 0.4em;background-color: white;}#sk-container-id-9 div.sk-label label {font-family: monospace;font-weight: bold;display: inline-block;line-height: 1.2em;}#sk-container-id-9 div.sk-label-container {text-align: center;}#sk-container-id-9 div.sk-container {/* jupyter's `normalize.less` sets `[hidden] { display: none; }` but bootstrap.min.css set `[hidden] { display: none !important; }` so we also need the `!important` here to be able to override the default hidden behavior on the sphinx rendered scikit-learn.org. See: https://github.com/scikit-learn/scikit-learn/issues/21755 */display: inline-block !important;position: relative;}#sk-container-id-9 div.sk-text-repr-fallback {display: none;}</style><div id=\"sk-container-id-9\" class=\"sk-top-container\"><div class=\"sk-text-repr-fallback\"><pre>LogisticRegression(C=10, max_iter=10000)</pre><b>In a Jupyter environment, please rerun this cell to show the HTML representation or trust the notebook. <br />On GitHub, the HTML representation is unable to render, please try loading this page with nbviewer.org.</b></div><div class=\"sk-container\" hidden><div class=\"sk-item\"><div class=\"sk-estimator sk-toggleable\"><input class=\"sk-toggleable__control sk-hidden--visually\" id=\"sk-estimator-id-12\" type=\"checkbox\" checked><label for=\"sk-estimator-id-12\" class=\"sk-toggleable__label sk-toggleable__label-arrow\">LogisticRegression</label><div class=\"sk-toggleable__content\"><pre>LogisticRegression(C=10, max_iter=10000)</pre></div></div></div></div></div>"
            ],
            "text/plain": [
              "LogisticRegression(C=10, max_iter=10000)"
            ]
          },
          "execution_count": 221,
          "metadata": {},
          "output_type": "execute_result"
        }
      ],
      "source": [
        "optimized_C = 10\n",
        "optimized_penalty = 'l2'\n",
        "\n",
        "logistic_regression_model = LogisticRegression(max_iter = 10_000, C = optimized_C, penalty = optimized_penalty)\n",
        "logistic_regression_model.fit(X_train_PCA_resampled, y_train_PCA_resampled)"
      ]
    },
    {
      "cell_type": "code",
      "execution_count": 222,
      "metadata": {
        "id": "pNlrBFbcOgCR"
      },
      "outputs": [],
      "source": [
        "y_pred = logistic_regression_model.predict(X_test_PCA)"
      ]
    },
    {
      "cell_type": "code",
      "execution_count": 224,
      "metadata": {
        "id": "mgJRuGH2OgCR"
      },
      "outputs": [
        {
          "data": {
            "text/plain": [
              "array([[38189, 18014],\n",
              "       [ 1559,  3405]], dtype=int64)"
            ]
          },
          "execution_count": 224,
          "metadata": {},
          "output_type": "execute_result"
        }
      ],
      "source": [
        "# get the confusion matrix\n",
        "\n",
        "confusion_matrix(y_test, y_pred)"
      ]
    },
    {
      "cell_type": "code",
      "execution_count": 225,
      "metadata": {
        "id": "eJzOvd98OgCR"
      },
      "outputs": [
        {
          "name": "stdout",
          "output_type": "stream",
          "text": [
            "Accuracy: 68.00%\n",
            "Precision: 15.90%\n",
            "Recall: 68.59%\n",
            "F1: 25.81%\n"
          ]
        }
      ],
      "source": [
        "#PCA resulted in a slight dip in accuracy\n",
        "# get the accuracy, precision, recall and F1 scores\n",
        "\n",
        "accuracy = accuracy_score(y_test, y_pred)\n",
        "precision = precision_score(y_test, y_pred)\n",
        "recall = recall_score(y_test, y_pred)\n",
        "f1 = f1_score(y_test, y_pred)\n",
        "\n",
        "print(f'Accuracy: {accuracy:.2%}')\n",
        "print(f'Precision: {precision:.2%}')\n",
        "print(f'Recall: {recall:.2%}')\n",
        "print(f'F1: {f1:.2%}')"
      ]
    },
    {
      "cell_type": "code",
      "execution_count": 226,
      "metadata": {
        "id": "uWmryajTOgCR"
      },
      "outputs": [
        {
          "name": "stdout",
          "output_type": "stream",
          "text": [
            "0.7457844730372831\n"
          ]
        }
      ],
      "source": [
        "# plot the ROC curve\n",
        "\n",
        "y_proba = logistic_regression_model.predict_proba(X_test_PCA)[:, 1]\n",
        "\n",
        "fpr, tpr, thresholds = roc_curve(y_test, y_proba)\n",
        "auc = roc_auc_score(y_test, y_proba)\n",
        "print(auc)"
      ]
    },
    {
      "cell_type": "code",
      "execution_count": 227,
      "metadata": {
        "id": "vQcG-FoBOgCR"
      },
      "outputs": [
        {
          "data": {
            "image/png": "[encoded data removed]",
            "text/plain": [
              "<Figure size 960x480 with 1 Axes>"
            ]
          },
          "metadata": {},
          "output_type": "display_data"
        }
      ],
      "source": [
        "plt.plot(fpr, tpr, label = f'AUC: {auc:.2f}')\n",
        "plt.plot([0, 1], [0, 1], linestyle = '--', color = 'gray', label = 'Random Guess')\n",
        "plt.title('Receiver Operating Characteristic (ROC) Curve')\n",
        "plt.xlabel('False Positive Rate')\n",
        "plt.ylabel('True Positive Rate')\n",
        "plt.legend(loc = 'lower right')\n",
        "plt.show()"
      ]
    },
    {
      "cell_type": "code",
      "execution_count": null,
      "metadata": {
        "id": "nNqx_ad-OgCR"
      },
      "outputs": [],
      "source": []
    },
    {
      "cell_type": "code",
      "execution_count": null,
      "metadata": {},
      "outputs": [],
      "source": []
    },
    {
      "cell_type": "markdown",
      "metadata": {
        "id": "yG_yxYVYOgCR"
      },
      "source": [
        "# Grid Search"
      ]
    },
    {
      "cell_type": "code",
      "execution_count": 239,
      "metadata": {
        "id": "OEuYnJECrky6"
      },
      "outputs": [],
      "source": [
        "# create a pipeline\n",
        "\n",
        "pipeline = Pipeline([\n",
        "#    ('scaler', StandardScaler()),\n",
        "    ('classifier', LogisticRegression(max_iter = 1000))\n",
        "])"
      ]
    },
    {
      "cell_type": "code",
      "execution_count": 240,
      "metadata": {
        "id": "YAZrpbnHsadl"
      },
      "outputs": [],
      "source": [
        "# define the hyperparameter grid\n",
        "\n",
        "# regularization strength\n",
        "C_vals = [0.001, 0.01, 0.1, 1, 10, 100]\n",
        "\n",
        "param_grid = {\n",
        "#    'scaler__with_mean' : [True, False],\n",
        "#    'scaler__with_std'  : [True, False],\n",
        "    'classifier__C' : C_vals,\n",
        "#    'classifier__l1_ratio' : [0.1, 0.3, 0.5, 0.7, 0.9],   # this is the mix between L1 and L2 regularization\n",
        "    'classifier__penalty' : ['l1', 'l2']\n",
        "}"
      ]
    },
    {
      "cell_type": "code",
      "execution_count": 241,
      "metadata": {
        "id": "4oX9XFqesaiF"
      },
      "outputs": [],
      "source": [
        "grid_search = GridSearchCV(pipeline, param_grid, cv = 5, scoring = 'accuracy')"
      ]
    },
    {
      "cell_type": "code",
      "execution_count": 245,
      "metadata": {
        "id": "3ma0I_OdsalK"
      },
      "outputs": [
        {
          "name": "stderr",
          "output_type": "stream",
          "text": [
            "c:\\Users\\paulh\\anaconda3\\lib\\site-packages\\sklearn\\model_selection\\_validation.py:425: FitFailedWarning: \n",
            "30 fits failed out of a total of 60.\n",
            "The score on these train-test partitions for these parameters will be set to nan.\n",
            "If these failures are not expected, you can try to debug them by setting error_score='raise'.\n",
            "\n",
            "Below are more details about the failures:\n",
            "--------------------------------------------------------------------------------\n",
            "30 fits failed with the following error:\n",
            "Traceback (most recent call last):\n",
            "  File \"c:\\Users\\paulh\\anaconda3\\lib\\site-packages\\sklearn\\model_selection\\_validation.py\", line 729, in _fit_and_score\n",
            "    estimator.fit(X_train, y_train, **fit_params)\n",
            "  File \"c:\\Users\\paulh\\anaconda3\\lib\\site-packages\\sklearn\\base.py\", line 1152, in wrapper\n",
            "    return fit_method(estimator, *args, **kwargs)\n",
            "  File \"c:\\Users\\paulh\\anaconda3\\lib\\site-packages\\sklearn\\pipeline.py\", line 427, in fit\n",
            "    self._final_estimator.fit(Xt, y, **fit_params_last_step)\n",
            "  File \"c:\\Users\\paulh\\anaconda3\\lib\\site-packages\\sklearn\\base.py\", line 1152, in wrapper\n",
            "    return fit_method(estimator, *args, **kwargs)\n",
            "  File \"c:\\Users\\paulh\\anaconda3\\lib\\site-packages\\sklearn\\linear_model\\_logistic.py\", line 1169, in fit\n",
            "    solver = _check_solver(self.solver, self.penalty, self.dual)\n",
            "  File \"c:\\Users\\paulh\\anaconda3\\lib\\site-packages\\sklearn\\linear_model\\_logistic.py\", line 56, in _check_solver\n",
            "    raise ValueError(\n",
            "ValueError: Solver lbfgs supports only 'l2' or 'none' penalties, got l1 penalty.\n",
            "\n",
            "  warnings.warn(some_fits_failed_message, FitFailedWarning)\n",
            "c:\\Users\\paulh\\anaconda3\\lib\\site-packages\\sklearn\\model_selection\\_search.py:979: UserWarning: One or more of the test scores are non-finite: [       nan 0.68576084        nan 0.68578308        nan 0.68581198\n",
            "        nan 0.68644339        nan 0.68650786        nan 0.6865301 ]\n",
            "  warnings.warn(\n"
          ]
        },
        {
          "data": {
            "text/html": [
              "<style>#sk-container-id-10 {color: black;}#sk-container-id-10 pre{padding: 0;}#sk-container-id-10 div.sk-toggleable {background-color: white;}#sk-container-id-10 label.sk-toggleable__label {cursor: pointer;display: block;width: 100%;margin-bottom: 0;padding: 0.3em;box-sizing: border-box;text-align: center;}#sk-container-id-10 label.sk-toggleable__label-arrow:before {content: \"▸\";float: left;margin-right: 0.25em;color: #696969;}#sk-container-id-10 label.sk-toggleable__label-arrow:hover:before {color: black;}#sk-container-id-10 div.sk-estimator:hover label.sk-toggleable__label-arrow:before {color: black;}#sk-container-id-10 div.sk-toggleable__content {max-height: 0;max-width: 0;overflow: hidden;text-align: left;background-color: #f0f8ff;}#sk-container-id-10 div.sk-toggleable__content pre {margin: 0.2em;color: black;border-radius: 0.25em;background-color: #f0f8ff;}#sk-container-id-10 input.sk-toggleable__control:checked~div.sk-toggleable__content {max-height: 200px;max-width: 100%;overflow: auto;}#sk-container-id-10 input.sk-toggleable__control:checked~label.sk-toggleable__label-arrow:before {content: \"▾\";}#sk-container-id-10 div.sk-estimator input.sk-toggleable__control:checked~label.sk-toggleable__label {background-color: #d4ebff;}#sk-container-id-10 div.sk-label input.sk-toggleable__control:checked~label.sk-toggleable__label {background-color: #d4ebff;}#sk-container-id-10 input.sk-hidden--visually {border: 0;clip: rect(1px 1px 1px 1px);clip: rect(1px, 1px, 1px, 1px);height: 1px;margin: -1px;overflow: hidden;padding: 0;position: absolute;width: 1px;}#sk-container-id-10 div.sk-estimator {font-family: monospace;background-color: #f0f8ff;border: 1px dotted black;border-radius: 0.25em;box-sizing: border-box;margin-bottom: 0.5em;}#sk-container-id-10 div.sk-estimator:hover {background-color: #d4ebff;}#sk-container-id-10 div.sk-parallel-item::after {content: \"\";width: 100%;border-bottom: 1px solid gray;flex-grow: 1;}#sk-container-id-10 div.sk-label:hover label.sk-toggleable__label {background-color: #d4ebff;}#sk-container-id-10 div.sk-serial::before {content: \"\";position: absolute;border-left: 1px solid gray;box-sizing: border-box;top: 0;bottom: 0;left: 50%;z-index: 0;}#sk-container-id-10 div.sk-serial {display: flex;flex-direction: column;align-items: center;background-color: white;padding-right: 0.2em;padding-left: 0.2em;position: relative;}#sk-container-id-10 div.sk-item {position: relative;z-index: 1;}#sk-container-id-10 div.sk-parallel {display: flex;align-items: stretch;justify-content: center;background-color: white;position: relative;}#sk-container-id-10 div.sk-item::before, #sk-container-id-10 div.sk-parallel-item::before {content: \"\";position: absolute;border-left: 1px solid gray;box-sizing: border-box;top: 0;bottom: 0;left: 50%;z-index: -1;}#sk-container-id-10 div.sk-parallel-item {display: flex;flex-direction: column;z-index: 1;position: relative;background-color: white;}#sk-container-id-10 div.sk-parallel-item:first-child::after {align-self: flex-end;width: 50%;}#sk-container-id-10 div.sk-parallel-item:last-child::after {align-self: flex-start;width: 50%;}#sk-container-id-10 div.sk-parallel-item:only-child::after {width: 0;}#sk-container-id-10 div.sk-dashed-wrapped {border: 1px dashed gray;margin: 0 0.4em 0.5em 0.4em;box-sizing: border-box;padding-bottom: 0.4em;background-color: white;}#sk-container-id-10 div.sk-label label {font-family: monospace;font-weight: bold;display: inline-block;line-height: 1.2em;}#sk-container-id-10 div.sk-label-container {text-align: center;}#sk-container-id-10 div.sk-container {/* jupyter's `normalize.less` sets `[hidden] { display: none; }` but bootstrap.min.css set `[hidden] { display: none !important; }` so we also need the `!important` here to be able to override the default hidden behavior on the sphinx rendered scikit-learn.org. See: https://github.com/scikit-learn/scikit-learn/issues/21755 */display: inline-block !important;position: relative;}#sk-container-id-10 div.sk-text-repr-fallback {display: none;}</style><div id=\"sk-container-id-10\" class=\"sk-top-container\"><div class=\"sk-text-repr-fallback\"><pre>GridSearchCV(cv=5,\n",
              "             estimator=Pipeline(steps=[(&#x27;classifier&#x27;,\n",
              "                                        LogisticRegression(max_iter=1000))]),\n",
              "             param_grid={&#x27;classifier__C&#x27;: [0.001, 0.01, 0.1, 1, 10, 100],\n",
              "                         &#x27;classifier__penalty&#x27;: [&#x27;l1&#x27;, &#x27;l2&#x27;]},\n",
              "             scoring=&#x27;accuracy&#x27;)</pre><b>In a Jupyter environment, please rerun this cell to show the HTML representation or trust the notebook. <br />On GitHub, the HTML representation is unable to render, please try loading this page with nbviewer.org.</b></div><div class=\"sk-container\" hidden><div class=\"sk-item sk-dashed-wrapped\"><div class=\"sk-label-container\"><div class=\"sk-label sk-toggleable\"><input class=\"sk-toggleable__control sk-hidden--visually\" id=\"sk-estimator-id-13\" type=\"checkbox\" ><label for=\"sk-estimator-id-13\" class=\"sk-toggleable__label sk-toggleable__label-arrow\">GridSearchCV</label><div class=\"sk-toggleable__content\"><pre>GridSearchCV(cv=5,\n",
              "             estimator=Pipeline(steps=[(&#x27;classifier&#x27;,\n",
              "                                        LogisticRegression(max_iter=1000))]),\n",
              "             param_grid={&#x27;classifier__C&#x27;: [0.001, 0.01, 0.1, 1, 10, 100],\n",
              "                         &#x27;classifier__penalty&#x27;: [&#x27;l1&#x27;, &#x27;l2&#x27;]},\n",
              "             scoring=&#x27;accuracy&#x27;)</pre></div></div></div><div class=\"sk-parallel\"><div class=\"sk-parallel-item\"><div class=\"sk-item\"><div class=\"sk-label-container\"><div class=\"sk-label sk-toggleable\"><input class=\"sk-toggleable__control sk-hidden--visually\" id=\"sk-estimator-id-14\" type=\"checkbox\" ><label for=\"sk-estimator-id-14\" class=\"sk-toggleable__label sk-toggleable__label-arrow\">estimator: Pipeline</label><div class=\"sk-toggleable__content\"><pre>Pipeline(steps=[(&#x27;classifier&#x27;, LogisticRegression(max_iter=1000))])</pre></div></div></div><div class=\"sk-serial\"><div class=\"sk-item\"><div class=\"sk-serial\"><div class=\"sk-item\"><div class=\"sk-estimator sk-toggleable\"><input class=\"sk-toggleable__control sk-hidden--visually\" id=\"sk-estimator-id-15\" type=\"checkbox\" ><label for=\"sk-estimator-id-15\" class=\"sk-toggleable__label sk-toggleable__label-arrow\">LogisticRegression</label><div class=\"sk-toggleable__content\"><pre>LogisticRegression(max_iter=1000)</pre></div></div></div></div></div></div></div></div></div></div></div></div>"
            ],
            "text/plain": [
              "GridSearchCV(cv=5,\n",
              "             estimator=Pipeline(steps=[('classifier',\n",
              "                                        LogisticRegression(max_iter=1000))]),\n",
              "             param_grid={'classifier__C': [0.001, 0.01, 0.1, 1, 10, 100],\n",
              "                         'classifier__penalty': ['l1', 'l2']},\n",
              "             scoring='accuracy')"
            ]
          },
          "execution_count": 245,
          "metadata": {},
          "output_type": "execute_result"
        }
      ],
      "source": [
        "# fit the grid search to the data (takes about 15 minutes to run the grid search)\n",
        "grid_search.fit(X_train_scaled_resampled, y_train_scaled_resampled)"
      ]
    },
    {
      "cell_type": "code",
      "execution_count": 246,
      "metadata": {
        "id": "7pD9xH9zGZnB"
      },
      "outputs": [
        {
          "data": {
            "text/plain": [
              "{'classifier__C': 100, 'classifier__penalty': 'l2'}"
            ]
          },
          "execution_count": 246,
          "metadata": {},
          "output_type": "execute_result"
        }
      ],
      "source": [
        "best_params = grid_search.best_params_\n",
        "best_params"
      ]
    },
    {
      "cell_type": "code",
      "execution_count": 247,
      "metadata": {
        "id": "NQkqeAVHGZ2G"
      },
      "outputs": [
        {
          "data": {
            "text/html": [
              "<style>#sk-container-id-11 {color: black;}#sk-container-id-11 pre{padding: 0;}#sk-container-id-11 div.sk-toggleable {background-color: white;}#sk-container-id-11 label.sk-toggleable__label {cursor: pointer;display: block;width: 100%;margin-bottom: 0;padding: 0.3em;box-sizing: border-box;text-align: center;}#sk-container-id-11 label.sk-toggleable__label-arrow:before {content: \"▸\";float: left;margin-right: 0.25em;color: #696969;}#sk-container-id-11 label.sk-toggleable__label-arrow:hover:before {color: black;}#sk-container-id-11 div.sk-estimator:hover label.sk-toggleable__label-arrow:before {color: black;}#sk-container-id-11 div.sk-toggleable__content {max-height: 0;max-width: 0;overflow: hidden;text-align: left;background-color: #f0f8ff;}#sk-container-id-11 div.sk-toggleable__content pre {margin: 0.2em;color: black;border-radius: 0.25em;background-color: #f0f8ff;}#sk-container-id-11 input.sk-toggleable__control:checked~div.sk-toggleable__content {max-height: 200px;max-width: 100%;overflow: auto;}#sk-container-id-11 input.sk-toggleable__control:checked~label.sk-toggleable__label-arrow:before {content: \"▾\";}#sk-container-id-11 div.sk-estimator input.sk-toggleable__control:checked~label.sk-toggleable__label {background-color: #d4ebff;}#sk-container-id-11 div.sk-label input.sk-toggleable__control:checked~label.sk-toggleable__label {background-color: #d4ebff;}#sk-container-id-11 input.sk-hidden--visually {border: 0;clip: rect(1px 1px 1px 1px);clip: rect(1px, 1px, 1px, 1px);height: 1px;margin: -1px;overflow: hidden;padding: 0;position: absolute;width: 1px;}#sk-container-id-11 div.sk-estimator {font-family: monospace;background-color: #f0f8ff;border: 1px dotted black;border-radius: 0.25em;box-sizing: border-box;margin-bottom: 0.5em;}#sk-container-id-11 div.sk-estimator:hover {background-color: #d4ebff;}#sk-container-id-11 div.sk-parallel-item::after {content: \"\";width: 100%;border-bottom: 1px solid gray;flex-grow: 1;}#sk-container-id-11 div.sk-label:hover label.sk-toggleable__label {background-color: #d4ebff;}#sk-container-id-11 div.sk-serial::before {content: \"\";position: absolute;border-left: 1px solid gray;box-sizing: border-box;top: 0;bottom: 0;left: 50%;z-index: 0;}#sk-container-id-11 div.sk-serial {display: flex;flex-direction: column;align-items: center;background-color: white;padding-right: 0.2em;padding-left: 0.2em;position: relative;}#sk-container-id-11 div.sk-item {position: relative;z-index: 1;}#sk-container-id-11 div.sk-parallel {display: flex;align-items: stretch;justify-content: center;background-color: white;position: relative;}#sk-container-id-11 div.sk-item::before, #sk-container-id-11 div.sk-parallel-item::before {content: \"\";position: absolute;border-left: 1px solid gray;box-sizing: border-box;top: 0;bottom: 0;left: 50%;z-index: -1;}#sk-container-id-11 div.sk-parallel-item {display: flex;flex-direction: column;z-index: 1;position: relative;background-color: white;}#sk-container-id-11 div.sk-parallel-item:first-child::after {align-self: flex-end;width: 50%;}#sk-container-id-11 div.sk-parallel-item:last-child::after {align-self: flex-start;width: 50%;}#sk-container-id-11 div.sk-parallel-item:only-child::after {width: 0;}#sk-container-id-11 div.sk-dashed-wrapped {border: 1px dashed gray;margin: 0 0.4em 0.5em 0.4em;box-sizing: border-box;padding-bottom: 0.4em;background-color: white;}#sk-container-id-11 div.sk-label label {font-family: monospace;font-weight: bold;display: inline-block;line-height: 1.2em;}#sk-container-id-11 div.sk-label-container {text-align: center;}#sk-container-id-11 div.sk-container {/* jupyter's `normalize.less` sets `[hidden] { display: none; }` but bootstrap.min.css set `[hidden] { display: none !important; }` so we also need the `!important` here to be able to override the default hidden behavior on the sphinx rendered scikit-learn.org. See: https://github.com/scikit-learn/scikit-learn/issues/21755 */display: inline-block !important;position: relative;}#sk-container-id-11 div.sk-text-repr-fallback {display: none;}</style><div id=\"sk-container-id-11\" class=\"sk-top-container\"><div class=\"sk-text-repr-fallback\"><pre>Pipeline(steps=[(&#x27;classifier&#x27;, LogisticRegression(C=100, max_iter=1000))])</pre><b>In a Jupyter environment, please rerun this cell to show the HTML representation or trust the notebook. <br />On GitHub, the HTML representation is unable to render, please try loading this page with nbviewer.org.</b></div><div class=\"sk-container\" hidden><div class=\"sk-item sk-dashed-wrapped\"><div class=\"sk-label-container\"><div class=\"sk-label sk-toggleable\"><input class=\"sk-toggleable__control sk-hidden--visually\" id=\"sk-estimator-id-16\" type=\"checkbox\" ><label for=\"sk-estimator-id-16\" class=\"sk-toggleable__label sk-toggleable__label-arrow\">Pipeline</label><div class=\"sk-toggleable__content\"><pre>Pipeline(steps=[(&#x27;classifier&#x27;, LogisticRegression(C=100, max_iter=1000))])</pre></div></div></div><div class=\"sk-serial\"><div class=\"sk-item\"><div class=\"sk-estimator sk-toggleable\"><input class=\"sk-toggleable__control sk-hidden--visually\" id=\"sk-estimator-id-17\" type=\"checkbox\" ><label for=\"sk-estimator-id-17\" class=\"sk-toggleable__label sk-toggleable__label-arrow\">LogisticRegression</label><div class=\"sk-toggleable__content\"><pre>LogisticRegression(C=100, max_iter=1000)</pre></div></div></div></div></div></div></div>"
            ],
            "text/plain": [
              "Pipeline(steps=[('classifier', LogisticRegression(C=100, max_iter=1000))])"
            ]
          },
          "execution_count": 247,
          "metadata": {},
          "output_type": "execute_result"
        }
      ],
      "source": [
        "best_model = grid_search.best_estimator_\n",
        "best_model"
      ]
    },
    {
      "cell_type": "code",
      "execution_count": 248,
      "metadata": {
        "id": "F0OTiy4eHS9M"
      },
      "outputs": [
        {
          "data": {
            "text/plain": [
              "0.691418575375611"
            ]
          },
          "execution_count": 248,
          "metadata": {},
          "output_type": "execute_result"
        }
      ],
      "source": [
        "y_pred_optimzed = best_model.predict(X_test_scaled)\n",
        "\n",
        "accuracy_optimized = best_model.score(X_test_scaled, y_test)\n",
        "accuracy_optimized"
      ]
    },
    {
      "cell_type": "markdown",
      "metadata": {
        "id": "aXJHROiXIsq8"
      },
      "source": [
        "Observations\n",
        "* the grid search optimization improves accuracy *slightly*\n",
        "* the AUC does not change"
      ]
    },
    {
      "cell_type": "markdown",
      "metadata": {
        "id": "DqpbPkQApz_G"
      },
      "source": [
        "## Decision Trees"
      ]
    },
    {
      "cell_type": "code",
      "execution_count": 284,
      "metadata": {
        "id": "EnrpbjKnm8uc"
      },
      "outputs": [],
      "source": [
        "# create the decision tree classifier\n",
        "clf_tree = DecisionTreeClassifier(random_state = 42, max_depth = 10,min_samples_split= 50)\n",
        "\n",
        "# configure the parameter grid\n",
        "#param_grid = {\n",
        "#    'criterion' : ['gini', 'entropy'],\n",
        "#    'max_depth' : [None, 10, 20, 30],\n",
        "#  }\n",
        "\n",
        "# create the grid search object\n",
        "#grid_search = GridSearchCV(clf_tree, param_grid, scoring = 'accuracy')\n",
        "\n"
      ]
    },
    {
      "cell_type": "code",
      "execution_count": 285,
      "metadata": {
        "id": "qyHRHHGqtrgh"
      },
      "outputs": [],
      "source": [
        "# fit the model to the training data\n",
        "\n",
        "#grid_search.fit(X_train_scaled_resampled, y_train_scaled_resampled)\n",
        "# I don't think we have to use scaled data here but I guess it doesn't really matter\n",
        "\n",
        "clf_tree.fit(X_train_scaled_resampled, y_train_scaled_resampled)\n",
        "y_pred = clf_tree.predict(X_test_scaled)"
      ]
    },
    {
      "cell_type": "code",
      "execution_count": null,
      "metadata": {},
      "outputs": [],
      "source": []
    },
    {
      "cell_type": "code",
      "execution_count": 268,
      "metadata": {
        "id": "zic3b9H-rJk2"
      },
      "outputs": [
        {
          "name": "stdout",
          "output_type": "stream",
          "text": [
            "The accuracy is: 85.89%\n"
          ]
        }
      ],
      "source": [
        "accuracy = clf_tree.score(X_test_scaled, y_test)\n",
        "print(f'The accuracy is: {accuracy:.2%}')"
      ]
    },
    {
      "cell_type": "code",
      "execution_count": 286,
      "metadata": {
        "id": "ETHku-7urWL0"
      },
      "outputs": [
        {
          "name": "stdout",
          "output_type": "stream",
          "text": [
            "              precision    recall  f1-score   support\n",
            "\n",
            "           0       0.95      0.68      0.80     56203\n",
            "           1       0.15      0.63      0.24      4964\n",
            "\n",
            "    accuracy                           0.68     61167\n",
            "   macro avg       0.55      0.66      0.52     61167\n",
            "weighted avg       0.89      0.68      0.75     61167\n",
            "\n"
          ]
        }
      ],
      "source": [
        "print(classification_report(y_test, y_pred))"
      ]
    },
    {
      "cell_type": "code",
      "execution_count": 287,
      "metadata": {
        "id": "bZhd9ut15eTx"
      },
      "outputs": [
        {
          "data": {
            "text/plain": [
              "array([[38485, 17718],\n",
              "       [ 1849,  3115]], dtype=int64)"
            ]
          },
          "execution_count": 287,
          "metadata": {},
          "output_type": "execute_result"
        }
      ],
      "source": [
        "confusion_matrix(y_test, y_pred)\n"
      ]
    },
    {
      "cell_type": "code",
      "execution_count": 288,
      "metadata": {
        "id": "oTJxKuIn52Gh"
      },
      "outputs": [
        {
          "name": "stdout",
          "output_type": "stream",
          "text": [
            "0.6991272844067341\n"
          ]
        }
      ],
      "source": [
        "# plot the ROC curve\n",
        "\n",
        "y_proba = clf_tree.predict_proba(X_test_scaled)[:, 1]\n",
        "\n",
        "fpr, tpr, thresholds = roc_curve(y_test, y_proba)\n",
        "auc = roc_auc_score(y_test, y_proba)\n",
        "print(auc)"
      ]
    },
    {
      "cell_type": "code",
      "execution_count": 289,
      "metadata": {
        "id": "wFtG0gSl58K0"
      },
      "outputs": [
        {
          "data": {
            "image/png": "[encoded data removed]",
            "text/plain": [
              "<Figure size 960x480 with 1 Axes>"
            ]
          },
          "metadata": {},
          "output_type": "display_data"
        }
      ],
      "source": [
        "\n",
        "plt.plot(fpr, tpr, label = f'AUC: {auc:.2f}')\n",
        "plt.plot([0, 1], [0, 1], linestyle = '--', color = 'gray', label = 'Random Guess')\n",
        "plt.title('Receiver Operating Characteristic (ROC) Curve')\n",
        "plt.xlabel('False Positive Rate')\n",
        "plt.ylabel('True Positive Rate')\n",
        "plt.legend(loc = 'lower right')\n",
        "plt.show()"
      ]
    },
    {
      "cell_type": "code",
      "execution_count": null,
      "metadata": {
        "id": "YgnyV6Uj6EIL"
      },
      "outputs": [],
      "source": []
    },
    {
      "cell_type": "markdown",
      "metadata": {
        "id": "2TOjtPtp6Eld"
      },
      "source": [
        "## Random Forest"
      ]
    },
    {
      "cell_type": "code",
      "execution_count": 256,
      "metadata": {
        "id": "LY1RcQQ36HDC"
      },
      "outputs": [],
      "source": [
        "# create the random forest classifier\n",
        "clf_random_forest = RandomForestClassifier(random_state = 42,max_depth = 10)\n",
        "\n",
        "# configure the parameter grid\n",
        "#param_grid = {\n",
        "#    'criterion' : ['gini', 'entropy'],\n",
        "#    'max_depth' : [None, 10, 20, 30],\n",
        "#  }\n",
        "\n",
        "# create the grid search object\n",
        "#grid_search = GridSearchCV(clf_random_forest, param_grid, scoring = 'accuracy')"
      ]
    },
    {
      "cell_type": "code",
      "execution_count": 257,
      "metadata": {
        "id": "XvIrQPygOgCT"
      },
      "outputs": [],
      "source": [
        "# fit the model to the training data\n",
        "\n",
        "#grid_search.fit(X_train_scaled_resampled, y_train_scaled_resampled)\n",
        "\n",
        "clf_random_forest.fit(X_train_scaled_resampled, y_train_scaled_resampled)\n",
        "y_pred = clf_random_forest.predict(X_test_scaled)\n"
      ]
    },
    {
      "cell_type": "code",
      "execution_count": 258,
      "metadata": {
        "id": "QJgPN25_6cFD"
      },
      "outputs": [
        {
          "name": "stdout",
          "output_type": "stream",
          "text": [
            "The accuracy is: 72.67%\n"
          ]
        }
      ],
      "source": [
        "accuracy = clf_random_forest.score(X_test_scaled, y_test)\n",
        "print(f'The accuracy is: {accuracy:.2%}')"
      ]
    },
    {
      "cell_type": "code",
      "execution_count": 259,
      "metadata": {
        "id": "Nvh11cq66cIS"
      },
      "outputs": [
        {
          "name": "stdout",
          "output_type": "stream",
          "text": [
            "              precision    recall  f1-score   support\n",
            "\n",
            "           0       0.96      0.74      0.83     56203\n",
            "           1       0.17      0.62      0.27      4964\n",
            "\n",
            "    accuracy                           0.73     61167\n",
            "   macro avg       0.56      0.68      0.55     61167\n",
            "weighted avg       0.89      0.73      0.79     61167\n",
            "\n"
          ]
        }
      ],
      "source": [
        "print(classification_report(y_test, y_pred))"
      ]
    },
    {
      "cell_type": "code",
      "execution_count": 260,
      "metadata": {
        "id": "JrFd7-PJ6cXy"
      },
      "outputs": [
        {
          "data": {
            "text/plain": [
              "array([[41387, 14816],\n",
              "       [ 1901,  3063]], dtype=int64)"
            ]
          },
          "execution_count": 260,
          "metadata": {},
          "output_type": "execute_result"
        }
      ],
      "source": [
        "confusion_matrix(y_test, y_pred)"
      ]
    },
    {
      "cell_type": "code",
      "execution_count": 261,
      "metadata": {
        "id": "WU_UAQwC9Oka"
      },
      "outputs": [
        {
          "name": "stdout",
          "output_type": "stream",
          "text": [
            "0.7362285899180109\n"
          ]
        }
      ],
      "source": [
        "# plot the ROC curve\n",
        "\n",
        "y_proba = clf_random_forest.predict_proba(X_test_scaled)[:, 1]\n",
        "\n",
        "fpr, tpr, thresholds = roc_curve(y_test, y_proba)\n",
        "auc = roc_auc_score(y_test, y_proba)\n",
        "print(auc)"
      ]
    },
    {
      "cell_type": "code",
      "execution_count": 262,
      "metadata": {
        "id": "FSh2qttt9On8"
      },
      "outputs": [
        {
          "data": {
            "image/png": "[encoded data removed]",
            "text/plain": [
              "<Figure size 960x480 with 1 Axes>"
            ]
          },
          "metadata": {},
          "output_type": "display_data"
        }
      ],
      "source": [
        "plt.plot(fpr, tpr, label = f'AUC: {auc:.2f}')\n",
        "plt.plot([0, 1], [0, 1], linestyle = '--', color = 'gray', label = 'Random Guess')\n",
        "plt.title('Receiver Operating Characteristic (ROC) Curve')\n",
        "plt.xlabel('False Positive Rate')\n",
        "plt.ylabel('True Positive Rate')\n",
        "plt.legend(loc = 'lower right')\n",
        "plt.show()"
      ]
    },
    {
      "cell_type": "code",
      "execution_count": null,
      "metadata": {
        "id": "q-mMPX7g9iPU"
      },
      "outputs": [],
      "source": []
    },
    {
      "cell_type": "code",
      "execution_count": 166,
      "metadata": {},
      "outputs": [],
      "source": [
        "#more memory cleanup\n",
        "del clf_random_forest\n",
        "del clf_tree"
      ]
    },
    {
      "cell_type": "markdown",
      "metadata": {
        "id": "Xb9RvmTy9xoy"
      },
      "source": [
        "## Gradient Boosting"
      ]
    },
    {
      "cell_type": "code",
      "execution_count": 291,
      "metadata": {
        "id": "MKGhZEcy9iWm"
      },
      "outputs": [],
      "source": [
        "# create the gradient boost classifier\n",
        "clf_gradient_boost = GradientBoostingClassifier(random_state = 42)\n",
        "\n",
        "# configure the parameter grid\n",
        "#param_grid = {\n",
        "#    'criterion' : ['gini', 'entropy'],\n",
        "#    'max_depth' : [None, 10, 20, 30],\n",
        "#  }\n",
        "\n",
        "# create the grid search object\n",
        "#grid_search = GridSearchCV(clf_random_forest, param_grid, scoring = 'accuracy')"
      ]
    },
    {
      "cell_type": "code",
      "execution_count": 292,
      "metadata": {
        "id": "4-k4DDAL9idB"
      },
      "outputs": [],
      "source": [
        "# fit the model to the training data\n",
        "\n",
        "#grid_search.fit(X_train_scaled_resampled, y_train_scaled_resampled)\n",
        "\n",
        "clf_gradient_boost.fit(X_train_scaled_resampled, y_train_scaled_resampled)\n",
        "y_pred = clf_gradient_boost.predict(X_test_scaled)"
      ]
    },
    {
      "cell_type": "code",
      "execution_count": 293,
      "metadata": {
        "id": "7XDcjckx-E-l"
      },
      "outputs": [
        {
          "name": "stdout",
          "output_type": "stream",
          "text": [
            "The accuracy is: 71.08%\n"
          ]
        }
      ],
      "source": [
        "accuracy = clf_gradient_boost.score(X_test_scaled, y_test)\n",
        "print(f'The accuracy is: {accuracy:.2%}')"
      ]
    },
    {
      "cell_type": "code",
      "execution_count": 294,
      "metadata": {
        "id": "qaTirt7C-FCf"
      },
      "outputs": [
        {
          "name": "stdout",
          "output_type": "stream",
          "text": [
            "              precision    recall  f1-score   support\n",
            "\n",
            "           0       0.96      0.72      0.82     56203\n",
            "           1       0.17      0.66      0.27      4964\n",
            "\n",
            "    accuracy                           0.71     61167\n",
            "   macro avg       0.56      0.69      0.54     61167\n",
            "weighted avg       0.90      0.71      0.78     61167\n",
            "\n"
          ]
        }
      ],
      "source": [
        "print(classification_report(y_test, y_pred))"
      ]
    },
    {
      "cell_type": "code",
      "execution_count": 295,
      "metadata": {
        "id": "BSJ7pgOb-FI5"
      },
      "outputs": [
        {
          "data": {
            "text/plain": [
              "array([[40209, 15994],\n",
              "       [ 1693,  3271]], dtype=int64)"
            ]
          },
          "execution_count": 295,
          "metadata": {},
          "output_type": "execute_result"
        }
      ],
      "source": [
        "confusion_matrix(y_test, y_pred)"
      ]
    },
    {
      "cell_type": "code",
      "execution_count": 296,
      "metadata": {
        "id": "omTqIdiiHiqm"
      },
      "outputs": [
        {
          "name": "stdout",
          "output_type": "stream",
          "text": [
            "0.7531583807879125\n"
          ]
        }
      ],
      "source": [
        "# plot the ROC curve\n",
        "\n",
        "y_proba = clf_gradient_boost.predict_proba(X_test_scaled)[:, 1]\n",
        "\n",
        "fpr, tpr, thresholds = roc_curve(y_test, y_proba)\n",
        "auc = roc_auc_score(y_test, y_proba)\n",
        "print(auc)"
      ]
    },
    {
      "cell_type": "code",
      "execution_count": 297,
      "metadata": {
        "id": "YW7_a6m0Hiyy"
      },
      "outputs": [
        {
          "data": {
            "image/png": "[encoded data removed]",
            "text/plain": [
              "<Figure size 960x480 with 1 Axes>"
            ]
          },
          "metadata": {},
          "output_type": "display_data"
        }
      ],
      "source": [
        "plt.plot(fpr, tpr, label = f'AUC: {auc:.2f}')\n",
        "plt.plot([0, 1], [0, 1], linestyle = '--', color = 'gray', label = 'Random Guess')\n",
        "plt.title('Receiver Operating Characteristic (ROC) Curve')\n",
        "plt.xlabel('False Positive Rate')\n",
        "plt.ylabel('True Positive Rate')\n",
        "plt.legend(loc = 'lower right')\n",
        "plt.show()"
      ]
    },
    {
      "cell_type": "code",
      "execution_count": null,
      "metadata": {
        "id": "JMI7tGEsHtif"
      },
      "outputs": [],
      "source": []
    },
    {
      "cell_type": "markdown",
      "metadata": {
        "id": "hsLCQgRsJiMe"
      },
      "source": [
        "## XG Boost"
      ]
    },
    {
      "cell_type": "code",
      "execution_count": 300,
      "metadata": {
        "id": "8MrH_qUPHtth"
      },
      "outputs": [],
      "source": [
        "# create the gradient boost classifier\n",
        "clf_xg_boost = XGBClassifier(random_state = 42)\n",
        "\n",
        "# configure the parameter grid\n",
        "#param_grid = {\n",
        "#    'criterion' : ['gini', 'entropy'],\n",
        "#    'max_depth' : [None, 10, 20, 30],\n",
        "#  }\n",
        "\n",
        "# create the grid search object\n",
        "#grid_search = GridSearchCV(clf_random_forest, param_grid, scoring = 'accuracy')"
      ]
    },
    {
      "cell_type": "code",
      "execution_count": 301,
      "metadata": {
        "id": "1zcfBl99Jv_5"
      },
      "outputs": [],
      "source": [
        "# fit the model to the training data\n",
        "\n",
        "#grid_search.fit(X_train_scaled_resampled, y_train_scaled_resampled)\n",
        "\n",
        "clf_xg_boost.fit(X_train_scaled_resampled, y_train_scaled_resampled)\n",
        "y_pred = clf_xg_boost.predict(X_test_scaled)"
      ]
    },
    {
      "cell_type": "code",
      "execution_count": 302,
      "metadata": {
        "id": "Vk-0fcbxJwNl"
      },
      "outputs": [
        {
          "name": "stdout",
          "output_type": "stream",
          "text": [
            "The accuracy is: 77.39%\n"
          ]
        }
      ],
      "source": [
        "accuracy = clf_xg_boost.score(X_test_scaled, y_test)\n",
        "print(f'The accuracy is: {accuracy:.2%}')"
      ]
    },
    {
      "cell_type": "code",
      "execution_count": 303,
      "metadata": {
        "id": "3Xbs8YRNKnnK"
      },
      "outputs": [
        {
          "name": "stdout",
          "output_type": "stream",
          "text": [
            "              precision    recall  f1-score   support\n",
            "\n",
            "           0       0.95      0.79      0.87     56203\n",
            "           1       0.19      0.54      0.28      4964\n",
            "\n",
            "    accuracy                           0.77     61167\n",
            "   macro avg       0.57      0.67      0.57     61167\n",
            "weighted avg       0.89      0.77      0.82     61167\n",
            "\n"
          ]
        }
      ],
      "source": [
        "print(classification_report(y_test, y_pred))\n"
      ]
    },
    {
      "cell_type": "code",
      "execution_count": 304,
      "metadata": {
        "id": "pMFuTDl4JwQ7"
      },
      "outputs": [
        {
          "data": {
            "text/plain": [
              "array([[44666, 11537],\n",
              "       [ 2290,  2674]], dtype=int64)"
            ]
          },
          "execution_count": 304,
          "metadata": {},
          "output_type": "execute_result"
        }
      ],
      "source": [
        "confusion_matrix(y_test, y_pred)\n"
      ]
    },
    {
      "cell_type": "code",
      "execution_count": null,
      "metadata": {},
      "outputs": [],
      "source": []
    },
    {
      "cell_type": "code",
      "execution_count": null,
      "metadata": {},
      "outputs": [],
      "source": []
    },
    {
      "cell_type": "code",
      "execution_count": 318,
      "metadata": {
        "id": "NFuCozqBJwUf"
      },
      "outputs": [
        {
          "name": "stdout",
          "output_type": "stream",
          "text": [
            "0.733491506621638\n"
          ]
        }
      ],
      "source": [
        "# plot the ROC curve\n",
        "\n",
        "y_proba = clf_xg_boost.predict_proba(X_test_scaled)[:, 1]\n",
        "\n",
        "fpr, tpr, thresholds = roc_curve(y_test, y_proba)\n",
        "auc = roc_auc_score(y_test, y_proba)\n",
        "print(auc)\n"
      ]
    },
    {
      "cell_type": "code",
      "execution_count": 319,
      "metadata": {
        "id": "mx4oFE-IJwXo"
      },
      "outputs": [
        {
          "data": {
            "image/png": "[encoded data removed]",
            "text/plain": [
              "<Figure size 960x480 with 1 Axes>"
            ]
          },
          "metadata": {},
          "output_type": "display_data"
        }
      ],
      "source": [
        "plt.plot(fpr, tpr, label = f'AUC: {auc:.2f}')\n",
        "plt.plot([0, 1], [0, 1], linestyle = '--', color = 'gray', label = 'Random Guess')\n",
        "plt.title('Receiver Operating Characteristic (ROC) Curve')\n",
        "plt.xlabel('False Positive Rate')\n",
        "plt.ylabel('True Positive Rate')\n",
        "plt.legend(loc = 'lower right')\n",
        "plt.show()"
      ]
    },
    {
      "cell_type": "code",
      "execution_count": null,
      "metadata": {},
      "outputs": [],
      "source": []
    },
    {
      "cell_type": "code",
      "execution_count": null,
      "metadata": {},
      "outputs": [],
      "source": []
    },
    {
      "cell_type": "markdown",
      "metadata": {},
      "source": [
        "## Cross Validation"
      ]
    },
    {
      "cell_type": "code",
      "execution_count": 182,
      "metadata": {},
      "outputs": [],
      "source": [
        "from sklearn.model_selection import cross_val_score"
      ]
    },
    {
      "cell_type": "code",
      "execution_count": 183,
      "metadata": {},
      "outputs": [],
      "source": [
        "scores = cross_val_score(XGBClassifier(random_state = 42), X_train_scaled_resampled, y_train_scaled_resampled, cv=5, scoring='accuracy')"
      ]
    },
    {
      "cell_type": "code",
      "execution_count": 184,
      "metadata": {},
      "outputs": [
        {
          "data": {
            "text/plain": [
              "array([0.76918117, 0.76842527, 0.76576847, 0.77067932, 0.76824483])"
            ]
          },
          "execution_count": 184,
          "metadata": {},
          "output_type": "execute_result"
        }
      ],
      "source": [
        "scores"
      ]
    },
    {
      "cell_type": "code",
      "execution_count": 187,
      "metadata": {},
      "outputs": [],
      "source": [
        "scores = cross_val_score(XGBClassifier(random_state = 42), X_train, y_train, cv=5, scoring='accuracy')"
      ]
    },
    {
      "cell_type": "code",
      "execution_count": 188,
      "metadata": {},
      "outputs": [
        {
          "data": {
            "text/plain": [
              "array([0.91889075, 0.91876814, 0.91856212, 0.91944087, 0.91925694])"
            ]
          },
          "execution_count": 188,
          "metadata": {},
          "output_type": "execute_result"
        }
      ],
      "source": [
        "scores"
      ]
    },
    {
      "cell_type": "code",
      "execution_count": 194,
      "metadata": {},
      "outputs": [
        {
          "data": {
            "text/plain": [
              "array([0.91889075, 0.91876814, 0.91856212, 0.91944087, 0.91925694])"
            ]
          },
          "execution_count": 194,
          "metadata": {},
          "output_type": "execute_result"
        }
      ],
      "source": [
        "scores"
      ]
    },
    {
      "cell_type": "code",
      "execution_count": 195,
      "metadata": {},
      "outputs": [
        {
          "name": "stderr",
          "output_type": "stream",
          "text": [
            "c:\\Users\\paulh\\anaconda3\\lib\\site-packages\\xgboost\\core.py:160: UserWarning: [19:32:55] WARNING: C:\\buildkite-agent\\builds\\buildkite-windows-cpu-autoscaling-group-i-0750514818a16474a-1\\xgboost\\xgboost-ci-windows\\src\\learner.cc:742: \n",
            "Parameters: { \"class_weight\" } are not used.\n",
            "\n",
            "  warnings.warn(smsg, UserWarning)\n"
          ]
        }
      ],
      "source": [
        "clf_xg_boost = XGBClassifier(random_state = 42)\n",
        "clf_xg_boost.fit(X_train_scaled, y_train)\n",
        "y_pred = clf_xg_boost.predict(X_test)"
      ]
    },
    {
      "cell_type": "code",
      "execution_count": 196,
      "metadata": {},
      "outputs": [
        {
          "name": "stdout",
          "output_type": "stream",
          "text": [
            "The accuracy is: 57.95%\n"
          ]
        }
      ],
      "source": [
        "accuracy = clf_xg_boost.score(X_test_scaled, y_test)\n",
        "print(f'The accuracy is: {accuracy:.2%}')"
      ]
    },
    {
      "cell_type": "code",
      "execution_count": 202,
      "metadata": {},
      "outputs": [],
      "source": [
        "X_train_resampled, y_train_resampled = RandomOverSampler(random_state=seed).fit_resample(X_train, y_train)"
      ]
    },
    {
      "cell_type": "code",
      "execution_count": 299,
      "metadata": {},
      "outputs": [
        {
          "ename": "NameError",
          "evalue": "name 'X_test_scaled_resampled' is not defined",
          "output_type": "error",
          "traceback": [
            "\u001b[1;31m---------------------------------------------------------------------------\u001b[0m",
            "\u001b[1;31mNameError\u001b[0m                                 Traceback (most recent call last)",
            "\u001b[1;32m~\\AppData\\Local\\Temp/ipykernel_65640/1211736953.py\u001b[0m in \u001b[0;36m<module>\u001b[1;34m\u001b[0m\n\u001b[1;32m----> 1\u001b[1;33m \u001b[0mX_test_scaled_resampled\u001b[0m\u001b[1;33m\u001b[0m\u001b[1;33m\u001b[0m\u001b[0m\n\u001b[0m",
            "\u001b[1;31mNameError\u001b[0m: name 'X_test_scaled_resampled' is not defined"
          ]
        }
      ],
      "source": [
        "X_test_scaled_resampled"
      ]
    },
    {
      "cell_type": "code",
      "execution_count": 200,
      "metadata": {},
      "outputs": [
        {
          "data": {
            "text/html": [
              "<div>\n",
              "<style scoped>\n",
              "    .dataframe tbody tr th:only-of-type {\n",
              "        vertical-align: middle;\n",
              "    }\n",
              "\n",
              "    .dataframe tbody tr th {\n",
              "        vertical-align: top;\n",
              "    }\n",
              "\n",
              "    .dataframe thead th {\n",
              "        text-align: right;\n",
              "    }\n",
              "</style>\n",
              "<table border=\"1\" class=\"dataframe\">\n",
              "  <thead>\n",
              "    <tr style=\"text-align: right;\">\n",
              "      <th></th>\n",
              "      <th>sk_id_curr</th>\n",
              "      <th>cnt_children</th>\n",
              "      <th>amt_income_total</th>\n",
              "      <th>amt_credit</th>\n",
              "      <th>amt_annuity</th>\n",
              "      <th>amt_goods_price</th>\n",
              "      <th>region_population_relative</th>\n",
              "      <th>days_birth</th>\n",
              "      <th>days_employed</th>\n",
              "      <th>days_registration</th>\n",
              "      <th>...</th>\n",
              "      <th>organization_type_Transport: type 2</th>\n",
              "      <th>organization_type_Transport: type 3</th>\n",
              "      <th>organization_type_Transport: type 4</th>\n",
              "      <th>organization_type_University</th>\n",
              "      <th>organization_type_XNA</th>\n",
              "      <th>fondkapremont_mode_missing</th>\n",
              "      <th>fondkapremont_mode_not specified</th>\n",
              "      <th>fondkapremont_mode_org spec account</th>\n",
              "      <th>fondkapremont_mode_reg oper account</th>\n",
              "      <th>fondkapremont_mode_reg oper spec account</th>\n",
              "    </tr>\n",
              "  </thead>\n",
              "  <tbody>\n",
              "    <tr>\n",
              "      <th>0</th>\n",
              "      <td>232026</td>\n",
              "      <td>0</td>\n",
              "      <td>81000.0</td>\n",
              "      <td>942300.0</td>\n",
              "      <td>30528.0</td>\n",
              "      <td>675000.0</td>\n",
              "      <td>0.006008</td>\n",
              "      <td>-17663</td>\n",
              "      <td>-237</td>\n",
              "      <td>-488.0</td>\n",
              "      <td>...</td>\n",
              "      <td>False</td>\n",
              "      <td>False</td>\n",
              "      <td>False</td>\n",
              "      <td>False</td>\n",
              "      <td>False</td>\n",
              "      <td>True</td>\n",
              "      <td>False</td>\n",
              "      <td>False</td>\n",
              "      <td>False</td>\n",
              "      <td>False</td>\n",
              "    </tr>\n",
              "    <tr>\n",
              "      <th>1</th>\n",
              "      <td>367885</td>\n",
              "      <td>0</td>\n",
              "      <td>112500.0</td>\n",
              "      <td>314100.0</td>\n",
              "      <td>13437.0</td>\n",
              "      <td>225000.0</td>\n",
              "      <td>0.020246</td>\n",
              "      <td>-24088</td>\n",
              "      <td>365243</td>\n",
              "      <td>-10075.0</td>\n",
              "      <td>...</td>\n",
              "      <td>False</td>\n",
              "      <td>False</td>\n",
              "      <td>False</td>\n",
              "      <td>False</td>\n",
              "      <td>True</td>\n",
              "      <td>False</td>\n",
              "      <td>False</td>\n",
              "      <td>False</td>\n",
              "      <td>True</td>\n",
              "      <td>False</td>\n",
              "    </tr>\n",
              "    <tr>\n",
              "      <th>2</th>\n",
              "      <td>252536</td>\n",
              "      <td>1</td>\n",
              "      <td>81000.0</td>\n",
              "      <td>894766.5</td>\n",
              "      <td>29569.5</td>\n",
              "      <td>679500.0</td>\n",
              "      <td>0.008019</td>\n",
              "      <td>-14657</td>\n",
              "      <td>-845</td>\n",
              "      <td>-9285.0</td>\n",
              "      <td>...</td>\n",
              "      <td>False</td>\n",
              "      <td>False</td>\n",
              "      <td>False</td>\n",
              "      <td>False</td>\n",
              "      <td>False</td>\n",
              "      <td>True</td>\n",
              "      <td>False</td>\n",
              "      <td>False</td>\n",
              "      <td>False</td>\n",
              "      <td>False</td>\n",
              "    </tr>\n",
              "    <tr>\n",
              "      <th>3</th>\n",
              "      <td>432885</td>\n",
              "      <td>2</td>\n",
              "      <td>56250.0</td>\n",
              "      <td>319981.5</td>\n",
              "      <td>16465.5</td>\n",
              "      <td>243000.0</td>\n",
              "      <td>0.008068</td>\n",
              "      <td>-13965</td>\n",
              "      <td>-92</td>\n",
              "      <td>-153.0</td>\n",
              "      <td>...</td>\n",
              "      <td>False</td>\n",
              "      <td>False</td>\n",
              "      <td>False</td>\n",
              "      <td>False</td>\n",
              "      <td>False</td>\n",
              "      <td>True</td>\n",
              "      <td>False</td>\n",
              "      <td>False</td>\n",
              "      <td>False</td>\n",
              "      <td>False</td>\n",
              "    </tr>\n",
              "    <tr>\n",
              "      <th>4</th>\n",
              "      <td>266655</td>\n",
              "      <td>0</td>\n",
              "      <td>90000.0</td>\n",
              "      <td>71109.0</td>\n",
              "      <td>5746.5</td>\n",
              "      <td>54000.0</td>\n",
              "      <td>0.009334</td>\n",
              "      <td>-19417</td>\n",
              "      <td>-1672</td>\n",
              "      <td>-6784.0</td>\n",
              "      <td>...</td>\n",
              "      <td>False</td>\n",
              "      <td>False</td>\n",
              "      <td>False</td>\n",
              "      <td>False</td>\n",
              "      <td>False</td>\n",
              "      <td>False</td>\n",
              "      <td>False</td>\n",
              "      <td>False</td>\n",
              "      <td>True</td>\n",
              "      <td>False</td>\n",
              "    </tr>\n",
              "    <tr>\n",
              "      <th>...</th>\n",
              "      <td>...</td>\n",
              "      <td>...</td>\n",
              "      <td>...</td>\n",
              "      <td>...</td>\n",
              "      <td>...</td>\n",
              "      <td>...</td>\n",
              "      <td>...</td>\n",
              "      <td>...</td>\n",
              "      <td>...</td>\n",
              "      <td>...</td>\n",
              "      <td>...</td>\n",
              "      <td>...</td>\n",
              "      <td>...</td>\n",
              "      <td>...</td>\n",
              "      <td>...</td>\n",
              "      <td>...</td>\n",
              "      <td>...</td>\n",
              "      <td>...</td>\n",
              "      <td>...</td>\n",
              "      <td>...</td>\n",
              "      <td>...</td>\n",
              "    </tr>\n",
              "    <tr>\n",
              "      <th>449783</th>\n",
              "      <td>136610</td>\n",
              "      <td>0</td>\n",
              "      <td>146250.0</td>\n",
              "      <td>497520.0</td>\n",
              "      <td>31923.0</td>\n",
              "      <td>450000.0</td>\n",
              "      <td>0.020246</td>\n",
              "      <td>-24348</td>\n",
              "      <td>365243</td>\n",
              "      <td>-1129.0</td>\n",
              "      <td>...</td>\n",
              "      <td>False</td>\n",
              "      <td>False</td>\n",
              "      <td>False</td>\n",
              "      <td>False</td>\n",
              "      <td>True</td>\n",
              "      <td>True</td>\n",
              "      <td>False</td>\n",
              "      <td>False</td>\n",
              "      <td>False</td>\n",
              "      <td>False</td>\n",
              "    </tr>\n",
              "    <tr>\n",
              "      <th>449784</th>\n",
              "      <td>123900</td>\n",
              "      <td>2</td>\n",
              "      <td>112500.0</td>\n",
              "      <td>454500.0</td>\n",
              "      <td>24786.0</td>\n",
              "      <td>454500.0</td>\n",
              "      <td>0.028663</td>\n",
              "      <td>-14497</td>\n",
              "      <td>-576</td>\n",
              "      <td>-8603.0</td>\n",
              "      <td>...</td>\n",
              "      <td>False</td>\n",
              "      <td>False</td>\n",
              "      <td>False</td>\n",
              "      <td>False</td>\n",
              "      <td>False</td>\n",
              "      <td>False</td>\n",
              "      <td>False</td>\n",
              "      <td>False</td>\n",
              "      <td>True</td>\n",
              "      <td>False</td>\n",
              "    </tr>\n",
              "    <tr>\n",
              "      <th>449785</th>\n",
              "      <td>125283</td>\n",
              "      <td>0</td>\n",
              "      <td>58500.0</td>\n",
              "      <td>401386.5</td>\n",
              "      <td>21901.5</td>\n",
              "      <td>346500.0</td>\n",
              "      <td>0.010966</td>\n",
              "      <td>-21410</td>\n",
              "      <td>365243</td>\n",
              "      <td>-10213.0</td>\n",
              "      <td>...</td>\n",
              "      <td>False</td>\n",
              "      <td>False</td>\n",
              "      <td>False</td>\n",
              "      <td>False</td>\n",
              "      <td>True</td>\n",
              "      <td>True</td>\n",
              "      <td>False</td>\n",
              "      <td>False</td>\n",
              "      <td>False</td>\n",
              "      <td>False</td>\n",
              "    </tr>\n",
              "    <tr>\n",
              "      <th>449786</th>\n",
              "      <td>163359</td>\n",
              "      <td>0</td>\n",
              "      <td>180000.0</td>\n",
              "      <td>310671.0</td>\n",
              "      <td>15241.5</td>\n",
              "      <td>256500.0</td>\n",
              "      <td>0.006305</td>\n",
              "      <td>-13038</td>\n",
              "      <td>-699</td>\n",
              "      <td>-1154.0</td>\n",
              "      <td>...</td>\n",
              "      <td>False</td>\n",
              "      <td>False</td>\n",
              "      <td>False</td>\n",
              "      <td>False</td>\n",
              "      <td>False</td>\n",
              "      <td>True</td>\n",
              "      <td>False</td>\n",
              "      <td>False</td>\n",
              "      <td>False</td>\n",
              "      <td>False</td>\n",
              "    </tr>\n",
              "    <tr>\n",
              "      <th>449787</th>\n",
              "      <td>387505</td>\n",
              "      <td>0</td>\n",
              "      <td>121500.0</td>\n",
              "      <td>742500.0</td>\n",
              "      <td>31590.0</td>\n",
              "      <td>742500.0</td>\n",
              "      <td>0.014464</td>\n",
              "      <td>-16771</td>\n",
              "      <td>-587</td>\n",
              "      <td>-2566.0</td>\n",
              "      <td>...</td>\n",
              "      <td>False</td>\n",
              "      <td>False</td>\n",
              "      <td>False</td>\n",
              "      <td>False</td>\n",
              "      <td>False</td>\n",
              "      <td>True</td>\n",
              "      <td>False</td>\n",
              "      <td>False</td>\n",
              "      <td>False</td>\n",
              "      <td>False</td>\n",
              "    </tr>\n",
              "  </tbody>\n",
              "</table>\n",
              "<p>449788 rows × 204 columns</p>\n",
              "</div>"
            ],
            "text/plain": [
              "        sk_id_curr  cnt_children  amt_income_total  amt_credit  amt_annuity  \\\n",
              "0           232026             0           81000.0    942300.0      30528.0   \n",
              "1           367885             0          112500.0    314100.0      13437.0   \n",
              "2           252536             1           81000.0    894766.5      29569.5   \n",
              "3           432885             2           56250.0    319981.5      16465.5   \n",
              "4           266655             0           90000.0     71109.0       5746.5   \n",
              "...            ...           ...               ...         ...          ...   \n",
              "449783      136610             0          146250.0    497520.0      31923.0   \n",
              "449784      123900             2          112500.0    454500.0      24786.0   \n",
              "449785      125283             0           58500.0    401386.5      21901.5   \n",
              "449786      163359             0          180000.0    310671.0      15241.5   \n",
              "449787      387505             0          121500.0    742500.0      31590.0   \n",
              "\n",
              "        amt_goods_price  region_population_relative  days_birth  \\\n",
              "0              675000.0                    0.006008      -17663   \n",
              "1              225000.0                    0.020246      -24088   \n",
              "2              679500.0                    0.008019      -14657   \n",
              "3              243000.0                    0.008068      -13965   \n",
              "4               54000.0                    0.009334      -19417   \n",
              "...                 ...                         ...         ...   \n",
              "449783         450000.0                    0.020246      -24348   \n",
              "449784         454500.0                    0.028663      -14497   \n",
              "449785         346500.0                    0.010966      -21410   \n",
              "449786         256500.0                    0.006305      -13038   \n",
              "449787         742500.0                    0.014464      -16771   \n",
              "\n",
              "        days_employed  days_registration  ...  \\\n",
              "0                -237             -488.0  ...   \n",
              "1              365243           -10075.0  ...   \n",
              "2                -845            -9285.0  ...   \n",
              "3                 -92             -153.0  ...   \n",
              "4               -1672            -6784.0  ...   \n",
              "...               ...                ...  ...   \n",
              "449783         365243            -1129.0  ...   \n",
              "449784           -576            -8603.0  ...   \n",
              "449785         365243           -10213.0  ...   \n",
              "449786           -699            -1154.0  ...   \n",
              "449787           -587            -2566.0  ...   \n",
              "\n",
              "        organization_type_Transport: type 2  \\\n",
              "0                                     False   \n",
              "1                                     False   \n",
              "2                                     False   \n",
              "3                                     False   \n",
              "4                                     False   \n",
              "...                                     ...   \n",
              "449783                                False   \n",
              "449784                                False   \n",
              "449785                                False   \n",
              "449786                                False   \n",
              "449787                                False   \n",
              "\n",
              "        organization_type_Transport: type 3  \\\n",
              "0                                     False   \n",
              "1                                     False   \n",
              "2                                     False   \n",
              "3                                     False   \n",
              "4                                     False   \n",
              "...                                     ...   \n",
              "449783                                False   \n",
              "449784                                False   \n",
              "449785                                False   \n",
              "449786                                False   \n",
              "449787                                False   \n",
              "\n",
              "        organization_type_Transport: type 4  organization_type_University  \\\n",
              "0                                     False                         False   \n",
              "1                                     False                         False   \n",
              "2                                     False                         False   \n",
              "3                                     False                         False   \n",
              "4                                     False                         False   \n",
              "...                                     ...                           ...   \n",
              "449783                                False                         False   \n",
              "449784                                False                         False   \n",
              "449785                                False                         False   \n",
              "449786                                False                         False   \n",
              "449787                                False                         False   \n",
              "\n",
              "        organization_type_XNA  fondkapremont_mode_missing  \\\n",
              "0                       False                        True   \n",
              "1                        True                       False   \n",
              "2                       False                        True   \n",
              "3                       False                        True   \n",
              "4                       False                       False   \n",
              "...                       ...                         ...   \n",
              "449783                   True                        True   \n",
              "449784                  False                       False   \n",
              "449785                   True                        True   \n",
              "449786                  False                        True   \n",
              "449787                  False                        True   \n",
              "\n",
              "        fondkapremont_mode_not specified  fondkapremont_mode_org spec account  \\\n",
              "0                                  False                                False   \n",
              "1                                  False                                False   \n",
              "2                                  False                                False   \n",
              "3                                  False                                False   \n",
              "4                                  False                                False   \n",
              "...                                  ...                                  ...   \n",
              "449783                             False                                False   \n",
              "449784                             False                                False   \n",
              "449785                             False                                False   \n",
              "449786                             False                                False   \n",
              "449787                             False                                False   \n",
              "\n",
              "        fondkapremont_mode_reg oper account  \\\n",
              "0                                     False   \n",
              "1                                      True   \n",
              "2                                     False   \n",
              "3                                     False   \n",
              "4                                      True   \n",
              "...                                     ...   \n",
              "449783                                False   \n",
              "449784                                 True   \n",
              "449785                                False   \n",
              "449786                                False   \n",
              "449787                                False   \n",
              "\n",
              "        fondkapremont_mode_reg oper spec account  \n",
              "0                                          False  \n",
              "1                                          False  \n",
              "2                                          False  \n",
              "3                                          False  \n",
              "4                                          False  \n",
              "...                                          ...  \n",
              "449783                                     False  \n",
              "449784                                     False  \n",
              "449785                                     False  \n",
              "449786                                     False  \n",
              "449787                                     False  \n",
              "\n",
              "[449788 rows x 204 columns]"
            ]
          },
          "execution_count": 200,
          "metadata": {},
          "output_type": "execute_result"
        }
      ],
      "source": [
        "X_train_resampled"
      ]
    },
    {
      "cell_type": "code",
      "execution_count": null,
      "metadata": {},
      "outputs": [],
      "source": [
        "\n",
        "X_test_resampled = RandomOverSampler(random_state=seed).fit_resample(X_test, y_test)[0]"
      ]
    },
    {
      "cell_type": "code",
      "execution_count": null,
      "metadata": {},
      "outputs": [],
      "source": [
        "X_train_resampled"
      ]
    },
    {
      "cell_type": "code",
      "execution_count": null,
      "metadata": {},
      "outputs": [],
      "source": []
    },
    {
      "cell_type": "code",
      "execution_count": null,
      "metadata": {},
      "outputs": [],
      "source": []
    },
    {
      "cell_type": "markdown",
      "metadata": {},
      "source": [
        "## XGBoost with PCA"
      ]
    },
    {
      "cell_type": "code",
      "execution_count": null,
      "metadata": {},
      "outputs": [],
      "source": []
    },
    {
      "cell_type": "markdown",
      "metadata": {},
      "source": [
        "## XGBoost with Bagging"
      ]
    },
    {
      "cell_type": "code",
      "execution_count": 298,
      "metadata": {},
      "outputs": [],
      "source": [
        "from sklearn.ensemble import BaggingClassifier"
      ]
    },
    {
      "cell_type": "code",
      "execution_count": 325,
      "metadata": {},
      "outputs": [],
      "source": [
        "clf_xg_boost = XGBClassifier(random_state = 42,\n",
        "                             n_estimators = 1000,\n",
        "                             #max_depth = 10,\n",
        "                             #learning_rate = 0.10,\n",
        "                             #reg_lambda = 1\n",
        "                             )"
      ]
    },
    {
      "cell_type": "code",
      "execution_count": 326,
      "metadata": {},
      "outputs": [],
      "source": [
        "clf_xg_boost.fit(X_train_scaled_resampled, y_train_scaled_resampled)\n",
        "y_pred = clf_xg_boost.predict(X_test_scaled)"
      ]
    },
    {
      "cell_type": "code",
      "execution_count": null,
      "metadata": {},
      "outputs": [],
      "source": [
        "print(classification_report(y_test, y_pred))\n",
        "# plot the ROC curve\n",
        "\n",
        "y_proba = clf_xg_boost.predict_proba(X_test_scaled)[:, 1]\n",
        "\n",
        "fpr, tpr, thresholds = roc_curve(y_test, y_proba)\n",
        "auc = roc_auc_score(y_test, y_proba)\n",
        "print(auc)\n"
      ]
    },
    {
      "cell_type": "code",
      "execution_count": 323,
      "metadata": {},
      "outputs": [
        {
          "name": "stdout",
          "output_type": "stream",
          "text": [
            "              precision    recall  f1-score   support\n",
            "\n",
            "           0       0.92      0.99      0.96     56203\n",
            "           1       0.35      0.05      0.09      4964\n",
            "\n",
            "    accuracy                           0.92     61167\n",
            "   macro avg       0.64      0.52      0.52     61167\n",
            "weighted avg       0.88      0.92      0.89     61167\n",
            "\n",
            "0.6724484899715222\n"
          ]
        }
      ],
      "source": [
        "print(classification_report(y_test, y_pred))\n",
        "# plot the ROC curve\n",
        "\n",
        "y_proba = clf_xg_boost.predict_proba(X_test_scaled)[:, 1]\n",
        "\n",
        "fpr, tpr, thresholds = roc_curve(y_test, y_proba)\n",
        "auc = roc_auc_score(y_test, y_proba)\n",
        "print(auc)\n"
      ]
    },
    {
      "cell_type": "code",
      "execution_count": 324,
      "metadata": {},
      "outputs": [
        {
          "data": {
            "image/png": "[encoded data removed]",
            "text/plain": [
              "<Figure size 960x480 with 1 Axes>"
            ]
          },
          "metadata": {},
          "output_type": "display_data"
        }
      ],
      "source": [
        "plt.plot(fpr, tpr, label = f'AUC: {auc:.2f}')\n",
        "plt.plot([0, 1], [0, 1], linestyle = '--', color = 'gray', label = 'Random Guess')\n",
        "plt.title('Receiver Operating Characteristic (ROC) Curve')\n",
        "plt.xlabel('False Positive Rate')\n",
        "plt.ylabel('True Positive Rate')\n",
        "plt.legend(loc = 'lower right')\n",
        "plt.show()"
      ]
    },
    {
      "cell_type": "code",
      "execution_count": null,
      "metadata": {},
      "outputs": [],
      "source": [
        "bag = BaggingClassifier(base_estimator = clf_xg_boost, \n",
        "                        n_estimators = 500, \n",
        "                        random_state = 42,\n",
        "                        max_samples = 1.0, \n",
        "                        max_features = 1.0, \n",
        "                        bootstrap = True, \n",
        "                        bootstrap_features = False, \n",
        "                        n_jobs = -1)"
      ]
    },
    {
      "cell_type": "code",
      "execution_count": null,
      "metadata": {},
      "outputs": [],
      "source": []
    },
    {
      "cell_type": "code",
      "execution_count": null,
      "metadata": {},
      "outputs": [],
      "source": []
    },
    {
      "cell_type": "code",
      "execution_count": null,
      "metadata": {},
      "outputs": [],
      "source": []
    },
    {
      "cell_type": "markdown",
      "metadata": {
        "id": "x-3bb1GjzDuG"
      },
      "source": [
        "# Challenges and Obstacles\n",
        "\n",
        "TO DO\n",
        "\n",
        "* grid search with 5-fold cross-validation takes a long time!"
      ]
    },
    {
      "cell_type": "markdown",
      "metadata": {
        "id": "wJPtJXl7zGdX"
      },
      "source": [
        "# Potential Next Steps / Future Direction\n",
        "\n",
        "TO DO\n",
        "\n",
        "could do AutoML"
      ]
    }
  ],
  "metadata": {
    "colab": {
      "provenance": []
    },
    "kernelspec": {
      "display_name": "Python 3",
      "name": "python3"
    },
    "language_info": {
      "codemirror_mode": {
        "name": "ipython",
        "version": 3
      },
      "file_extension": ".py",
      "mimetype": "text/x-python",
      "name": "python",
      "nbconvert_exporter": "python",
      "pygments_lexer": "ipython3",
      "version": "3.9.7"
    },
    "widgets": {
      "application/vnd.jupyter.widget-state+json": {
        "141d772f68454cd992e19bbb2d5dbdff": {
          "model_module": "@jupyter-widgets/controls",
          "model_module_version": "1.5.0",
          "model_name": "HTMLModel",
          "state": {
            "_dom_classes": [],
            "_model_module": "@jupyter-widgets/controls",
            "_model_module_version": "1.5.0",
            "_model_name": "HTMLModel",
            "_view_count": null,
            "_view_module": "@jupyter-widgets/controls",
            "_view_module_version": "1.5.0",
            "_view_name": "HTMLView",
            "description": "",
            "description_tooltip": null,
            "layout": "IPY_MODEL_fdb968d243044321ac5d2cd99bd74786",
            "placeholder": "​",
            "style": "IPY_MODEL_197ddbd588b744b5b6e2268187397601",
            "value": " 8/8 [01:24&lt;00:00,  5.73s/it]"
          }
        },
        "1760dcf5edf64c9dbaf68a3e703e3f3d": {
          "model_module": "@jupyter-widgets/controls",
          "model_module_version": "1.5.0",
          "model_name": "ProgressStyleModel",
          "state": {
            "_model_module": "@jupyter-widgets/controls",
            "_model_module_version": "1.5.0",
            "_model_name": "ProgressStyleModel",
            "_view_count": null,
            "_view_module": "@jupyter-widgets/base",
            "_view_module_version": "1.2.0",
            "_view_name": "StyleView",
            "bar_color": null,
            "description_width": ""
          }
        },
        "17c4fca577f6470e82c5155446251960": {
          "model_module": "@jupyter-widgets/controls",
          "model_module_version": "1.5.0",
          "model_name": "FloatProgressModel",
          "state": {
            "_dom_classes": [],
            "_model_module": "@jupyter-widgets/controls",
            "_model_module_version": "1.5.0",
            "_model_name": "FloatProgressModel",
            "_view_count": null,
            "_view_module": "@jupyter-widgets/controls",
            "_view_module_version": "1.5.0",
            "_view_name": "ProgressView",
            "bar_style": "success",
            "description": "",
            "description_tooltip": null,
            "layout": "IPY_MODEL_323cadcdc7ed4954b9aaaafb571bee1c",
            "max": 8,
            "min": 0,
            "orientation": "horizontal",
            "style": "IPY_MODEL_1760dcf5edf64c9dbaf68a3e703e3f3d",
            "value": 8
          }
        },
        "197ddbd588b744b5b6e2268187397601": {
          "model_module": "@jupyter-widgets/controls",
          "model_module_version": "1.5.0",
          "model_name": "DescriptionStyleModel",
          "state": {
            "_model_module": "@jupyter-widgets/controls",
            "_model_module_version": "1.5.0",
            "_model_name": "DescriptionStyleModel",
            "_view_count": null,
            "_view_module": "@jupyter-widgets/base",
            "_view_module_version": "1.2.0",
            "_view_name": "StyleView",
            "description_width": ""
          }
        },
        "2e0d5fdfa25e4ab6982ea502f59bbaff": {
          "model_module": "@jupyter-widgets/base",
          "model_module_version": "1.2.0",
          "model_name": "LayoutModel",
          "state": {
            "_model_module": "@jupyter-widgets/base",
            "_model_module_version": "1.2.0",
            "_model_name": "LayoutModel",
            "_view_count": null,
            "_view_module": "@jupyter-widgets/base",
            "_view_module_version": "1.2.0",
            "_view_name": "LayoutView",
            "align_content": null,
            "align_items": null,
            "align_self": null,
            "border": null,
            "bottom": null,
            "display": null,
            "flex": null,
            "flex_flow": null,
            "grid_area": null,
            "grid_auto_columns": null,
            "grid_auto_flow": null,
            "grid_auto_rows": null,
            "grid_column": null,
            "grid_gap": null,
            "grid_row": null,
            "grid_template_areas": null,
            "grid_template_columns": null,
            "grid_template_rows": null,
            "height": null,
            "justify_content": null,
            "justify_items": null,
            "left": null,
            "margin": null,
            "max_height": null,
            "max_width": null,
            "min_height": null,
            "min_width": null,
            "object_fit": null,
            "object_position": null,
            "order": null,
            "overflow": null,
            "overflow_x": null,
            "overflow_y": null,
            "padding": null,
            "right": null,
            "top": null,
            "visibility": null,
            "width": null
          }
        },
        "2f8cc31d20da478cb6df1d07331c4b36": {
          "model_module": "@jupyter-widgets/controls",
          "model_module_version": "1.5.0",
          "model_name": "DescriptionStyleModel",
          "state": {
            "_model_module": "@jupyter-widgets/controls",
            "_model_module_version": "1.5.0",
            "_model_name": "DescriptionStyleModel",
            "_view_count": null,
            "_view_module": "@jupyter-widgets/base",
            "_view_module_version": "1.2.0",
            "_view_name": "StyleView",
            "description_width": ""
          }
        },
        "323cadcdc7ed4954b9aaaafb571bee1c": {
          "model_module": "@jupyter-widgets/base",
          "model_module_version": "1.2.0",
          "model_name": "LayoutModel",
          "state": {
            "_model_module": "@jupyter-widgets/base",
            "_model_module_version": "1.2.0",
            "_model_name": "LayoutModel",
            "_view_count": null,
            "_view_module": "@jupyter-widgets/base",
            "_view_module_version": "1.2.0",
            "_view_name": "LayoutView",
            "align_content": null,
            "align_items": null,
            "align_self": null,
            "border": null,
            "bottom": null,
            "display": null,
            "flex": null,
            "flex_flow": null,
            "grid_area": null,
            "grid_auto_columns": null,
            "grid_auto_flow": null,
            "grid_auto_rows": null,
            "grid_column": null,
            "grid_gap": null,
            "grid_row": null,
            "grid_template_areas": null,
            "grid_template_columns": null,
            "grid_template_rows": null,
            "height": null,
            "justify_content": null,
            "justify_items": null,
            "left": null,
            "margin": null,
            "max_height": null,
            "max_width": null,
            "min_height": null,
            "min_width": null,
            "object_fit": null,
            "object_position": null,
            "order": null,
            "overflow": null,
            "overflow_x": null,
            "overflow_y": null,
            "padding": null,
            "right": null,
            "top": null,
            "visibility": null,
            "width": null
          }
        },
        "b7e8d6d31a2c4a26b39a852db3ea6ac9": {
          "model_module": "@jupyter-widgets/controls",
          "model_module_version": "1.5.0",
          "model_name": "HBoxModel",
          "state": {
            "_dom_classes": [],
            "_model_module": "@jupyter-widgets/controls",
            "_model_module_version": "1.5.0",
            "_model_name": "HBoxModel",
            "_view_count": null,
            "_view_module": "@jupyter-widgets/controls",
            "_view_module_version": "1.5.0",
            "_view_name": "HBoxView",
            "box_style": "",
            "children": [
              "IPY_MODEL_f41c6bc0979f4cb7b0b9a5e20d5c7052",
              "IPY_MODEL_17c4fca577f6470e82c5155446251960",
              "IPY_MODEL_141d772f68454cd992e19bbb2d5dbdff"
            ],
            "layout": "IPY_MODEL_2e0d5fdfa25e4ab6982ea502f59bbaff"
          }
        },
        "e75106e035764330adfef2360a5517c9": {
          "model_module": "@jupyter-widgets/base",
          "model_module_version": "1.2.0",
          "model_name": "LayoutModel",
          "state": {
            "_model_module": "@jupyter-widgets/base",
            "_model_module_version": "1.2.0",
            "_model_name": "LayoutModel",
            "_view_count": null,
            "_view_module": "@jupyter-widgets/base",
            "_view_module_version": "1.2.0",
            "_view_name": "LayoutView",
            "align_content": null,
            "align_items": null,
            "align_self": null,
            "border": null,
            "bottom": null,
            "display": null,
            "flex": null,
            "flex_flow": null,
            "grid_area": null,
            "grid_auto_columns": null,
            "grid_auto_flow": null,
            "grid_auto_rows": null,
            "grid_column": null,
            "grid_gap": null,
            "grid_row": null,
            "grid_template_areas": null,
            "grid_template_columns": null,
            "grid_template_rows": null,
            "height": null,
            "justify_content": null,
            "justify_items": null,
            "left": null,
            "margin": null,
            "max_height": null,
            "max_width": null,
            "min_height": null,
            "min_width": null,
            "object_fit": null,
            "object_position": null,
            "order": null,
            "overflow": null,
            "overflow_x": null,
            "overflow_y": null,
            "padding": null,
            "right": null,
            "top": null,
            "visibility": null,
            "width": null
          }
        },
        "f41c6bc0979f4cb7b0b9a5e20d5c7052": {
          "model_module": "@jupyter-widgets/controls",
          "model_module_version": "1.5.0",
          "model_name": "HTMLModel",
          "state": {
            "_dom_classes": [],
            "_model_module": "@jupyter-widgets/controls",
            "_model_module_version": "1.5.0",
            "_model_name": "HTMLModel",
            "_view_count": null,
            "_view_module": "@jupyter-widgets/controls",
            "_view_module_version": "1.5.0",
            "_view_name": "HTMLView",
            "description": "",
            "description_tooltip": null,
            "layout": "IPY_MODEL_e75106e035764330adfef2360a5517c9",
            "placeholder": "​",
            "style": "IPY_MODEL_2f8cc31d20da478cb6df1d07331c4b36",
            "value": "100%"
          }
        },
        "fdb968d243044321ac5d2cd99bd74786": {
          "model_module": "@jupyter-widgets/base",
          "model_module_version": "1.2.0",
          "model_name": "LayoutModel",
          "state": {
            "_model_module": "@jupyter-widgets/base",
            "_model_module_version": "1.2.0",
            "_model_name": "LayoutModel",
            "_view_count": null,
            "_view_module": "@jupyter-widgets/base",
            "_view_module_version": "1.2.0",
            "_view_name": "LayoutView",
            "align_content": null,
            "align_items": null,
            "align_self": null,
            "border": null,
            "bottom": null,
            "display": null,
            "flex": null,
            "flex_flow": null,
            "grid_area": null,
            "grid_auto_columns": null,
            "grid_auto_flow": null,
            "grid_auto_rows": null,
            "grid_column": null,
            "grid_gap": null,
            "grid_row": null,
            "grid_template_areas": null,
            "grid_template_columns": null,
            "grid_template_rows": null,
            "height": null,
            "justify_content": null,
            "justify_items": null,
            "left": null,
            "margin": null,
            "max_height": null,
            "max_width": null,
            "min_height": null,
            "min_width": null,
            "object_fit": null,
            "object_position": null,
            "order": null,
            "overflow": null,
            "overflow_x": null,
            "overflow_y": null,
            "padding": null,
            "right": null,
            "top": null,
            "visibility": null,
            "width": null
          }
        }
      }
    }
  },
  "nbformat": 4,
  "nbformat_minor": 0
}
